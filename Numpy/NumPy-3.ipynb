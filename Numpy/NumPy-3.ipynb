{
 "cells": [
  {
   "cell_type": "code",
   "execution_count": 1,
   "id": "f47b799e-83e0-4388-a97f-d54aa9367f80",
   "metadata": {},
   "outputs": [],
   "source": [
    "import numpy as np"
   ]
  },
  {
   "cell_type": "code",
   "execution_count": 2,
   "id": "f2bf37df-f488-4242-b605-32ad7c3d071f",
   "metadata": {},
   "outputs": [],
   "source": [
    "ls = [\n",
    "    [\n",
    "        [10,20,30],\n",
    "        [34,45,34]\n",
    "    ],\n",
    "    [\n",
    "        [23,45,23],\n",
    "        [67,89,45]\n",
    "    ],\n",
    "    [\n",
    "        [76,34,78],\n",
    "        [98,56,43]\n",
    "    ]\n",
    "]"
   ]
  },
  {
   "cell_type": "code",
   "execution_count": 3,
   "id": "096a32f5-39d3-4952-a792-e9acde3a00d2",
   "metadata": {},
   "outputs": [
    {
     "data": {
      "text/plain": [
       "array([[[10, 20, 30],\n",
       "        [34, 45, 34]],\n",
       "\n",
       "       [[23, 45, 23],\n",
       "        [67, 89, 45]],\n",
       "\n",
       "       [[76, 34, 78],\n",
       "        [98, 56, 43]]])"
      ]
     },
     "execution_count": 3,
     "metadata": {},
     "output_type": "execute_result"
    }
   ],
   "source": [
    "arr_3d = np.array(ls)\n",
    "arr_3d"
   ]
  },
  {
   "cell_type": "code",
   "execution_count": 4,
   "id": "0fc4247b-d1b9-4e20-aed3-7a0ab934e188",
   "metadata": {},
   "outputs": [
    {
     "data": {
      "text/plain": [
       "3"
      ]
     },
     "execution_count": 4,
     "metadata": {},
     "output_type": "execute_result"
    }
   ],
   "source": [
    "arr_3d.ndim"
   ]
  },
  {
   "cell_type": "code",
   "execution_count": 5,
   "id": "26c47643-cf75-4ded-8a74-24120a43176e",
   "metadata": {},
   "outputs": [
    {
     "data": {
      "text/plain": [
       "(3, 2, 3)"
      ]
     },
     "execution_count": 5,
     "metadata": {},
     "output_type": "execute_result"
    }
   ],
   "source": [
    "arr_3d.shape"
   ]
  },
  {
   "cell_type": "code",
   "execution_count": null,
   "id": "b65da1ec-ede9-4de4-a941-bffb7a139293",
   "metadata": {},
   "outputs": [],
   "source": []
  },
  {
   "cell_type": "code",
   "execution_count": 6,
   "id": "fb824cae-9323-4d4f-861e-a6e03cf58662",
   "metadata": {},
   "outputs": [
    {
     "data": {
      "text/plain": [
       "18"
      ]
     },
     "execution_count": 6,
     "metadata": {},
     "output_type": "execute_result"
    }
   ],
   "source": [
    "arr_3d.size"
   ]
  },
  {
   "cell_type": "code",
   "execution_count": null,
   "id": "29f2f3a1-c478-4c73-b651-e22b311350b5",
   "metadata": {},
   "outputs": [],
   "source": []
  },
  {
   "cell_type": "code",
   "execution_count": 7,
   "id": "f954f87f-2391-4aca-81d1-604a0354d009",
   "metadata": {},
   "outputs": [
    {
     "data": {
      "text/plain": [
       "array([  1,   2,   3,   4,   5,   6,   7,   8,   9,  10,  11,  12,  13,\n",
       "        14,  15,  16,  17,  18,  19,  20,  21,  22,  23,  24,  25,  26,\n",
       "        27,  28,  29,  30,  31,  32,  33,  34,  35,  36,  37,  38,  39,\n",
       "        40,  41,  42,  43,  44,  45,  46,  47,  48,  49,  50,  51,  52,\n",
       "        53,  54,  55,  56,  57,  58,  59,  60,  61,  62,  63,  64,  65,\n",
       "        66,  67,  68,  69,  70,  71,  72,  73,  74,  75,  76,  77,  78,\n",
       "        79,  80,  81,  82,  83,  84,  85,  86,  87,  88,  89,  90,  91,\n",
       "        92,  93,  94,  95,  96,  97,  98,  99, 100])"
      ]
     },
     "execution_count": 7,
     "metadata": {},
     "output_type": "execute_result"
    }
   ],
   "source": [
    "arr = np.arange(1,101)\n",
    "arr"
   ]
  },
  {
   "cell_type": "code",
   "execution_count": null,
   "id": "16115040-778b-4e64-8f97-270c7ad9ecfb",
   "metadata": {},
   "outputs": [],
   "source": []
  },
  {
   "cell_type": "code",
   "execution_count": 8,
   "id": "b5f9ecb5-3d85-4bb3-a424-1ef39687d196",
   "metadata": {},
   "outputs": [
    {
     "data": {
      "text/plain": [
       "array([[[  1,   2,   3,   4],\n",
       "        [  5,   6,   7,   8],\n",
       "        [  9,  10,  11,  12],\n",
       "        [ 13,  14,  15,  16],\n",
       "        [ 17,  18,  19,  20]],\n",
       "\n",
       "       [[ 21,  22,  23,  24],\n",
       "        [ 25,  26,  27,  28],\n",
       "        [ 29,  30,  31,  32],\n",
       "        [ 33,  34,  35,  36],\n",
       "        [ 37,  38,  39,  40]],\n",
       "\n",
       "       [[ 41,  42,  43,  44],\n",
       "        [ 45,  46,  47,  48],\n",
       "        [ 49,  50,  51,  52],\n",
       "        [ 53,  54,  55,  56],\n",
       "        [ 57,  58,  59,  60]],\n",
       "\n",
       "       [[ 61,  62,  63,  64],\n",
       "        [ 65,  66,  67,  68],\n",
       "        [ 69,  70,  71,  72],\n",
       "        [ 73,  74,  75,  76],\n",
       "        [ 77,  78,  79,  80]],\n",
       "\n",
       "       [[ 81,  82,  83,  84],\n",
       "        [ 85,  86,  87,  88],\n",
       "        [ 89,  90,  91,  92],\n",
       "        [ 93,  94,  95,  96],\n",
       "        [ 97,  98,  99, 100]]])"
      ]
     },
     "execution_count": 8,
     "metadata": {},
     "output_type": "execute_result"
    }
   ],
   "source": [
    "arr.reshape((5, 5, 4))"
   ]
  },
  {
   "cell_type": "code",
   "execution_count": null,
   "id": "b9a63963-d04e-4d59-a919-7bc045f05626",
   "metadata": {},
   "outputs": [],
   "source": []
  },
  {
   "cell_type": "markdown",
   "id": "389ea8d4-263b-4520-82f7-27e14a779077",
   "metadata": {},
   "source": [
    "    indexing & slicing\n",
    "\n",
    "\n",
    "                    indexing:\n",
    "                                arr[record, row_index, col_index]\n",
    "\n",
    "                    slicing:\n",
    "                                arr[record_slicing, row_slicing, col_slicing]"
   ]
  },
  {
   "cell_type": "code",
   "execution_count": null,
   "id": "4789b059-88ab-416f-9692-84101b3844b0",
   "metadata": {},
   "outputs": [],
   "source": []
  },
  {
   "cell_type": "code",
   "execution_count": 9,
   "id": "a629d1fe-b184-44e5-a747-5573c316cd0d",
   "metadata": {},
   "outputs": [
    {
     "data": {
      "text/plain": [
       "array([[[10, 20, 30],\n",
       "        [34, 45, 34]],\n",
       "\n",
       "       [[23, 45, 23],\n",
       "        [67, 89, 45]],\n",
       "\n",
       "       [[76, 34, 78],\n",
       "        [98, 56, 43]]])"
      ]
     },
     "execution_count": 9,
     "metadata": {},
     "output_type": "execute_result"
    }
   ],
   "source": [
    "arr_3d"
   ]
  },
  {
   "cell_type": "code",
   "execution_count": 10,
   "id": "1483de20-8b48-4136-8aa5-4224372facd0",
   "metadata": {},
   "outputs": [
    {
     "data": {
      "text/plain": [
       "array([[10, 20, 30],\n",
       "       [34, 45, 34]])"
      ]
     },
     "execution_count": 10,
     "metadata": {},
     "output_type": "execute_result"
    }
   ],
   "source": [
    "arr_3d[0]"
   ]
  },
  {
   "cell_type": "code",
   "execution_count": 11,
   "id": "39fd1941-5cd1-4d56-9fe0-74b6fd63170c",
   "metadata": {},
   "outputs": [
    {
     "data": {
      "text/plain": [
       "array([[76, 34, 78],\n",
       "       [98, 56, 43]])"
      ]
     },
     "execution_count": 11,
     "metadata": {},
     "output_type": "execute_result"
    }
   ],
   "source": [
    "arr_3d[-1]"
   ]
  },
  {
   "cell_type": "code",
   "execution_count": 13,
   "id": "ab08edd3-5d47-41f6-96b1-efc347c5d5fe",
   "metadata": {},
   "outputs": [
    {
     "data": {
      "text/plain": [
       "89"
      ]
     },
     "execution_count": 13,
     "metadata": {},
     "output_type": "execute_result"
    }
   ],
   "source": [
    "arr_3d[1, 1, 1]"
   ]
  },
  {
   "cell_type": "code",
   "execution_count": 15,
   "id": "c39dfd60-d320-4168-934b-37ff79392490",
   "metadata": {},
   "outputs": [
    {
     "data": {
      "text/plain": [
       "89"
      ]
     },
     "execution_count": 15,
     "metadata": {},
     "output_type": "execute_result"
    }
   ],
   "source": [
    "arr_3d[1][1][1]"
   ]
  },
  {
   "cell_type": "code",
   "execution_count": 16,
   "id": "aef3e6d9-2fac-4d7d-9ef1-724a923f0829",
   "metadata": {},
   "outputs": [
    {
     "data": {
      "text/plain": [
       "array([[[10, 20, 30],\n",
       "        [34, 45, 34]],\n",
       "\n",
       "       [[23, 45, 23],\n",
       "        [67, 89, 45]],\n",
       "\n",
       "       [[76, 34, 78],\n",
       "        [98, 56, 43]]])"
      ]
     },
     "execution_count": 16,
     "metadata": {},
     "output_type": "execute_result"
    }
   ],
   "source": [
    "arr_3d"
   ]
  },
  {
   "cell_type": "code",
   "execution_count": null,
   "id": "80188798-5553-4880-880f-7075de1cde1f",
   "metadata": {},
   "outputs": [],
   "source": []
  },
  {
   "cell_type": "code",
   "execution_count": 17,
   "id": "aea7f53c-bbad-488c-89f8-847803663802",
   "metadata": {},
   "outputs": [
    {
     "data": {
      "text/plain": [
       "array([[[10, 30]]])"
      ]
     },
     "execution_count": 17,
     "metadata": {},
     "output_type": "execute_result"
    }
   ],
   "source": [
    "arr_3d[:1, ::2, ::2]"
   ]
  },
  {
   "cell_type": "code",
   "execution_count": null,
   "id": "3602bb66-cb49-4a9b-833c-680260c1a968",
   "metadata": {},
   "outputs": [],
   "source": []
  },
  {
   "cell_type": "code",
   "execution_count": 19,
   "id": "3f79beac-5b9b-4dc6-a182-c9a7d95e2924",
   "metadata": {},
   "outputs": [
    {
     "data": {
      "text/plain": [
       "array([  1,   2,   3,   4,   5,   6,   7,   8,   9,  10,  11,  12,  13,\n",
       "        14,  15,  16,  17,  18,  19,  20,  21,  22,  23,  24,  25,  26,\n",
       "        27,  28,  29,  30,  31,  32,  33,  34,  35,  36,  37,  38,  39,\n",
       "        40,  41,  42,  43,  44,  45,  46,  47,  48,  49,  50,  51,  52,\n",
       "        53,  54,  55,  56,  57,  58,  59,  60,  61,  62,  63,  64,  65,\n",
       "        66,  67,  68,  69,  70,  71,  72,  73,  74,  75,  76,  77,  78,\n",
       "        79,  80,  81,  82,  83,  84,  85,  86,  87,  88,  89,  90,  91,\n",
       "        92,  93,  94,  95,  96,  97,  98,  99, 100])"
      ]
     },
     "execution_count": 19,
     "metadata": {},
     "output_type": "execute_result"
    }
   ],
   "source": [
    "arr = np.arange(1,101)\n",
    "arr"
   ]
  },
  {
   "cell_type": "code",
   "execution_count": 21,
   "id": "1208d890-d669-4912-828d-37af268fc9b5",
   "metadata": {},
   "outputs": [
    {
     "data": {
      "text/plain": [
       "array([[[  1,   2,   3,   4],\n",
       "        [  5,   6,   7,   8],\n",
       "        [  9,  10,  11,  12],\n",
       "        [ 13,  14,  15,  16],\n",
       "        [ 17,  18,  19,  20]],\n",
       "\n",
       "       [[ 21,  22,  23,  24],\n",
       "        [ 25,  26,  27,  28],\n",
       "        [ 29,  30,  31,  32],\n",
       "        [ 33,  34,  35,  36],\n",
       "        [ 37,  38,  39,  40]],\n",
       "\n",
       "       [[ 41,  42,  43,  44],\n",
       "        [ 45,  46,  47,  48],\n",
       "        [ 49,  50,  51,  52],\n",
       "        [ 53,  54,  55,  56],\n",
       "        [ 57,  58,  59,  60]],\n",
       "\n",
       "       [[ 61,  62,  63,  64],\n",
       "        [ 65,  66,  67,  68],\n",
       "        [ 69,  70,  71,  72],\n",
       "        [ 73,  74,  75,  76],\n",
       "        [ 77,  78,  79,  80]],\n",
       "\n",
       "       [[ 81,  82,  83,  84],\n",
       "        [ 85,  86,  87,  88],\n",
       "        [ 89,  90,  91,  92],\n",
       "        [ 93,  94,  95,  96],\n",
       "        [ 97,  98,  99, 100]]])"
      ]
     },
     "execution_count": 21,
     "metadata": {},
     "output_type": "execute_result"
    }
   ],
   "source": [
    "arr_3d = arr.reshape((5, 5, 4))\n",
    "arr_3d"
   ]
  },
  {
   "cell_type": "code",
   "execution_count": 22,
   "id": "a3bd0119-6dbb-4987-90d9-4ee6a6cd1b4c",
   "metadata": {},
   "outputs": [
    {
     "data": {
      "text/plain": [
       "array([[[ 1,  3],\n",
       "        [ 9, 11],\n",
       "        [17, 19]],\n",
       "\n",
       "       [[41, 43],\n",
       "        [49, 51],\n",
       "        [57, 59]],\n",
       "\n",
       "       [[81, 83],\n",
       "        [89, 91],\n",
       "        [97, 99]]])"
      ]
     },
     "execution_count": 22,
     "metadata": {},
     "output_type": "execute_result"
    }
   ],
   "source": [
    "arr_3d[::2, ::2, ::2]"
   ]
  },
  {
   "cell_type": "code",
   "execution_count": null,
   "id": "9fce4978-97fe-416a-9fd4-6950ec7c4c3c",
   "metadata": {},
   "outputs": [],
   "source": []
  },
  {
   "cell_type": "code",
   "execution_count": 23,
   "id": "4c44ccef-6af1-45b9-9e6a-7d46bc2e307c",
   "metadata": {},
   "outputs": [
    {
     "data": {
      "text/plain": [
       "array([34, 22, 24, 35, 24, 24, 38, 41, 43, 24, 39, 27, 33, 21, 33, 43, 29,\n",
       "       32, 33, 37])"
      ]
     },
     "execution_count": 23,
     "metadata": {},
     "output_type": "execute_result"
    }
   ],
   "source": [
    "arr = np.random.randint(20, 45, 20)\n",
    "arr"
   ]
  },
  {
   "cell_type": "code",
   "execution_count": 25,
   "id": "b8c15f98-c21f-49d9-8e08-a9fa45ef3cb3",
   "metadata": {},
   "outputs": [
    {
     "data": {
      "text/plain": [
       "array([[34, 22, 24, 35, 24],\n",
       "       [24, 38, 41, 43, 24],\n",
       "       [39, 27, 33, 21, 33],\n",
       "       [43, 29, 32, 33, 37]])"
      ]
     },
     "execution_count": 25,
     "metadata": {},
     "output_type": "execute_result"
    }
   ],
   "source": [
    "a = arr.reshape((4,5))\n",
    "a"
   ]
  },
  {
   "cell_type": "code",
   "execution_count": null,
   "id": "42fbeeef-cfc0-4518-9340-62199cc854ad",
   "metadata": {},
   "outputs": [],
   "source": []
  },
  {
   "cell_type": "code",
   "execution_count": 27,
   "id": "ec3794b2-9936-4f3d-a84b-f7b9d4171c64",
   "metadata": {},
   "outputs": [],
   "source": [
    "a[0, :] = 0\n",
    "a[-1, :] = 0\n",
    "a[:, 0] = 0\n",
    "a[:, -1] = 0"
   ]
  },
  {
   "cell_type": "code",
   "execution_count": 28,
   "id": "1eaaca55-0f95-44b6-b7e8-e52ec4be05ac",
   "metadata": {},
   "outputs": [
    {
     "data": {
      "text/plain": [
       "array([[ 0,  0,  0,  0,  0],\n",
       "       [ 0, 38, 41, 43,  0],\n",
       "       [ 0, 27, 33, 21,  0],\n",
       "       [ 0,  0,  0,  0,  0]])"
      ]
     },
     "execution_count": 28,
     "metadata": {},
     "output_type": "execute_result"
    }
   ],
   "source": [
    "a"
   ]
  },
  {
   "cell_type": "code",
   "execution_count": null,
   "id": "7c87b348-169c-4b37-b0ec-643b6c01018d",
   "metadata": {},
   "outputs": [],
   "source": []
  },
  {
   "cell_type": "code",
   "execution_count": 29,
   "id": "80f34671-4831-44e7-8455-f99a81db40d1",
   "metadata": {},
   "outputs": [
    {
     "data": {
      "text/plain": [
       "array([[ 0,  0,  0,  0,  0],\n",
       "       [ 0, 38, 41, 43,  0],\n",
       "       [ 0, 27, 33, 21,  0],\n",
       "       [ 0,  0,  0,  0,  0]])"
      ]
     },
     "execution_count": 29,
     "metadata": {},
     "output_type": "execute_result"
    }
   ],
   "source": [
    "a"
   ]
  },
  {
   "cell_type": "code",
   "execution_count": 30,
   "id": "00f56f78-1d5a-44da-8876-c6b37a90f5e3",
   "metadata": {},
   "outputs": [
    {
     "data": {
      "text/plain": [
       "array([ 0,  0,  0,  0,  0,  0, 38, 41, 43,  0,  0, 27, 33, 21,  0,  0,  0,\n",
       "        0,  0,  0])"
      ]
     },
     "execution_count": 30,
     "metadata": {},
     "output_type": "execute_result"
    }
   ],
   "source": [
    "a.flatten()"
   ]
  },
  {
   "cell_type": "code",
   "execution_count": 31,
   "id": "c5446400-b4bb-4c91-8e20-da6da7c39fb2",
   "metadata": {},
   "outputs": [
    {
     "data": {
      "text/plain": [
       "array([ 0,  0,  0,  0,  0, 38, 27,  0,  0, 41, 33,  0,  0, 43, 21,  0,  0,\n",
       "        0,  0,  0])"
      ]
     },
     "execution_count": 31,
     "metadata": {},
     "output_type": "execute_result"
    }
   ],
   "source": [
    "a.flatten(order='F')"
   ]
  },
  {
   "cell_type": "code",
   "execution_count": 32,
   "id": "c708c2c8-28bc-45ab-b280-62ed42ab893b",
   "metadata": {},
   "outputs": [
    {
     "data": {
      "text/plain": [
       "array([[ 0,  0,  0,  0,  0],\n",
       "       [ 0, 38, 41, 43,  0],\n",
       "       [ 0, 27, 33, 21,  0],\n",
       "       [ 0,  0,  0,  0,  0]])"
      ]
     },
     "execution_count": 32,
     "metadata": {},
     "output_type": "execute_result"
    }
   ],
   "source": [
    "a"
   ]
  },
  {
   "cell_type": "code",
   "execution_count": 33,
   "id": "9f0ff642-a168-4520-936b-16a742e140eb",
   "metadata": {},
   "outputs": [
    {
     "data": {
      "text/plain": [
       "array([ 0,  0,  0,  0,  0,  0, 38, 41, 43,  0,  0, 27, 33, 21,  0,  0,  0,\n",
       "        0,  0,  0])"
      ]
     },
     "execution_count": 33,
     "metadata": {},
     "output_type": "execute_result"
    }
   ],
   "source": [
    "a.flatten()"
   ]
  },
  {
   "cell_type": "code",
   "execution_count": 34,
   "id": "236e9c94-2a37-40ba-94ec-5553d1501da5",
   "metadata": {},
   "outputs": [
    {
     "data": {
      "text/plain": [
       "array([[ 0,  0,  0,  0,  0],\n",
       "       [ 0, 38, 41, 43,  0],\n",
       "       [ 0, 27, 33, 21,  0],\n",
       "       [ 0,  0,  0,  0,  0]])"
      ]
     },
     "execution_count": 34,
     "metadata": {},
     "output_type": "execute_result"
    }
   ],
   "source": [
    "a.flatten().reshape((4, 5))\n"
   ]
  },
  {
   "cell_type": "code",
   "execution_count": 35,
   "id": "9938c8d1-18ea-455f-a1b1-b915ad7e7fd9",
   "metadata": {},
   "outputs": [
    {
     "data": {
      "text/plain": [
       "array([[ 0,  0,  0,  0,  0],\n",
       "       [ 0, 38, 41, 43,  0],\n",
       "       [ 0, 27, 33, 21,  0],\n",
       "       [ 0,  0,  0,  0,  0]])"
      ]
     },
     "execution_count": 35,
     "metadata": {},
     "output_type": "execute_result"
    }
   ],
   "source": [
    "a"
   ]
  },
  {
   "cell_type": "code",
   "execution_count": 36,
   "id": "dee1b0af-6480-4923-b3dc-dc01d20ec031",
   "metadata": {},
   "outputs": [
    {
     "data": {
      "text/plain": [
       "array([ 0,  0,  0,  0,  0, 38, 27,  0,  0, 41, 33,  0,  0, 43, 21,  0,  0,\n",
       "        0,  0,  0])"
      ]
     },
     "execution_count": 36,
     "metadata": {},
     "output_type": "execute_result"
    }
   ],
   "source": [
    "a.flatten(order='F')\n"
   ]
  },
  {
   "cell_type": "code",
   "execution_count": 38,
   "id": "11e368c7-236c-4b57-81a0-69ff5cf59a33",
   "metadata": {},
   "outputs": [
    {
     "data": {
      "text/plain": [
       "array([[ 0,  0,  0,  0,  0],\n",
       "       [ 0, 38, 41, 43,  0],\n",
       "       [ 0, 27, 33, 21,  0],\n",
       "       [ 0,  0,  0,  0,  0]])"
      ]
     },
     "execution_count": 38,
     "metadata": {},
     "output_type": "execute_result"
    }
   ],
   "source": [
    "a.flatten(order='F').reshape((4,5), order='F')\n"
   ]
  },
  {
   "cell_type": "code",
   "execution_count": null,
   "id": "0efe873e-5c5e-4126-b618-f2fb520bcf54",
   "metadata": {},
   "outputs": [],
   "source": []
  },
  {
   "cell_type": "code",
   "execution_count": null,
   "id": "e06755cd-6ac3-40ef-b1a0-5ca478cca776",
   "metadata": {},
   "outputs": [],
   "source": []
  },
  {
   "cell_type": "code",
   "execution_count": 39,
   "id": "19523a76-2c36-4ac5-b5c3-ad49793eebb7",
   "metadata": {},
   "outputs": [
    {
     "data": {
      "text/plain": [
       "array([-5. , -4.5, -4. , -3.5, -3. , -2.5, -2. , -1.5, -1. , -0.5,  0. ,\n",
       "        0.5,  1. ,  1.5,  2. ,  2.5,  3. ,  3.5,  4. ,  4.5])"
      ]
     },
     "execution_count": 39,
     "metadata": {},
     "output_type": "execute_result"
    }
   ],
   "source": [
    "np.arange(-5, 5, 0.5)"
   ]
  },
  {
   "cell_type": "code",
   "execution_count": null,
   "id": "64587739-915d-428c-9c58-24b06d75a328",
   "metadata": {},
   "outputs": [],
   "source": []
  },
  {
   "cell_type": "code",
   "execution_count": 40,
   "id": "3476d0a4-7ba5-4962-83fe-7ade5b0de890",
   "metadata": {},
   "outputs": [
    {
     "data": {
      "text/plain": [
       "array([10.        , 10.2244898 , 10.44897959, 10.67346939, 10.89795918,\n",
       "       11.12244898, 11.34693878, 11.57142857, 11.79591837, 12.02040816,\n",
       "       12.24489796, 12.46938776, 12.69387755, 12.91836735, 13.14285714,\n",
       "       13.36734694, 13.59183673, 13.81632653, 14.04081633, 14.26530612,\n",
       "       14.48979592, 14.71428571, 14.93877551, 15.16326531, 15.3877551 ,\n",
       "       15.6122449 , 15.83673469, 16.06122449, 16.28571429, 16.51020408,\n",
       "       16.73469388, 16.95918367, 17.18367347, 17.40816327, 17.63265306,\n",
       "       17.85714286, 18.08163265, 18.30612245, 18.53061224, 18.75510204,\n",
       "       18.97959184, 19.20408163, 19.42857143, 19.65306122, 19.87755102,\n",
       "       20.10204082, 20.32653061, 20.55102041, 20.7755102 , 21.        ])"
      ]
     },
     "execution_count": 40,
     "metadata": {},
     "output_type": "execute_result"
    }
   ],
   "source": [
    "np.linspace(10, 21)"
   ]
  },
  {
   "cell_type": "code",
   "execution_count": null,
   "id": "003af16a-7bb7-4c8b-a79c-e962eda69795",
   "metadata": {},
   "outputs": [],
   "source": []
  },
  {
   "cell_type": "code",
   "execution_count": 41,
   "id": "954062d3-1d13-470c-8e06-519bb727f484",
   "metadata": {},
   "outputs": [
    {
     "data": {
      "text/plain": [
       "array([0.        , 0.01010101, 0.02020202, 0.03030303, 0.04040404,\n",
       "       0.05050505, 0.06060606, 0.07070707, 0.08080808, 0.09090909,\n",
       "       0.1010101 , 0.11111111, 0.12121212, 0.13131313, 0.14141414,\n",
       "       0.15151515, 0.16161616, 0.17171717, 0.18181818, 0.19191919,\n",
       "       0.2020202 , 0.21212121, 0.22222222, 0.23232323, 0.24242424,\n",
       "       0.25252525, 0.26262626, 0.27272727, 0.28282828, 0.29292929,\n",
       "       0.3030303 , 0.31313131, 0.32323232, 0.33333333, 0.34343434,\n",
       "       0.35353535, 0.36363636, 0.37373737, 0.38383838, 0.39393939,\n",
       "       0.4040404 , 0.41414141, 0.42424242, 0.43434343, 0.44444444,\n",
       "       0.45454545, 0.46464646, 0.47474747, 0.48484848, 0.49494949,\n",
       "       0.50505051, 0.51515152, 0.52525253, 0.53535354, 0.54545455,\n",
       "       0.55555556, 0.56565657, 0.57575758, 0.58585859, 0.5959596 ,\n",
       "       0.60606061, 0.61616162, 0.62626263, 0.63636364, 0.64646465,\n",
       "       0.65656566, 0.66666667, 0.67676768, 0.68686869, 0.6969697 ,\n",
       "       0.70707071, 0.71717172, 0.72727273, 0.73737374, 0.74747475,\n",
       "       0.75757576, 0.76767677, 0.77777778, 0.78787879, 0.7979798 ,\n",
       "       0.80808081, 0.81818182, 0.82828283, 0.83838384, 0.84848485,\n",
       "       0.85858586, 0.86868687, 0.87878788, 0.88888889, 0.8989899 ,\n",
       "       0.90909091, 0.91919192, 0.92929293, 0.93939394, 0.94949495,\n",
       "       0.95959596, 0.96969697, 0.97979798, 0.98989899, 1.        ])"
      ]
     },
     "execution_count": 41,
     "metadata": {},
     "output_type": "execute_result"
    }
   ],
   "source": [
    "np.linspace(0,1,100)"
   ]
  },
  {
   "cell_type": "code",
   "execution_count": null,
   "id": "c7376a30-4a2a-4235-972e-588d4e1cd829",
   "metadata": {},
   "outputs": [],
   "source": []
  },
  {
   "cell_type": "code",
   "execution_count": 43,
   "id": "5520bb5b-90c9-45e4-8d82-152642a1aff9",
   "metadata": {},
   "outputs": [
    {
     "data": {
      "text/plain": [
       "array([0.  , 0.01, 0.02, 0.03, 0.04, 0.06, 0.07, 0.08, 0.09, 0.1 , 0.11,\n",
       "       0.12, 0.13, 0.14, 0.16, 0.17, 0.18, 0.19, 0.2 , 0.21, 0.22, 0.23,\n",
       "       0.24, 0.26, 0.27, 0.28, 0.29, 0.3 , 0.31, 0.32, 0.33, 0.34, 0.36,\n",
       "       0.37, 0.38, 0.39, 0.4 , 0.41, 0.42, 0.43, 0.44, 0.46, 0.47, 0.48,\n",
       "       0.49, 0.5 , 0.51, 0.52, 0.53, 0.54, 0.56, 0.57, 0.58, 0.59, 0.6 ,\n",
       "       0.61, 0.62, 0.63, 0.64, 0.66, 0.67, 0.68, 0.69, 0.7 , 0.71, 0.72,\n",
       "       0.73, 0.74, 0.76, 0.77, 0.78, 0.79, 0.8 , 0.81, 0.82, 0.83, 0.84,\n",
       "       0.86, 0.87, 0.88, 0.89, 0.9 , 0.91, 0.92, 0.93, 0.94, 0.96, 0.97,\n",
       "       0.98, 0.99, 1.  , 1.01, 1.02, 1.03, 1.04, 1.06, 1.07, 1.08, 1.09,\n",
       "       1.1 ])"
      ]
     },
     "execution_count": 43,
     "metadata": {},
     "output_type": "execute_result"
    }
   ],
   "source": [
    "np.linspace(0, 1.1, 100).round(2)"
   ]
  },
  {
   "cell_type": "code",
   "execution_count": null,
   "id": "848a5537-9163-40bc-b777-577ef5af0942",
   "metadata": {},
   "outputs": [],
   "source": []
  },
  {
   "cell_type": "markdown",
   "id": "9abdfbdb-9f12-4f17-904a-40ce0fb322cb",
   "metadata": {},
   "source": [
    "### zeros & ones matrix"
   ]
  },
  {
   "cell_type": "code",
   "execution_count": 44,
   "id": "c71e0349-4398-48d5-b974-4b8d9f1836e1",
   "metadata": {},
   "outputs": [
    {
     "data": {
      "text/plain": [
       "array([0., 0., 0., 0., 0.])"
      ]
     },
     "execution_count": 44,
     "metadata": {},
     "output_type": "execute_result"
    }
   ],
   "source": [
    "np.zeros(5)"
   ]
  },
  {
   "cell_type": "code",
   "execution_count": 45,
   "id": "292de81a-b927-443e-8676-a950f80015ae",
   "metadata": {},
   "outputs": [
    {
     "data": {
      "text/plain": [
       "array([[0., 0., 0., 0., 0.],\n",
       "       [0., 0., 0., 0., 0.],\n",
       "       [0., 0., 0., 0., 0.],\n",
       "       [0., 0., 0., 0., 0.]])"
      ]
     },
     "execution_count": 45,
     "metadata": {},
     "output_type": "execute_result"
    }
   ],
   "source": [
    "np.zeros((4,5))"
   ]
  },
  {
   "cell_type": "code",
   "execution_count": 46,
   "id": "9d78f3fa-e6f2-4604-8608-00ad9b4d063e",
   "metadata": {},
   "outputs": [
    {
     "data": {
      "text/plain": [
       "array([[[0., 0., 0.],\n",
       "        [0., 0., 0.],\n",
       "        [0., 0., 0.],\n",
       "        [0., 0., 0.]],\n",
       "\n",
       "       [[0., 0., 0.],\n",
       "        [0., 0., 0.],\n",
       "        [0., 0., 0.],\n",
       "        [0., 0., 0.]],\n",
       "\n",
       "       [[0., 0., 0.],\n",
       "        [0., 0., 0.],\n",
       "        [0., 0., 0.],\n",
       "        [0., 0., 0.]]])"
      ]
     },
     "execution_count": 46,
     "metadata": {},
     "output_type": "execute_result"
    }
   ],
   "source": [
    "np.zeros((3, 4, 3))"
   ]
  },
  {
   "cell_type": "code",
   "execution_count": null,
   "id": "44b5e544-11c7-4da1-a18e-271e61bd7ec7",
   "metadata": {},
   "outputs": [],
   "source": []
  },
  {
   "cell_type": "code",
   "execution_count": 47,
   "id": "216a55ef-115a-426a-9b9c-12d0ac442a99",
   "metadata": {},
   "outputs": [
    {
     "data": {
      "text/plain": [
       "array([[[0, 0, 0],\n",
       "        [0, 0, 0],\n",
       "        [0, 0, 0],\n",
       "        [0, 0, 0]],\n",
       "\n",
       "       [[0, 0, 0],\n",
       "        [0, 0, 0],\n",
       "        [0, 0, 0],\n",
       "        [0, 0, 0]],\n",
       "\n",
       "       [[0, 0, 0],\n",
       "        [0, 0, 0],\n",
       "        [0, 0, 0],\n",
       "        [0, 0, 0]]])"
      ]
     },
     "execution_count": 47,
     "metadata": {},
     "output_type": "execute_result"
    }
   ],
   "source": [
    "np.zeros((3, 4, 3), dtype='int')\n"
   ]
  },
  {
   "cell_type": "code",
   "execution_count": null,
   "id": "88647970-f731-4d0b-ab93-58c52ea39396",
   "metadata": {},
   "outputs": [],
   "source": []
  },
  {
   "cell_type": "code",
   "execution_count": 48,
   "id": "4a1bb341-315a-44d9-935d-c14b0bedcd3f",
   "metadata": {},
   "outputs": [
    {
     "data": {
      "text/plain": [
       "array([1., 1., 1., 1., 1., 1.])"
      ]
     },
     "execution_count": 48,
     "metadata": {},
     "output_type": "execute_result"
    }
   ],
   "source": [
    "np.ones(6)"
   ]
  },
  {
   "cell_type": "code",
   "execution_count": 49,
   "id": "81898b70-4579-4b4e-9311-667e6bc177fd",
   "metadata": {},
   "outputs": [
    {
     "data": {
      "text/plain": [
       "array([[1., 1., 1., 1.],\n",
       "       [1., 1., 1., 1.],\n",
       "       [1., 1., 1., 1.],\n",
       "       [1., 1., 1., 1.],\n",
       "       [1., 1., 1., 1.],\n",
       "       [1., 1., 1., 1.]])"
      ]
     },
     "execution_count": 49,
     "metadata": {},
     "output_type": "execute_result"
    }
   ],
   "source": [
    "np.ones((6,4))"
   ]
  },
  {
   "cell_type": "code",
   "execution_count": null,
   "id": "c44bb471-8edd-423f-b6a6-50c2ffaf9dee",
   "metadata": {},
   "outputs": [],
   "source": []
  },
  {
   "cell_type": "code",
   "execution_count": 51,
   "id": "6521bc29-8af9-41ef-9d1f-28d3baeee912",
   "metadata": {},
   "outputs": [],
   "source": [
    "arr1 = np.random.randint(10, 20, 16).reshape((4,4))\n",
    "arr2 = np.random.randint(30, 45, 16).reshape((4,4))\n"
   ]
  },
  {
   "cell_type": "code",
   "execution_count": 52,
   "id": "8da4bfdc-66a6-4445-b699-a055354bb651",
   "metadata": {},
   "outputs": [
    {
     "data": {
      "text/plain": [
       "array([[11, 12, 12, 19],\n",
       "       [15, 12, 14, 10],\n",
       "       [11, 11, 14, 19],\n",
       "       [11, 19, 17, 10]])"
      ]
     },
     "execution_count": 52,
     "metadata": {},
     "output_type": "execute_result"
    }
   ],
   "source": [
    "arr1"
   ]
  },
  {
   "cell_type": "code",
   "execution_count": 53,
   "id": "e9a7c705-be3a-4899-8cb4-db31e583a9ef",
   "metadata": {},
   "outputs": [
    {
     "data": {
      "text/plain": [
       "array([[39, 36, 33, 39],\n",
       "       [39, 35, 40, 36],\n",
       "       [43, 42, 35, 43],\n",
       "       [38, 37, 30, 40]])"
      ]
     },
     "execution_count": 53,
     "metadata": {},
     "output_type": "execute_result"
    }
   ],
   "source": [
    "arr2"
   ]
  },
  {
   "cell_type": "code",
   "execution_count": null,
   "id": "ba7fbf55-c94a-4a74-9d8b-4e33550d9deb",
   "metadata": {},
   "outputs": [],
   "source": []
  },
  {
   "cell_type": "code",
   "execution_count": 54,
   "id": "c6d99ba7-b55e-4b2a-9edf-62df38d961a7",
   "metadata": {},
   "outputs": [
    {
     "data": {
      "text/plain": [
       "array([[50, 48, 45, 58],\n",
       "       [54, 47, 54, 46],\n",
       "       [54, 53, 49, 62],\n",
       "       [49, 56, 47, 50]])"
      ]
     },
     "execution_count": 54,
     "metadata": {},
     "output_type": "execute_result"
    }
   ],
   "source": [
    "arr1 + arr2"
   ]
  },
  {
   "cell_type": "code",
   "execution_count": 61,
   "id": "a96e6754-5fe7-4f79-9218-62bb8909b4d8",
   "metadata": {},
   "outputs": [
    {
     "data": {
      "text/plain": [
       "array([[0, 0, 0, 0, 0],\n",
       "       [0, 0, 0, 0, 0],\n",
       "       [0, 0, 0, 0, 0],\n",
       "       [0, 0, 0, 0, 0]])"
      ]
     },
     "execution_count": 61,
     "metadata": {},
     "output_type": "execute_result"
    }
   ],
   "source": [
    "zeros = np.zeros((4,5), dtype='int')\n",
    "zeros"
   ]
  },
  {
   "cell_type": "code",
   "execution_count": 62,
   "id": "ebf5f541-25b1-401e-bd33-572a278daf84",
   "metadata": {},
   "outputs": [],
   "source": [
    "zeros[:, 2] = 1"
   ]
  },
  {
   "cell_type": "code",
   "execution_count": 63,
   "id": "242bce82-2c3a-4814-9cb4-da693477e15b",
   "metadata": {},
   "outputs": [
    {
     "data": {
      "text/plain": [
       "array([[0, 0, 1, 0, 0],\n",
       "       [0, 0, 1, 0, 0],\n",
       "       [0, 0, 1, 0, 0],\n",
       "       [0, 0, 1, 0, 0]])"
      ]
     },
     "execution_count": 63,
     "metadata": {},
     "output_type": "execute_result"
    }
   ],
   "source": [
    "zeros"
   ]
  },
  {
   "cell_type": "code",
   "execution_count": 66,
   "id": "fdbbc4b4-5a6d-475b-a18c-02c71308c2a5",
   "metadata": {},
   "outputs": [],
   "source": [
    "zeros[1, :] = 1.0"
   ]
  },
  {
   "cell_type": "code",
   "execution_count": 67,
   "id": "3bc079cd-0e58-4548-91c3-45fc82f312c9",
   "metadata": {},
   "outputs": [
    {
     "data": {
      "text/plain": [
       "array([[0, 0, 1, 0, 0],\n",
       "       [1, 1, 1, 1, 1],\n",
       "       [0, 0, 1, 0, 0],\n",
       "       [0, 0, 1, 0, 0]])"
      ]
     },
     "execution_count": 67,
     "metadata": {},
     "output_type": "execute_result"
    }
   ],
   "source": [
    "zeros"
   ]
  },
  {
   "cell_type": "code",
   "execution_count": null,
   "id": "09d68e02-c686-4728-8489-4eaafe646ead",
   "metadata": {},
   "outputs": [],
   "source": []
  },
  {
   "cell_type": "code",
   "execution_count": 68,
   "id": "fd01e276-935b-4c92-be21-fa9e3e7af7e7",
   "metadata": {},
   "outputs": [
    {
     "data": {
      "text/plain": [
       "array([[429, 432, 396, 741],\n",
       "       [585, 420, 560, 360],\n",
       "       [473, 462, 490, 817],\n",
       "       [418, 703, 510, 400]])"
      ]
     },
     "execution_count": 68,
     "metadata": {},
     "output_type": "execute_result"
    }
   ],
   "source": [
    "arr1 * arr2"
   ]
  },
  {
   "cell_type": "code",
   "execution_count": null,
   "id": "47e39609-46b3-4ab4-9d3e-389ae5e855b9",
   "metadata": {},
   "outputs": [],
   "source": []
  },
  {
   "cell_type": "code",
   "execution_count": 69,
   "id": "7632905e-a68d-44af-ba12-c17fd3bd44e1",
   "metadata": {},
   "outputs": [
    {
     "data": {
      "text/plain": [
       "array([[1, 1, 1, 1],\n",
       "       [1, 1, 1, 1],\n",
       "       [1, 1, 1, 1],\n",
       "       [1, 1, 1, 1]], dtype=int32)"
      ]
     },
     "execution_count": 69,
     "metadata": {},
     "output_type": "execute_result"
    }
   ],
   "source": [
    "arr1 // 10"
   ]
  },
  {
   "cell_type": "code",
   "execution_count": 70,
   "id": "cbd4d51f-9e78-4424-bd8e-ec10466ad282",
   "metadata": {},
   "outputs": [
    {
     "data": {
      "text/plain": [
       "array([[11, 12, 12, 19],\n",
       "       [15, 12, 14, 10],\n",
       "       [11, 11, 14, 19],\n",
       "       [11, 19, 17, 10]])"
      ]
     },
     "execution_count": 70,
     "metadata": {},
     "output_type": "execute_result"
    }
   ],
   "source": [
    "arr1"
   ]
  },
  {
   "cell_type": "code",
   "execution_count": 71,
   "id": "88e7705b-339b-4695-b5cc-f3a089ead39d",
   "metadata": {},
   "outputs": [
    {
     "data": {
      "text/plain": [
       "array([[22, 24, 24, 38],\n",
       "       [30, 24, 28, 20],\n",
       "       [22, 22, 28, 38],\n",
       "       [22, 38, 34, 20]])"
      ]
     },
     "execution_count": 71,
     "metadata": {},
     "output_type": "execute_result"
    }
   ],
   "source": [
    "arr1 * 2"
   ]
  },
  {
   "cell_type": "code",
   "execution_count": null,
   "id": "65e2a80a-d8f8-4cd8-9125-9d820ef75ab1",
   "metadata": {},
   "outputs": [],
   "source": []
  },
  {
   "cell_type": "code",
   "execution_count": null,
   "id": "520810dc-5bc4-4858-b169-4f5f6b5f4e12",
   "metadata": {},
   "outputs": [],
   "source": []
  },
  {
   "cell_type": "markdown",
   "id": "987f6a1f-a0ff-4c9a-b6fa-e55e88becd1b",
   "metadata": {},
   "source": [
    "## matrix multiplication"
   ]
  },
  {
   "cell_type": "code",
   "execution_count": 3,
   "id": "203b9500-3e0b-4b24-8e7e-d9f0edc95053",
   "metadata": {},
   "outputs": [],
   "source": [
    "A = np.array([[10,20],[20,30]])\n",
    "B = np.array([[2,5,9],[3,2,4]])"
   ]
  },
  {
   "cell_type": "code",
   "execution_count": 4,
   "id": "7dcddbb2-df20-4d43-8334-b60c450c5c0f",
   "metadata": {},
   "outputs": [
    {
     "data": {
      "text/plain": [
       "array([[10, 20],\n",
       "       [20, 30]])"
      ]
     },
     "execution_count": 4,
     "metadata": {},
     "output_type": "execute_result"
    }
   ],
   "source": [
    "A"
   ]
  },
  {
   "cell_type": "code",
   "execution_count": 5,
   "id": "1919e54a-55bd-4e72-ac45-eed8163c26a4",
   "metadata": {},
   "outputs": [
    {
     "data": {
      "text/plain": [
       "array([[2, 5, 9],\n",
       "       [3, 2, 4]])"
      ]
     },
     "execution_count": 5,
     "metadata": {},
     "output_type": "execute_result"
    }
   ],
   "source": [
    "B"
   ]
  },
  {
   "cell_type": "code",
   "execution_count": null,
   "id": "2f865d73-59b3-40d3-8002-fb98d01111d9",
   "metadata": {},
   "outputs": [],
   "source": []
  },
  {
   "cell_type": "code",
   "execution_count": 6,
   "id": "8e7367c0-535c-4529-91c3-7ac6dc2eec81",
   "metadata": {},
   "outputs": [
    {
     "data": {
      "text/plain": [
       "array([[ 80,  90, 170],\n",
       "       [130, 160, 300]])"
      ]
     },
     "execution_count": 6,
     "metadata": {},
     "output_type": "execute_result"
    }
   ],
   "source": [
    "A @ B"
   ]
  },
  {
   "cell_type": "code",
   "execution_count": 7,
   "id": "4a3afb8b-61e1-42e6-bff4-4c64d7599376",
   "metadata": {},
   "outputs": [
    {
     "data": {
      "text/plain": [
       "array([[ 80,  90, 170],\n",
       "       [130, 160, 300]])"
      ]
     },
     "execution_count": 7,
     "metadata": {},
     "output_type": "execute_result"
    }
   ],
   "source": [
    "np.matmul(A,B)"
   ]
  },
  {
   "cell_type": "code",
   "execution_count": 8,
   "id": "f6fd59bd-35a5-4e07-856a-a6b06190bf0b",
   "metadata": {},
   "outputs": [
    {
     "data": {
      "text/plain": [
       "array([[ 80,  90, 170],\n",
       "       [130, 160, 300]])"
      ]
     },
     "execution_count": 8,
     "metadata": {},
     "output_type": "execute_result"
    }
   ],
   "source": [
    "np.dot(A,B)"
   ]
  },
  {
   "cell_type": "code",
   "execution_count": null,
   "id": "4aafc3ae-46c4-414c-8a78-ab0f605e8b66",
   "metadata": {},
   "outputs": [],
   "source": []
  },
  {
   "cell_type": "code",
   "execution_count": null,
   "id": "6a515e39-db08-4873-9afc-0f363e76d62f",
   "metadata": {},
   "outputs": [],
   "source": []
  },
  {
   "cell_type": "code",
   "execution_count": 9,
   "id": "bb94a1d9-ee38-4c02-9e2f-9e557be83752",
   "metadata": {},
   "outputs": [
    {
     "data": {
      "text/plain": [
       "array([[1., 0., 0., 0., 0.],\n",
       "       [0., 1., 0., 0., 0.],\n",
       "       [0., 0., 1., 0., 0.],\n",
       "       [0., 0., 0., 1., 0.],\n",
       "       [0., 0., 0., 0., 1.]])"
      ]
     },
     "execution_count": 9,
     "metadata": {},
     "output_type": "execute_result"
    }
   ],
   "source": [
    "np.eye(5)"
   ]
  },
  {
   "cell_type": "code",
   "execution_count": null,
   "id": "5cd955c6-6a66-4408-a4f5-e16d2c5dcc2d",
   "metadata": {},
   "outputs": [],
   "source": []
  },
  {
   "cell_type": "code",
   "execution_count": 10,
   "id": "47e3da90-cb9a-47f7-9d0c-da793177be4a",
   "metadata": {},
   "outputs": [
    {
     "data": {
      "text/plain": [
       "array([[1., 0., 0., 0., 0., 0.],\n",
       "       [0., 1., 0., 0., 0., 0.],\n",
       "       [0., 0., 1., 0., 0., 0.],\n",
       "       [0., 0., 0., 1., 0., 0.],\n",
       "       [0., 0., 0., 0., 1., 0.]])"
      ]
     },
     "execution_count": 10,
     "metadata": {},
     "output_type": "execute_result"
    }
   ],
   "source": [
    "np.eye(5, 6)\n"
   ]
  },
  {
   "cell_type": "code",
   "execution_count": null,
   "id": "209c5d07-d865-4903-8862-b65bbdf2bcb9",
   "metadata": {},
   "outputs": [],
   "source": []
  },
  {
   "cell_type": "code",
   "execution_count": 14,
   "id": "728dfadb-df12-4e33-a43e-0d529b3d8c0e",
   "metadata": {},
   "outputs": [
    {
     "data": {
      "text/plain": [
       "array([[0., 0., 0., 0., 0.],\n",
       "       [0., 0., 0., 0., 0.],\n",
       "       [0., 0., 0., 0., 0.],\n",
       "       [1., 0., 0., 0., 0.],\n",
       "       [0., 1., 0., 0., 0.]])"
      ]
     },
     "execution_count": 14,
     "metadata": {},
     "output_type": "execute_result"
    }
   ],
   "source": [
    "np.eye(5, k=-3)"
   ]
  },
  {
   "cell_type": "code",
   "execution_count": 15,
   "id": "ccd1b1e5-01a9-4ba7-b011-68d29a910805",
   "metadata": {},
   "outputs": [
    {
     "data": {
      "text/plain": [
       "array([[0., 0., 0., 1., 0.],\n",
       "       [0., 0., 0., 0., 1.],\n",
       "       [0., 0., 0., 0., 0.],\n",
       "       [0., 0., 0., 0., 0.],\n",
       "       [0., 0., 0., 0., 0.]])"
      ]
     },
     "execution_count": 15,
     "metadata": {},
     "output_type": "execute_result"
    }
   ],
   "source": [
    "np.eye(5, k=3)\n"
   ]
  },
  {
   "cell_type": "code",
   "execution_count": null,
   "id": "eef4d9fd-5213-4292-ac76-b2a23f74e455",
   "metadata": {},
   "outputs": [],
   "source": []
  },
  {
   "cell_type": "code",
   "execution_count": 16,
   "id": "3420271b-aac1-402f-8fe2-18508e509b61",
   "metadata": {},
   "outputs": [
    {
     "data": {
      "text/plain": [
       "array([[0., 0., 0., 0.],\n",
       "       [0., 0., 0., 0.],\n",
       "       [0., 0., 0., 0.],\n",
       "       [0., 0., 0., 0.],\n",
       "       [0., 0., 0., 0.]])"
      ]
     },
     "execution_count": 16,
     "metadata": {},
     "output_type": "execute_result"
    }
   ],
   "source": [
    "np.empty((5,4))"
   ]
  },
  {
   "cell_type": "code",
   "execution_count": null,
   "id": "57830ad0-f4ca-4a13-b299-08c159e88099",
   "metadata": {},
   "outputs": [],
   "source": []
  },
  {
   "cell_type": "code",
   "execution_count": 17,
   "id": "b3a12187-999c-448d-9c8c-633a626fcd11",
   "metadata": {},
   "outputs": [
    {
     "data": {
      "text/plain": [
       "array([[7.46039125e-322, 0.00000000e+000, 0.00000000e+000,\n",
       "        2.12199579e-314, 0.00000000e+000, 4.99006302e-322,\n",
       "        0.00000000e+000, 0.00000000e+000],\n",
       "       [2.12199579e-314, 4.24399158e-314, 2.12199587e-314,\n",
       "        0.00000000e+000, 0.00000000e+000, 2.12199579e-314,\n",
       "        1.69759663e-313, 4.94065646e-322],\n",
       "       [0.00000000e+000, 0.00000000e+000, 2.12199579e-314,\n",
       "        3.18299369e-313, 2.12199587e-314, 0.00000000e+000,\n",
       "        0.00000000e+000, 2.12199579e-314],\n",
       "       [3.39519327e-313, 2.12199588e-314, 0.00000000e+000,\n",
       "        0.00000000e+000, 2.12199579e-314, 3.39519327e-313,\n",
       "        4.94065646e-324, 0.00000000e+000],\n",
       "       [0.00000000e+000, 2.12199579e-314, 3.39519327e-313,\n",
       "        2.12199584e-314, 0.00000000e+000, 0.00000000e+000,\n",
       "        2.12199579e-314, 3.39519327e-313],\n",
       "       [4.10074486e-322, 0.00000000e+000, 0.00000000e+000,\n",
       "        2.12199579e-314, 3.39519327e-313, 0.00000000e+000,\n",
       "        0.00000000e+000, 0.00000000e+000],\n",
       "       [0.00000000e+000, 0.00000000e+000, 0.00000000e+000,\n",
       "        0.00000000e+000, 0.00000000e+000, 0.00000000e+000,\n",
       "        0.00000000e+000, 0.00000000e+000],\n",
       "       [0.00000000e+000, 0.00000000e+000, 0.00000000e+000,\n",
       "        0.00000000e+000, 0.00000000e+000, 0.00000000e+000,\n",
       "        0.00000000e+000, 0.00000000e+000],\n",
       "       [0.00000000e+000, 0.00000000e+000, 0.00000000e+000,\n",
       "        0.00000000e+000, 0.00000000e+000, 0.00000000e+000,\n",
       "        0.00000000e+000, 0.00000000e+000],\n",
       "       [0.00000000e+000, 0.00000000e+000, 0.00000000e+000,\n",
       "        0.00000000e+000, 0.00000000e+000, 0.00000000e+000,\n",
       "        0.00000000e+000, 0.00000000e+000]])"
      ]
     },
     "execution_count": 17,
     "metadata": {},
     "output_type": "execute_result"
    }
   ],
   "source": [
    "np.empty((10,8))"
   ]
  },
  {
   "cell_type": "code",
   "execution_count": null,
   "id": "631a875a-cc46-48ab-a51b-d74af9f975bd",
   "metadata": {},
   "outputs": [],
   "source": []
  },
  {
   "cell_type": "code",
   "execution_count": 18,
   "id": "594f30cc-18ff-4078-8529-50647beae7ba",
   "metadata": {},
   "outputs": [
    {
     "data": {
      "text/plain": [
       "array([[20, 20, 20, 20, 20, 20, 20],\n",
       "       [20, 20, 20, 20, 20, 20, 20],\n",
       "       [20, 20, 20, 20, 20, 20, 20],\n",
       "       [20, 20, 20, 20, 20, 20, 20],\n",
       "       [20, 20, 20, 20, 20, 20, 20]])"
      ]
     },
     "execution_count": 18,
     "metadata": {},
     "output_type": "execute_result"
    }
   ],
   "source": [
    "np.full((5,7), fill_value=20)"
   ]
  },
  {
   "cell_type": "code",
   "execution_count": null,
   "id": "90dc79dd-116d-4cc1-91b3-35d42dc7cb45",
   "metadata": {},
   "outputs": [],
   "source": []
  },
  {
   "cell_type": "code",
   "execution_count": 19,
   "id": "82945d0a-ae1b-4e37-9606-7507c3666b39",
   "metadata": {},
   "outputs": [
    {
     "data": {
      "text/plain": [
       "array([[3.14159265, 3.14159265, 3.14159265, 3.14159265, 3.14159265,\n",
       "        3.14159265, 3.14159265],\n",
       "       [3.14159265, 3.14159265, 3.14159265, 3.14159265, 3.14159265,\n",
       "        3.14159265, 3.14159265],\n",
       "       [3.14159265, 3.14159265, 3.14159265, 3.14159265, 3.14159265,\n",
       "        3.14159265, 3.14159265],\n",
       "       [3.14159265, 3.14159265, 3.14159265, 3.14159265, 3.14159265,\n",
       "        3.14159265, 3.14159265],\n",
       "       [3.14159265, 3.14159265, 3.14159265, 3.14159265, 3.14159265,\n",
       "        3.14159265, 3.14159265]])"
      ]
     },
     "execution_count": 19,
     "metadata": {},
     "output_type": "execute_result"
    }
   ],
   "source": [
    "np.full((5,7), fill_value=np.pi)\n"
   ]
  },
  {
   "cell_type": "code",
   "execution_count": null,
   "id": "b7b8a884-429a-4d93-a144-3e9b9b655ae7",
   "metadata": {},
   "outputs": [],
   "source": []
  },
  {
   "cell_type": "code",
   "execution_count": null,
   "id": "64de4285-460c-4e17-9114-2f78bf4805c2",
   "metadata": {},
   "outputs": [],
   "source": []
  },
  {
   "cell_type": "code",
   "execution_count": 20,
   "id": "0e967c2c-ce0d-45cd-b1af-c486928b2b8e",
   "metadata": {},
   "outputs": [
    {
     "data": {
      "text/plain": [
       "array([[nan, nan, nan, nan, nan, nan, nan],\n",
       "       [nan, nan, nan, nan, nan, nan, nan],\n",
       "       [nan, nan, nan, nan, nan, nan, nan],\n",
       "       [nan, nan, nan, nan, nan, nan, nan],\n",
       "       [nan, nan, nan, nan, nan, nan, nan]])"
      ]
     },
     "execution_count": 20,
     "metadata": {},
     "output_type": "execute_result"
    }
   ],
   "source": [
    "np.full((5,7), fill_value=np.nan)\n"
   ]
  },
  {
   "cell_type": "code",
   "execution_count": null,
   "id": "443a279a-6e98-42ac-a47d-77ef580f9bb9",
   "metadata": {},
   "outputs": [],
   "source": []
  },
  {
   "cell_type": "code",
   "execution_count": 21,
   "id": "a1d9929f-e34e-4341-94d9-0dffeed0fc49",
   "metadata": {},
   "outputs": [
    {
     "data": {
      "text/plain": [
       "array([0.39759133, 0.94131695, 0.42867483, 0.8739025 , 0.7067509 ])"
      ]
     },
     "execution_count": 21,
     "metadata": {},
     "output_type": "execute_result"
    }
   ],
   "source": [
    "np.random.rand(5)"
   ]
  },
  {
   "cell_type": "code",
   "execution_count": null,
   "id": "d6cffb3e-564d-464a-a4d7-5b8a3d4cfeb0",
   "metadata": {},
   "outputs": [],
   "source": []
  },
  {
   "cell_type": "code",
   "execution_count": 22,
   "id": "bc95ee56-358a-43f7-9673-9750d274b133",
   "metadata": {},
   "outputs": [
    {
     "data": {
      "text/plain": [
       "array([[0.50484493, 0.69578465, 0.00342173, 0.09367534, 0.9784523 ],\n",
       "       [0.53558085, 0.67017163, 0.41430747, 0.97764924, 0.00892403],\n",
       "       [0.56241025, 0.72861184, 0.18628209, 0.74336789, 0.54209932]])"
      ]
     },
     "execution_count": 22,
     "metadata": {},
     "output_type": "execute_result"
    }
   ],
   "source": [
    "np.random.rand(3,5)"
   ]
  },
  {
   "cell_type": "code",
   "execution_count": 24,
   "id": "d8a06209-b3fe-4c51-bd9d-6d3bb1535599",
   "metadata": {},
   "outputs": [
    {
     "data": {
      "text/plain": [
       "array([0.09160065, 0.74820865, 0.20222751, 0.33813407, 0.24066313,\n",
       "       0.81948994, 0.23014602, 0.93287146, 0.856692  , 0.17001944,\n",
       "       0.88667871, 0.07897405, 0.41887197, 0.01137662, 0.20190681,\n",
       "       0.47364641, 0.25408417, 0.8142529 , 0.71461214, 0.16678131,\n",
       "       0.88360474, 0.65186764, 0.24353619, 0.85401227, 0.66512552,\n",
       "       0.65176844, 0.70385303, 0.37110952, 0.43763695, 0.45325398,\n",
       "       0.39086794, 0.3514748 , 0.13893787, 0.09991539, 0.20805693,\n",
       "       0.55860286, 0.05112672, 0.52142321, 0.39049339, 0.71598321,\n",
       "       0.31349631, 0.18535783, 0.28489497, 0.32628284, 0.00811485,\n",
       "       0.09500739, 0.47667191, 0.68290644, 0.12167911, 0.87110402,\n",
       "       0.11800617, 0.35610383, 0.68792728, 0.27870181, 0.92911625,\n",
       "       0.17751458, 0.03732843, 0.72387921, 0.97327048, 0.00279664,\n",
       "       0.99159927, 0.39155125, 0.31477042, 0.87835171, 0.89802928,\n",
       "       0.76856801, 0.00725208, 0.57631863, 0.59992372, 0.55700349,\n",
       "       0.4175346 , 0.16405766, 0.97205123, 0.85388522, 0.22592687,\n",
       "       0.31963148, 0.50399176, 0.02594241, 0.50380019, 0.68332745,\n",
       "       0.36087984, 0.07254126, 0.14725153, 0.58933527, 0.35502654,\n",
       "       0.67372688, 0.65321677, 0.43379771, 0.00667532, 0.2435843 ,\n",
       "       0.24258156, 0.98750343, 0.78594017, 0.2288311 , 0.4652902 ,\n",
       "       0.1118391 , 0.3122241 , 0.86893454, 0.83107988, 0.66263393,\n",
       "       0.02795768, 0.19456378, 0.52287731, 0.88877392, 0.42461544,\n",
       "       0.004883  , 0.44559489, 0.87879789, 0.1164808 , 0.24136037,\n",
       "       0.46274032, 0.90214328, 0.263906  , 0.88208811, 0.61906149,\n",
       "       0.09493849, 0.75335806, 0.32511815, 0.06580474, 0.52966049,\n",
       "       0.54364405, 0.23544986, 0.40928103, 0.07279903, 0.70782889,\n",
       "       0.97269033, 0.24642491, 0.46163977, 0.99306661, 0.040979  ,\n",
       "       0.26360079, 0.76120761, 0.3932536 , 0.34345508, 0.03489585,\n",
       "       0.7370148 , 0.88269445, 0.92922819, 0.55283828, 0.36370746,\n",
       "       0.12986684, 0.52987596, 0.45821542, 0.88483194, 0.10645398,\n",
       "       0.43500556, 0.41980765, 0.12245529, 0.48024397, 0.81684115,\n",
       "       0.54843189, 0.01457393, 0.47754635, 0.55188339, 0.67318156,\n",
       "       0.40003194, 0.21548378, 0.12280009, 0.98890629, 0.28118631,\n",
       "       0.96384664, 0.47437546, 0.77416949, 0.58081935, 0.88713351,\n",
       "       0.33910834, 0.24734799, 0.11988419, 0.04908543, 0.73642439,\n",
       "       0.8701874 , 0.93556788, 0.22502643, 0.93873873, 0.8282941 ,\n",
       "       0.3611419 , 0.60340613, 0.43824208, 0.15585441, 0.53924947,\n",
       "       0.52447409, 0.58784977, 0.43647323, 0.4531594 , 0.67038259,\n",
       "       0.52543838, 0.05002871, 0.25001416, 0.53176658, 0.13197368,\n",
       "       0.70523517, 0.92746438, 0.25475291, 0.17697406, 0.02259993,\n",
       "       0.3994731 , 0.67539085, 0.40497344, 0.65474038, 0.42549608,\n",
       "       0.49966162, 0.46936439, 0.52707186, 0.98203278, 0.98903123,\n",
       "       0.90119422, 0.01480206, 0.82672397, 0.51091077, 0.33035214,\n",
       "       0.11118519, 0.25762604, 0.23494192, 0.93515624, 0.15837409,\n",
       "       0.21422861, 0.94204011, 0.58071788, 0.89154403, 0.85136665,\n",
       "       0.75163279, 0.52708423, 0.83578812, 0.55119793, 0.18358264,\n",
       "       0.1059046 , 0.08287694, 0.64638487, 0.09016349, 0.38117581,\n",
       "       0.02083711, 0.14842794, 0.9903662 , 0.951722  , 0.96550725,\n",
       "       0.67191947, 0.38473336, 0.2451307 , 0.30399522, 0.43450955,\n",
       "       0.89004629, 0.6800677 , 0.19885281, 0.15759768, 0.53763458,\n",
       "       0.1310455 , 0.25755863, 0.23832204, 0.01543996, 0.55690504,\n",
       "       0.81057107, 0.41444783, 0.64503378, 0.81020445, 0.10973389,\n",
       "       0.80549551, 0.02036375, 0.96534381, 0.86574006, 0.68843784,\n",
       "       0.16990026, 0.77635902, 0.06055736, 0.58137799, 0.57044102,\n",
       "       0.49396169, 0.27896398, 0.75000028, 0.45182783, 0.14530743,\n",
       "       0.93413504, 0.12627239, 0.06869516, 0.58427874, 0.22294658,\n",
       "       0.68693088, 0.06317073, 0.49124492, 0.10691963, 0.8687323 ,\n",
       "       0.40234586, 0.4556276 , 0.33374871, 0.14263082, 0.05861509,\n",
       "       0.76040755, 0.27174787, 0.02360202, 0.52963681, 0.61275093,\n",
       "       0.24962387, 0.23118733, 0.46462015, 0.34011209, 0.6258992 ,\n",
       "       0.04765546, 0.58737172, 0.66376373, 0.46566212, 0.08246382,\n",
       "       0.67902258, 0.16943388, 0.63624582, 0.26178625, 0.12978907,\n",
       "       0.26592255, 0.02076746, 0.76490914, 0.42288648, 0.99589926,\n",
       "       0.41120063, 0.27885436, 0.56334259, 0.67539291, 0.68914897,\n",
       "       0.2737095 , 0.38021982, 0.3590779 , 0.10481541, 0.28072562,\n",
       "       0.52263677, 0.08233673, 0.94495117, 0.34755524, 0.34002051,\n",
       "       0.3036498 , 0.2390521 , 0.99686898, 0.4365493 , 0.8235379 ,\n",
       "       0.53328299, 0.36570131, 0.91181184, 0.363239  , 0.99428738,\n",
       "       0.57049274, 0.81020507, 0.63720819, 0.08121704, 0.05821021,\n",
       "       0.93624252, 0.20426943, 0.41362681, 0.66058778, 0.47567429,\n",
       "       0.54559795, 0.17203371, 0.36589219, 0.55843687, 0.53032135,\n",
       "       0.30818248, 0.08302041, 0.32456541, 0.92807472, 0.74538622,\n",
       "       0.56433984, 0.97608858, 0.56325072, 0.17336848, 0.50205081,\n",
       "       0.64944418, 0.77837016, 0.4575994 , 0.9660861 , 0.62839089,\n",
       "       0.88937314, 0.30508572, 0.82975301, 0.02718837, 0.28900043,\n",
       "       0.18314539, 0.45495744, 0.24120285, 0.83926767, 0.35786625,\n",
       "       0.20056165, 0.55882527, 0.18326086, 0.47853936, 0.02697293,\n",
       "       0.16828359, 0.08999646, 0.72312528, 0.15061873, 0.27727324,\n",
       "       0.69550442, 0.97387194, 0.68215216, 0.15191783, 0.43723388,\n",
       "       0.89767729, 0.47237054, 0.95868242, 0.00931758, 0.03390321,\n",
       "       0.66716408, 0.51364536, 0.13327864, 0.62258066, 0.34401456,\n",
       "       0.25750895, 0.97420289, 0.51279249, 0.30921764, 0.94243836,\n",
       "       0.41241833, 0.59922093, 0.81719607, 0.89517566, 0.28954324,\n",
       "       0.47565247, 0.31326937, 0.69950036, 0.01387687, 0.28100592,\n",
       "       0.34097995, 0.09020516, 0.92342076, 0.490689  , 0.22967519,\n",
       "       0.49543158, 0.44382416, 0.80646197, 0.40796022, 0.91948798,\n",
       "       0.04891761, 0.95407623, 0.74955482, 0.13275128, 0.51304413,\n",
       "       0.8254955 , 0.83270108, 0.38327451, 0.58964548, 0.26993117,\n",
       "       0.15872592, 0.40004877, 0.00736809, 0.41200575, 0.02113662,\n",
       "       0.8117834 , 0.65759491, 0.46042178, 0.21299651, 0.44210147,\n",
       "       0.84829274, 0.79260719, 0.14848407, 0.18440819, 0.02928606,\n",
       "       0.45613445, 0.64545129, 0.02433667, 0.35469534, 0.45707196,\n",
       "       0.72436294, 0.33410962, 0.66054926, 0.9279167 , 0.8718696 ,\n",
       "       0.50166695, 0.16578113, 0.30930181, 0.10917526, 0.97952768,\n",
       "       0.82100954, 0.3672523 , 0.45404263, 0.48011188, 0.27985387,\n",
       "       0.59721256, 0.95621884, 0.38019439, 0.53130727, 0.68029548,\n",
       "       0.0214885 , 0.54019183, 0.32726632, 0.01485333, 0.46706235,\n",
       "       0.18091914, 0.51891498, 0.07916082, 0.0896069 , 0.85909512,\n",
       "       0.45731501, 0.68530566, 0.37037108, 0.89057718, 0.08868235,\n",
       "       0.97221555, 0.54101917, 0.57516314, 0.97467472, 0.67930898,\n",
       "       0.23892831, 0.09147253, 0.03036874, 0.99322235, 0.10120581,\n",
       "       0.8433902 , 0.77625969, 0.53957594, 0.52570371, 0.04559389,\n",
       "       0.39761871, 0.48755237, 0.65473455, 0.53130324, 0.66630011,\n",
       "       0.17192301, 0.25193199, 0.3736746 , 0.80729431, 0.57700577,\n",
       "       0.19647466, 0.72588461, 0.56123233, 0.65505404, 0.05304641,\n",
       "       0.74778455, 0.16888644, 0.32477961, 0.92090479, 0.22140947,\n",
       "       0.751429  , 0.10444702, 0.72319109, 0.46758278, 0.75031914,\n",
       "       0.72156757, 0.61476053, 0.11697241, 0.80709005, 0.63554921,\n",
       "       0.88240536, 0.82909322, 0.34246497, 0.5982036 , 0.42554185,\n",
       "       0.78772968, 0.0489853 , 0.02645586, 0.58011296, 0.97728663,\n",
       "       0.59190905, 0.42258057, 0.71229726, 0.78303897, 0.45108777,\n",
       "       0.05773197, 0.06560839, 0.34266581, 0.95084595, 0.95208188,\n",
       "       0.98521812, 0.40439056, 0.21428411, 0.6374755 , 0.79467886,\n",
       "       0.73381278, 0.5164754 , 0.28972433, 0.83575571, 0.24428674,\n",
       "       0.68425342, 0.73637137, 0.57552178, 0.99701752, 0.29792064,\n",
       "       0.77438329, 0.74889089, 0.38445318, 0.42027639, 0.98882673,\n",
       "       0.82695179, 0.52357969, 0.31682246, 0.28436954, 0.67363785,\n",
       "       0.78866805, 0.8901794 , 0.47071471, 0.04725906, 0.96897083,\n",
       "       0.43716418, 0.64156311, 0.71795415, 0.34013971, 0.20173411,\n",
       "       0.73581862, 0.51501473, 0.40397087, 0.3428476 , 0.80383717,\n",
       "       0.90308476, 0.17834555, 0.83039608, 0.88656049, 0.70596896,\n",
       "       0.15080673, 0.35850108, 0.66693989, 0.1544912 , 0.14013343,\n",
       "       0.11259642, 0.34257579, 0.14069804, 0.22609262, 0.36690174,\n",
       "       0.0504271 , 0.71415773, 0.47024455, 0.23545862, 0.40722926,\n",
       "       0.43489449, 0.26846561, 0.0403974 , 0.66059153, 0.85357931,\n",
       "       0.71255542, 0.54171783, 0.49769697, 0.67942208, 0.92072476,\n",
       "       0.31178042, 0.20910908, 0.40118185, 0.17650424, 0.11097852,\n",
       "       0.52105687, 0.54863176, 0.28128642, 0.82099993, 0.73411865,\n",
       "       0.99474151, 0.04915199, 0.81641686, 0.03218217, 0.86390763,\n",
       "       0.24314282, 0.64029798, 0.9723627 , 0.95189566, 0.56197938,\n",
       "       0.43217994, 0.14157625, 0.00527565, 0.4044372 , 0.28011793,\n",
       "       0.4304515 , 0.35283705, 0.98616221, 0.7036954 , 0.87624777,\n",
       "       0.97882898, 0.28183332, 0.0260742 , 0.09142884, 0.86888668,\n",
       "       0.99954804, 0.4345051 , 0.92125889, 0.95326081, 0.83836727,\n",
       "       0.71691892, 0.43056808, 0.27655898, 0.90400302, 0.64706841,\n",
       "       0.61594211, 0.86081547, 0.65521741, 0.71675686, 0.49752758,\n",
       "       0.80036264, 0.32074876, 0.17590485, 0.32720735, 0.2537181 ,\n",
       "       0.76324414, 0.50333065, 0.53822811, 0.9302981 , 0.81207515,\n",
       "       0.31212165, 0.44854124, 0.64250114, 0.77210505, 0.17200738,\n",
       "       0.84202085, 0.7344661 , 0.9265946 , 0.11891211, 0.84505419,\n",
       "       0.67035548, 0.86459265, 0.6949836 , 0.74243932, 0.63507053,\n",
       "       0.55517746, 0.48693315, 0.22916006, 0.12227727, 0.84153805,\n",
       "       0.85274299, 0.06429852, 0.27102207, 0.62353196, 0.96021712,\n",
       "       0.19876363, 0.21894538, 0.34454216, 0.60508839, 0.82697838,\n",
       "       0.96284619, 0.89373221, 0.8592644 , 0.99287313, 0.12025767,\n",
       "       0.64973832, 0.57372749, 0.31550177, 0.32813195, 0.83389518,\n",
       "       0.29997471, 0.17758805, 0.08814973, 0.35742675, 0.5407952 ,\n",
       "       0.45628872, 0.41668277, 0.52572817, 0.69853764, 0.50640137,\n",
       "       0.09474661, 0.45734252, 0.21558827, 0.13326104, 0.52970179,\n",
       "       0.58282677, 0.84398768, 0.3413711 , 0.05755454, 0.96396829,\n",
       "       0.45374862, 0.45868734, 0.12816542, 0.66213255, 0.80882707,\n",
       "       0.81314795, 0.00639999, 0.03370927, 0.98767441, 0.01308528,\n",
       "       0.88582103, 0.0227502 , 0.52739766, 0.23320452, 0.79408389,\n",
       "       0.32300103, 0.39136565, 0.73722031, 0.54572867, 0.37481673,\n",
       "       0.15006048, 0.48014632, 0.91996828, 0.04539722, 0.0382636 ,\n",
       "       0.92802194, 0.99447982, 0.29079896, 0.41235181, 0.96030525,\n",
       "       0.4282701 , 0.3919334 , 0.19387657, 0.63704769, 0.19052516,\n",
       "       0.91207949, 0.0880239 , 0.81859538, 0.55734125, 0.8123095 ,\n",
       "       0.92642872, 0.2436308 , 0.89482382, 0.59385398, 0.76779397,\n",
       "       0.75423667, 0.36437851, 0.92719892, 0.49762482, 0.6078948 ,\n",
       "       0.19625021, 0.50261913, 0.83633361, 0.1019487 , 0.49649279,\n",
       "       0.47525122, 0.12795343, 0.57938852, 0.0866245 , 0.82942862,\n",
       "       0.44506583, 0.57018846, 0.00347625, 0.48031493, 0.72509891,\n",
       "       0.81757692, 0.38424263, 0.03757348, 0.89223773, 0.06202238,\n",
       "       0.32162384, 0.37687096, 0.71728629, 0.62184026, 0.26696223,\n",
       "       0.94521956, 0.47343354, 0.42469637, 0.08256908, 0.5350305 ,\n",
       "       0.04510507, 0.2289117 , 0.74048149, 0.97602781, 0.70334797,\n",
       "       0.65246982, 0.82599867, 0.71065913, 0.65623258, 0.59467363,\n",
       "       0.96246467, 0.30362845, 0.09184413, 0.93451269, 0.43348067,\n",
       "       0.09882351, 0.93389639, 0.13989138, 0.75613972, 0.11229128,\n",
       "       0.29052209, 0.01509102, 0.90119252, 0.15688112, 0.19807135,\n",
       "       0.7003338 , 0.60444562, 0.63662454, 0.5501358 , 0.23478719,\n",
       "       0.14126642, 0.50699845, 0.88804084, 0.34527467, 0.58357987,\n",
       "       0.64146667, 0.34391701, 0.67610398, 0.9371801 , 0.01557354,\n",
       "       0.72042286, 0.97388519, 0.27413581, 0.78147998, 0.02573228,\n",
       "       0.02482127, 0.09558781, 0.97138875, 0.04759809, 0.49195428,\n",
       "       0.40221045, 0.6183206 , 0.50160249, 0.48919548, 0.44449497,\n",
       "       0.90454143, 0.91554417, 0.31567649, 0.51908062, 0.45611971,\n",
       "       0.0626189 , 0.16612557, 0.92629072, 0.47906364, 0.76814411,\n",
       "       0.78162983, 0.78599623, 0.49043864, 0.8458716 , 0.20874866,\n",
       "       0.79860255, 0.29090111, 0.76030323, 0.15020996, 0.75036089,\n",
       "       0.13239762, 0.50941603, 0.37625785, 0.38727266, 0.48674459,\n",
       "       0.34229171, 0.80405566, 0.52848727, 0.82030106, 0.08769051,\n",
       "       0.23780902, 0.80958793, 0.42140394, 0.64612393, 0.74406753,\n",
       "       0.42489262, 0.17112093, 0.40988399, 0.29639586, 0.69115401,\n",
       "       0.65072184, 0.68881762, 0.57242438, 0.98444605, 0.57057778,\n",
       "       0.88071883, 0.10560661, 0.87846675, 0.06520555, 0.02038123,\n",
       "       0.26793792, 0.07752434, 0.18815895, 0.1466121 , 0.08665906,\n",
       "       0.59649364, 0.18760325, 0.77670467, 0.29947221, 0.67490014,\n",
       "       0.53008884, 0.95632693, 0.96022001, 0.49205291, 0.73823701,\n",
       "       0.76189237, 0.73606615, 0.81390685, 0.17792268, 0.04561383,\n",
       "       0.26750278, 0.61617717, 0.6458972 , 0.40235889, 0.68225412,\n",
       "       0.61419047, 0.84647781, 0.58829668, 0.33003007, 0.23196117,\n",
       "       0.22406764, 0.99686037, 0.73212135, 0.52268592, 0.9701494 ,\n",
       "       0.38204078, 0.08795437, 0.11018966, 0.68171769, 0.60173636,\n",
       "       0.49214   , 0.9696438 , 0.19839478, 0.22631954, 0.47099419,\n",
       "       0.34838284, 0.591375  , 0.9196214 , 0.19151076, 0.8071127 ,\n",
       "       0.41726844, 0.50261   , 0.62708129, 0.38431243, 0.61211959,\n",
       "       0.08241843, 0.57972476, 0.5970133 , 0.2425534 , 0.98089449,\n",
       "       0.011236  , 0.22637293, 0.3029932 , 0.472437  , 0.63498771,\n",
       "       0.64047737, 0.29641281, 0.29243835, 0.67011232, 0.30837402])"
      ]
     },
     "execution_count": 24,
     "metadata": {},
     "output_type": "execute_result"
    }
   ],
   "source": [
    "arr = np.random.rand(1000)\n",
    "arr"
   ]
  },
  {
   "cell_type": "code",
   "execution_count": 25,
   "id": "b7afd797-f97d-4de8-a89c-26f382bb7ef9",
   "metadata": {},
   "outputs": [],
   "source": [
    "import matplotlib.pyplot as plt"
   ]
  },
  {
   "cell_type": "code",
   "execution_count": 26,
   "id": "b755d1be-fbc5-4a4f-aac0-1b451fbe292d",
   "metadata": {},
   "outputs": [
    {
     "data": {
      "image/png": "[encoded data removed]",
      "text/plain": [
       "<Figure size 640x480 with 1 Axes>"
      ]
     },
     "metadata": {},
     "output_type": "display_data"
    }
   ],
   "source": [
    "plt.hist(arr, ec='y')\n",
    "plt.show()"
   ]
  },
  {
   "cell_type": "code",
   "execution_count": 27,
   "id": "8e56623e-3847-4e27-9c6b-032795bfc1b8",
   "metadata": {},
   "outputs": [
    {
     "data": {
      "text/plain": [
       "array([ 1.99988441e-01, -6.33176760e-01,  1.35018478e+00,  2.61619963e-01,\n",
       "       -1.69280123e-01, -8.10188386e-01,  8.49263694e-01,  5.89305520e-01,\n",
       "       -1.04290224e+00,  2.02274015e+00,  2.88980350e+00, -1.77944822e+00,\n",
       "       -1.05715290e+00,  9.89193934e-01,  9.36246991e-01,  1.87755187e-01,\n",
       "       -1.24796621e+00, -6.53700893e-01,  2.33685429e-01, -2.90046288e-01,\n",
       "       -8.49447347e-01, -1.67096343e+00, -6.29415115e-03,  6.83705776e-01,\n",
       "        1.07224807e+00,  4.55131516e-01,  9.70093502e-01,  5.22862040e-01,\n",
       "        5.20735717e-01, -9.26137141e-01, -5.51960837e-01,  5.72262522e-01,\n",
       "       -9.25378202e-02,  1.95395036e-01, -3.96276081e-01, -9.80282600e-01,\n",
       "       -9.30982197e-01, -2.82435426e-01, -1.53311302e+00,  4.94112270e-01,\n",
       "       -1.11287590e+00,  6.87068378e-01, -1.48123563e+00,  5.74011635e-01,\n",
       "        6.19153028e-01, -2.67608629e-01, -3.75107122e-01, -3.19128208e-01,\n",
       "       -9.93454521e-01,  5.29837339e-01, -1.66596138e+00,  2.94043921e-01,\n",
       "       -1.39701690e-01, -1.98833385e+00, -1.81834225e-02,  1.37592604e+00,\n",
       "        9.15878189e-01,  2.30348205e-01, -1.10260690e+00,  6.63778476e-01,\n",
       "       -2.47816175e-01,  5.54998747e-01, -5.77409787e-01,  1.40868117e+00,\n",
       "        5.55027364e-01,  1.70963090e+00,  1.58954327e+00,  8.70493302e-01,\n",
       "       -8.16155075e-01, -5.15181906e-01,  1.43298707e+00,  2.25474921e+00,\n",
       "       -6.03135980e-02, -9.20167524e-01, -2.11112993e+00, -1.48288630e-01,\n",
       "       -8.51005662e-02,  9.60815593e-01,  3.37541575e-01, -3.05910959e-01,\n",
       "       -1.66593966e-01, -6.59444720e-01, -6.98021979e-01,  1.63946548e+00,\n",
       "        1.61776841e+00, -3.04845805e+00, -5.13901499e-01, -4.17327708e-01,\n",
       "       -1.66323179e+00, -5.97278123e-01, -1.20338646e+00,  1.60904161e+00,\n",
       "       -1.22631757e+00,  5.20313840e-01, -1.01164197e+00,  3.79431486e-01,\n",
       "        1.97545637e-01,  1.25485969e+00,  2.89707167e-01,  2.36568540e+00,\n",
       "       -7.21393756e-01, -1.47540086e+00, -1.29367992e+00, -1.13653578e-01,\n",
       "        4.50290320e-01,  1.27098795e+00,  3.89782667e-01,  1.77781839e+00,\n",
       "       -9.18970853e-01, -4.01949013e-01,  3.88026141e-01, -5.69442703e-01,\n",
       "       -3.50690620e-01,  2.94382213e-01, -1.18527461e+00, -2.13765552e+00,\n",
       "       -9.55709632e-02,  1.03804164e+00,  2.61628172e+00,  4.48624431e-01,\n",
       "        6.02831787e-01,  3.08272072e-01,  5.07118448e-01,  7.24798749e-01,\n",
       "       -5.53672394e-01, -3.89777637e-01,  1.12966830e+00,  1.42900301e+00,\n",
       "       -2.69314543e-01, -1.21250170e+00, -5.05913634e-01, -3.12373159e-01,\n",
       "        1.60739418e+00,  6.62240761e-03, -5.31668072e-01,  1.60942582e+00,\n",
       "        3.50587540e+00,  3.40034952e+00,  3.31357516e-01, -3.71663488e-01,\n",
       "       -1.03172057e+00,  1.72295491e+00, -1.99352969e+00,  1.69807172e+00,\n",
       "        5.05588353e-01,  2.36778538e+00, -3.96070433e-01,  5.34411230e-01,\n",
       "        6.50929306e-01,  2.43285662e+00, -1.94322483e+00, -6.17088479e-01,\n",
       "       -8.55514364e-01, -1.76609278e-01, -9.25753260e-01, -3.47700963e-01,\n",
       "       -1.65388294e+00,  9.25613483e-01, -7.68883646e-01, -9.39866225e-01,\n",
       "       -9.51415596e-01,  3.02565611e-01, -1.72842909e-01, -1.94415808e+00,\n",
       "        1.02411079e+00,  2.02672243e+00, -2.21938075e-01, -1.87489569e+00,\n",
       "        1.64972161e-01, -2.38102690e-01,  4.71999539e-01,  1.05207135e-01,\n",
       "        2.69131516e-01, -1.78648894e+00,  1.08857078e-01,  6.32862118e-01,\n",
       "        2.30416994e-01, -3.66107953e-01, -7.03307143e-01, -3.92959347e-01,\n",
       "       -3.00403286e-02, -1.23891375e+00,  6.16086741e-01, -1.93174591e+00,\n",
       "        7.17198288e-01,  4.21738554e-01,  8.04212310e-01, -3.73731750e-01,\n",
       "       -9.85847402e-01, -9.13260027e-01, -8.13970186e-01, -1.68760758e+00,\n",
       "        5.26813329e-01,  1.73810718e+00,  7.87510779e-02,  1.30868951e+00,\n",
       "       -1.78842600e-01, -2.02123960e-01,  4.72916383e-02, -1.32616557e+00,\n",
       "        1.10796576e+00,  3.65567394e-01, -1.51339428e-01, -1.05724815e+00,\n",
       "       -9.76437117e-01,  1.11058613e+00,  5.16353914e-02, -2.73772240e+00,\n",
       "       -9.17003451e-01,  1.41030457e-01, -7.89455018e-01, -3.02217735e-01,\n",
       "        8.11817587e-01,  3.39932644e-01,  6.92007376e-01,  1.50583476e+00,\n",
       "       -5.62435717e-01, -5.33476402e-01,  5.41353982e-01, -1.42887220e+00,\n",
       "       -2.69444591e-01, -7.64769028e-01, -9.54998236e-01,  5.46895136e-01,\n",
       "       -5.96382647e-01,  1.18705577e+00, -4.15994112e-01, -3.34541792e-01,\n",
       "        5.02895708e-01,  7.49596238e-01,  1.37970225e+00, -1.81501158e-01,\n",
       "       -1.77747889e-01,  5.34161689e-01,  1.49124227e+00,  6.67678331e-01,\n",
       "       -4.70078140e-01, -5.94786538e-01, -3.19173872e-01, -3.79754185e-01,\n",
       "       -6.89597489e-01,  4.98838575e-01, -9.96615134e-01, -7.67200431e-01,\n",
       "        3.24297201e-01,  9.79581870e-01,  1.13813591e+00, -7.56299537e-01,\n",
       "        8.35008214e-02, -9.36693104e-01, -1.47478751e+00,  4.52804937e-01,\n",
       "        1.51027794e+00,  1.50009092e+00, -5.33394013e-02,  7.93708114e-01,\n",
       "       -1.38112224e-01,  3.83345417e-01, -1.53361200e+00,  8.38997863e-01,\n",
       "       -1.57338621e+00, -6.32486803e-01, -5.04257448e-01,  1.44791938e+00,\n",
       "       -1.99658698e+00, -5.45347818e-01, -1.26910964e+00,  1.32629896e+00,\n",
       "       -1.16716024e-01, -5.31389467e-01, -1.21664022e+00,  7.92185829e-01,\n",
       "       -9.39107816e-01,  1.40010409e+00,  6.18272103e-01, -3.16675653e-01,\n",
       "       -6.57790082e-01, -1.29415142e-01,  1.19852846e-01,  1.08421754e+00,\n",
       "       -1.26850901e+00, -3.39605098e-01,  1.14972733e-01, -7.65202405e-02,\n",
       "       -5.60028471e-01,  1.90662650e+00, -5.62078273e-01, -2.12294445e-01,\n",
       "        1.56556718e+00, -2.69579257e+00, -1.31620252e+00, -1.80372551e-01,\n",
       "        1.83385729e+00, -2.62852272e-01, -1.33171475e+00, -2.52856201e+00,\n",
       "        6.57457268e-01,  3.42832930e-01,  1.31839929e+00,  1.74443180e+00,\n",
       "        2.12686451e+00,  2.09293367e-01,  4.99259780e-01,  1.57821090e+00,\n",
       "       -1.26459676e+00,  3.59203351e-01,  1.33751250e+00, -1.08206369e+00,\n",
       "        1.41856914e+00,  7.20231561e-01, -3.80979281e-01, -5.03695640e-01,\n",
       "       -4.40457276e-02,  3.20581948e-01, -2.66861856e-02, -4.46242616e-02,\n",
       "        1.61384806e-01, -9.49299713e-02, -2.27728904e-01,  6.20610955e-01,\n",
       "        5.32947830e-01, -7.81760461e-01, -1.90364181e+00, -2.37812454e+00,\n",
       "       -5.50828287e-01,  1.27681800e-01,  1.73906465e-01,  7.15331184e-01,\n",
       "        5.53939384e-01,  7.24651706e-01,  1.95659359e+00,  1.10723128e+00,\n",
       "        5.79034804e-01,  3.14051943e-01,  1.26088263e+00, -2.74384761e-01,\n",
       "       -1.90776461e-01,  2.39567046e+00,  1.21030813e+00, -1.30623173e+00,\n",
       "        2.14748252e+00,  5.71090475e-01, -2.71816391e-01, -7.00150993e-01,\n",
       "       -5.18504651e-02, -5.56668405e-03,  7.15995736e-01, -2.15799865e+00,\n",
       "       -3.46495619e-01,  8.31612881e-01, -1.66748465e+00, -3.63433501e-01,\n",
       "        5.64207001e-01,  7.56296283e-01, -1.39676586e+00,  1.09627851e-01,\n",
       "       -2.65659325e-01,  1.15710743e+00, -1.81070639e+00, -8.26242132e-02,\n",
       "        2.21016350e+00,  1.46089823e+00, -4.95435126e-01, -1.16395976e+00,\n",
       "        1.16390721e+00,  4.69346356e-02,  2.48367234e-01,  7.38465747e-01,\n",
       "       -4.75169678e-01,  1.27807624e+00,  5.77625209e-01, -1.35718648e+00,\n",
       "        7.61499072e-01,  1.16864733e-01,  1.10887964e+00,  9.27989915e-01,\n",
       "       -5.06898995e-01, -6.53902290e-01, -1.14258581e+00,  1.25942616e+00,\n",
       "        2.10444867e-01, -6.26854749e-01,  2.08003744e+00, -1.60975114e+00,\n",
       "        1.40098532e+00,  5.16326821e-01, -1.46388807e-02,  6.56771235e-01,\n",
       "       -3.15195349e-01,  4.02688264e-01,  8.09186168e-01, -1.52680271e+00,\n",
       "        1.12717795e-01, -1.42771076e+00, -7.68146637e-01,  1.58419518e+00,\n",
       "        3.25122456e-01, -5.42323184e-01,  8.37560449e-01, -1.83404532e+00,\n",
       "       -5.78283532e-01, -1.97766774e-01, -2.24978829e-01,  6.62469242e-02,\n",
       "        4.15681188e-01,  5.72641835e-01, -6.61594581e-01, -9.60116390e-01,\n",
       "       -1.30923539e-01, -8.77364605e-02, -1.62063442e-01,  3.39094961e+00,\n",
       "        1.02779891e+00,  9.87123854e-01,  4.19227008e-01, -1.91536954e-01,\n",
       "        1.08822688e+00, -1.52589825e-01,  8.96031969e-01, -3.28552163e-01,\n",
       "       -6.73963265e-02,  1.57863963e-01, -4.96558675e-01,  1.21710662e+00,\n",
       "       -1.14241559e+00, -9.36568053e-02,  7.59115469e-02,  1.69848023e+00,\n",
       "        4.39255252e-01, -4.81324577e-02, -8.12788962e-02, -1.54338068e+00,\n",
       "        1.82842518e-01,  3.57055757e-01, -1.64674717e+00,  8.09923487e-01,\n",
       "        9.40023101e-02,  2.82315347e-01, -6.04949941e-02,  1.68387255e-01,\n",
       "       -1.15479018e+00, -4.70979173e-01,  1.88427834e+00, -2.93521046e-01,\n",
       "       -2.06464319e-01, -2.58575642e-02,  5.31372096e-01,  2.00699405e+00,\n",
       "        3.51868871e-01, -3.40466431e-01,  2.47615682e-01,  1.69855156e-01,\n",
       "        1.00240940e+00, -3.84721874e-01,  2.96576573e-01, -5.61025275e-01,\n",
       "       -1.75533364e+00,  7.80128665e-02,  4.65452236e-01, -1.20556067e+00,\n",
       "       -2.04429598e+00, -1.13117714e+00, -1.01063510e-01, -1.22492828e+00,\n",
       "       -5.76667740e-01, -7.73981836e-02,  8.51411530e-02, -7.41845842e-01,\n",
       "       -2.36372078e-01,  1.51495673e-01, -1.93479268e-01,  1.26547868e+00,\n",
       "        2.88534878e-01, -4.00594239e-01,  1.25241263e+00, -1.17379668e+00,\n",
       "        1.13354690e+00, -1.25741549e-01,  8.35118204e-01, -2.19704508e-01,\n",
       "        3.76452758e-01,  4.19796408e-01, -4.56891074e-01, -5.02014049e-02,\n",
       "        1.29318997e+00,  1.67668489e+00, -1.17099945e+00, -9.59741961e-01,\n",
       "        3.21768729e-01,  1.16406881e+00, -1.02265402e-01,  5.37340392e-01,\n",
       "       -9.29864247e-01,  4.21869094e-01,  1.64814915e+00,  7.93200163e-01,\n",
       "       -1.47985697e+00,  7.87037448e-01, -8.02112862e-01,  8.76995228e-01,\n",
       "       -3.83590714e-01,  1.08845685e+00, -2.84209660e-01, -1.53896912e-01,\n",
       "       -6.95069420e-01, -1.47585138e+00,  3.13901777e-02,  1.03526873e+00,\n",
       "       -1.73785810e+00,  1.28530539e+00,  5.72292161e-01,  1.06414759e+00,\n",
       "        2.19769568e-01,  8.10457105e-01, -4.99018783e-01,  7.48564909e-01,\n",
       "        1.46006480e+00, -1.40474930e+00, -1.20430783e-02, -5.35863620e-01,\n",
       "        1.13197194e+00,  9.08681782e-01, -2.31590560e-01,  7.31352544e-01,\n",
       "        3.67682993e-01,  1.09370217e+00, -3.55712924e-01, -2.80420991e+00,\n",
       "       -9.19360048e-01,  8.46552627e-01, -8.22180793e-01, -8.74180971e-01,\n",
       "        1.18249503e-01, -1.11796111e+00,  5.49910803e-01, -1.78048928e+00,\n",
       "        1.27027636e+00, -5.16146846e-01,  3.09581757e-01, -1.56612436e+00,\n",
       "        5.43862837e-01, -5.77026655e-01, -6.83667450e-01, -1.06428892e+00,\n",
       "        3.43092252e-02, -9.84756504e-01, -6.39072174e-01, -7.68010893e-01,\n",
       "       -2.51177180e-01,  2.24251879e+00, -1.00386713e+00, -9.39202026e-01,\n",
       "       -1.60197933e+00, -1.01337921e+00, -7.08163637e-01, -9.90530754e-01,\n",
       "        2.63996791e-01,  8.83672333e-01, -1.60191385e-01,  1.01343680e+00,\n",
       "        6.17833388e-01,  1.21895211e+00,  2.86497961e-01,  2.85243144e-01,\n",
       "        1.20760209e+00,  1.42178720e+00, -9.87707176e-01, -1.82613260e+00,\n",
       "       -7.08326504e-01,  7.23916835e-02, -1.27847929e+00, -7.58560384e-01,\n",
       "        7.38471662e-01,  7.97329175e-01,  5.30209539e-02, -1.33463221e+00,\n",
       "       -1.54030655e+00, -2.77668328e-01,  3.79848227e-01, -7.56916226e-01,\n",
       "        1.05081703e+00, -9.79002968e-01,  1.06502264e+00,  9.11785023e-01,\n",
       "       -5.58663654e-01,  4.22151394e-01, -5.21540689e-01,  9.53542218e-01,\n",
       "        9.08587654e-01, -1.56462328e-01,  1.33791737e-01,  5.03303267e-01,\n",
       "        5.29531331e-01,  4.08298317e-01,  1.24878470e+00,  7.02448258e-01,\n",
       "        1.20295980e+00,  6.28488715e-01, -1.12705035e-01,  1.08547862e+00,\n",
       "       -1.26775536e+00,  6.27669563e-01,  1.45851945e+00,  2.89617827e-01,\n",
       "        3.52615836e-01, -1.76405889e+00, -2.17141264e-01,  1.43623727e+00,\n",
       "       -9.03368854e-01, -2.24134644e-01,  1.48796656e-01, -3.18255196e-01,\n",
       "       -2.25685386e-01, -8.59867890e-01, -6.24435303e-02,  2.02696626e-01,\n",
       "        3.86497672e-01,  3.43366531e-01, -3.95344792e-01,  1.22509772e+00,\n",
       "        1.15012903e+00, -3.40377818e-01, -4.03782571e-01, -7.17717462e-01,\n",
       "       -7.91876855e-01,  1.02010421e+00, -1.00932921e+00, -1.47973069e-01,\n",
       "        1.90772134e+00, -3.46928289e-01,  6.84255149e-01, -1.58890859e+00,\n",
       "       -9.82277454e-01,  1.65201593e+00, -1.32203164e-01, -1.24956644e+00,\n",
       "        5.77546523e-01, -1.35727137e+00, -5.81903209e-01,  6.81294737e-01,\n",
       "        1.42081851e+00,  1.92958715e+00, -6.28663486e-01, -2.36135485e-01,\n",
       "       -9.76872535e-01,  1.04249728e+00,  1.85343549e+00, -3.26001651e-01,\n",
       "       -3.14537454e-01,  6.63499795e-01,  1.10401649e+00,  1.52108090e+00,\n",
       "        1.83213717e-01, -1.30899534e+00, -6.71750640e-01,  5.36839426e-01,\n",
       "        6.26256185e-01, -1.10606363e+00,  8.87534609e-01, -6.52775915e-01,\n",
       "       -3.43894092e-01,  2.79069124e-01,  9.23811996e-01,  6.42079930e-01,\n",
       "        4.67052151e-01, -9.21155717e-02,  5.96558626e-01,  1.11671519e+00,\n",
       "        3.62456977e+00, -2.20913681e-01,  7.77858190e-01,  7.45870336e-01,\n",
       "       -3.42905600e-01, -6.49666049e-01,  2.31517676e+00,  3.63405867e-01,\n",
       "       -1.93767999e-01,  1.05647340e+00, -1.92415148e+00, -2.14567919e+00,\n",
       "       -5.87131721e-01,  6.85809209e-01, -4.22224684e-01, -1.76709128e+00,\n",
       "        1.23658094e+00, -4.12139708e-01,  3.87457604e-01,  6.75851634e-01,\n",
       "       -2.58811725e-01,  1.13475584e+00, -1.44567257e-01, -7.49152551e-01,\n",
       "       -5.84211259e-01,  9.15543033e-01, -5.50035861e-01, -1.08967631e+00,\n",
       "        9.67670606e-01, -1.05313405e+00, -2.75148396e-01,  7.57824614e-01,\n",
       "       -2.13490027e-01, -5.70443413e-01, -1.14763562e+00,  3.16736850e-01,\n",
       "       -1.70428378e-01,  9.26683946e-01, -7.14311772e-02,  6.12891073e-01,\n",
       "        6.78558865e-01, -2.07398199e+00,  1.16104183e+00, -7.53101185e-01,\n",
       "        2.24941088e+00, -1.12066993e+00, -1.74550774e+00, -9.16131715e-01,\n",
       "       -3.86352856e-01,  1.57069550e+00,  1.05095582e+00, -3.33793803e+00,\n",
       "       -1.01395162e+00,  1.98783403e+00,  1.73864659e+00, -4.69925435e-01,\n",
       "       -8.85674899e-01,  1.20214870e+00,  1.64660896e+00,  2.28998488e-01,\n",
       "       -1.41762268e-01,  1.47673136e-01, -2.19874835e+00, -9.25006635e-01,\n",
       "       -1.05919886e+00,  2.74180305e-01, -8.59395137e-01,  5.21107568e-01,\n",
       "       -9.73261695e-02,  9.59725937e-01,  9.40219465e-01, -2.36860632e-01,\n",
       "       -3.40935556e-01,  1.45259017e+00, -2.63849867e+00, -1.02281508e+00,\n",
       "        1.23648821e+00, -1.26382170e+00, -1.10979604e+00,  2.74215044e-01,\n",
       "        8.20530795e-01,  9.70782874e-01, -1.18546052e+00, -4.83290042e-01,\n",
       "       -4.08553070e-01, -5.97388352e-01,  1.13442815e+00, -3.73278317e-01,\n",
       "       -3.11245559e-01,  1.74472265e-02,  6.84275164e-01, -6.93841021e-02,\n",
       "       -8.38390077e-01,  1.81806438e+00, -1.22909672e-02,  4.17973096e-01,\n",
       "        9.29892592e-01, -4.12522270e-01, -2.09321680e-01,  1.17379221e-01,\n",
       "       -2.45115896e-01, -1.60490333e+00,  9.54996921e-01,  7.55565380e-01,\n",
       "        5.91617805e-01, -8.06195383e-01,  9.47703612e-01, -8.46185672e-02,\n",
       "       -8.35499291e-01,  2.78427913e-01,  8.13061139e-02, -6.15458094e-01,\n",
       "        4.09709719e-01, -4.85049189e-01, -1.42201382e+00,  8.68381106e-01,\n",
       "       -1.19018564e-01, -2.19565957e+00, -5.53053073e-01, -8.98230122e-01,\n",
       "        5.26087080e-02, -1.82842329e+00,  1.02765744e-01,  8.79162001e-01,\n",
       "        3.00089431e-01,  7.91574149e-01, -1.20529895e+00,  1.91809999e+00,\n",
       "       -2.70345060e+00,  2.37015273e+00,  1.06787968e+00,  2.36604843e+00,\n",
       "       -1.51414985e-01, -9.36178015e-01, -2.68143506e-01, -8.05797332e-01,\n",
       "       -6.07577134e-02, -1.61857586e-01,  4.67809659e-01,  1.45817873e+00,\n",
       "        7.76999093e-01, -1.05679912e+00,  9.78708583e-01,  1.41520035e-01,\n",
       "        3.17024853e-02, -8.02973697e-01, -3.54627363e-02,  6.87891033e-01,\n",
       "       -1.47703500e+00,  2.20833554e+00,  1.28064485e+00,  8.46824382e-01,\n",
       "       -3.56396329e-01, -2.90207592e+00,  7.33498851e-02,  2.60503925e-01,\n",
       "        1.78638423e+00,  4.17151370e-01, -8.04512104e-01,  4.37328326e-01,\n",
       "       -1.38787641e+00,  3.92592497e-01, -2.38252720e-01, -2.00664898e-01,\n",
       "        6.46341709e-01, -5.56963878e-01, -9.35610569e-01, -1.39504428e+00,\n",
       "        1.04915723e+00,  1.05504523e+00, -2.46607451e+00, -5.63728537e-02,\n",
       "        3.51815637e-01,  1.27320653e+00, -4.61555033e-01, -1.48369681e-01,\n",
       "        9.90644963e-01,  5.81595897e-01,  5.11366494e-01, -1.95193709e+00,\n",
       "       -8.54250499e-01, -9.19215983e-01,  6.12770308e-01,  2.57780990e-01,\n",
       "        1.05819099e+00,  8.90743101e-01, -4.04135003e-01,  1.22763505e+00,\n",
       "        5.82942932e-01,  3.40554381e-01, -6.90207443e-01,  1.15205742e+00,\n",
       "       -3.93765458e-01,  8.04247824e-01, -2.15013606e+00, -3.26868529e+00,\n",
       "       -1.07368316e+00,  1.35001051e+00, -5.33091196e-01, -1.27191882e-01,\n",
       "        1.31189811e-01,  7.66245743e-02, -1.12777765e+00,  2.66887551e-01,\n",
       "       -1.97358159e-01, -4.78374548e-01,  3.40539368e-01,  4.15931616e-01,\n",
       "       -2.39089006e+00, -5.40324148e-01, -1.75307095e+00,  1.04680765e+00,\n",
       "        1.76653858e-01,  7.77181610e-01,  6.13615498e-01,  1.43172045e+00,\n",
       "        1.07843192e-01, -1.62412748e+00,  1.55777474e-01, -2.68666664e+00,\n",
       "       -1.10578453e+00,  9.71120054e-01, -1.34533396e+00, -1.29303610e-01,\n",
       "        1.24307319e+00, -7.88380683e-01,  9.89594478e-01, -1.17176687e+00,\n",
       "        3.01917450e-01, -7.07610191e-01,  9.04129313e-01,  3.59308950e-01,\n",
       "       -5.26979020e-01,  1.67631368e-01,  8.53925888e-02, -1.59292973e+00,\n",
       "        2.09480050e+00, -8.36076117e-01,  6.99873945e-01,  4.81816538e-01,\n",
       "       -1.01229209e+00,  3.26592798e-01, -3.67504661e-02, -1.07500885e-01,\n",
       "        5.17756297e-01, -1.63094758e+00, -5.18245066e-01, -1.68404879e-01,\n",
       "        3.41234233e-01, -8.35232480e-01,  5.49307360e-01,  5.69640111e-01,\n",
       "        6.52831943e-01, -1.07765260e+00, -9.24004155e-01,  6.03586024e-01,\n",
       "        1.77913484e+00,  5.94702688e-01,  4.02209982e+00, -4.78017867e-02,\n",
       "       -5.58921029e-01, -2.95045787e-02, -6.74288896e-01,  1.93643706e-01,\n",
       "        1.26480294e+00, -1.13497653e-01, -8.56848621e-01, -2.84632216e-01,\n",
       "        1.33385643e-01, -9.05471518e-01, -4.15508922e-01, -1.70174009e+00,\n",
       "       -2.91080556e+00, -5.43070643e-01, -8.73430342e-01,  7.73170283e-01,\n",
       "        6.96984922e-01,  2.84476295e+00,  1.60635715e-01, -1.25917091e+00,\n",
       "        7.42702513e-01,  1.27767764e+00, -1.14081422e+00,  3.40086140e-01,\n",
       "        7.52948653e-01,  9.03959441e-01, -7.11827221e-01,  1.40962722e+00,\n",
       "       -2.84046465e-01, -5.61746431e-01, -7.05356110e-01, -6.66443229e-01,\n",
       "        1.48053815e-01,  4.66530245e-02, -1.62794918e+00,  1.23423020e+00,\n",
       "       -1.31063461e+00,  7.97967966e-01, -1.22245826e+00, -1.96918665e-02,\n",
       "        2.94815777e-01,  1.38418063e+00, -5.16829007e-01, -1.12673282e+00,\n",
       "        1.67836683e+00, -7.56259000e-01, -2.08644269e-01, -1.44400289e+00,\n",
       "        5.92654565e-01, -2.12213850e-01, -3.89769805e-01,  4.85645718e-02,\n",
       "        1.74226458e+00, -9.16436918e-01,  5.11014831e-02,  6.64457818e-01,\n",
       "        1.66905609e-01,  5.05653261e-01, -7.47762726e-01,  1.03065816e+00,\n",
       "       -1.28189538e-01,  3.82125263e-01, -3.56527033e-01, -9.85582497e-01,\n",
       "       -5.13978179e-01, -6.07628176e-01,  1.37108219e+00,  3.80620822e-01,\n",
       "        2.86872413e-03, -1.24255950e+00,  3.77398572e-01, -5.03903042e-01])"
      ]
     },
     "execution_count": 27,
     "metadata": {},
     "output_type": "execute_result"
    }
   ],
   "source": [
    "std_normal = np.random.randn(1000)\n",
    "std_normal"
   ]
  },
  {
   "cell_type": "code",
   "execution_count": 29,
   "id": "87f37f42-1206-4838-8006-c6261a6eaec5",
   "metadata": {},
   "outputs": [
    {
     "data": {
      "image/png": "[encoded data removed]",
      "text/plain": [
       "<Figure size 640x480 with 1 Axes>"
      ]
     },
     "metadata": {},
     "output_type": "display_data"
    }
   ],
   "source": [
    "plt.hist(std_normal, ec='k')\n",
    "plt.show()"
   ]
  },
  {
   "cell_type": "code",
   "execution_count": null,
   "id": "c7e6cfa5-8f36-4871-b428-64e1130a6e6f",
   "metadata": {},
   "outputs": [],
   "source": []
  },
  {
   "cell_type": "code",
   "execution_count": 30,
   "id": "a76ebd08-34fe-4f4e-9290-e8a836b22e46",
   "metadata": {},
   "outputs": [
    {
     "data": {
      "text/plain": [
       "array([0.00275416, 0.25924799, 0.44156718, 0.78510629, 0.80385115])"
      ]
     },
     "execution_count": 30,
     "metadata": {},
     "output_type": "execute_result"
    }
   ],
   "source": [
    "np.random.random(5)"
   ]
  },
  {
   "cell_type": "code",
   "execution_count": null,
   "id": "29d6b23a-efa9-4e9a-aab7-e4d513125dde",
   "metadata": {},
   "outputs": [],
   "source": []
  },
  {
   "cell_type": "code",
   "execution_count": 31,
   "id": "8c03dd5d-474d-4c06-ac87-0144e7294172",
   "metadata": {},
   "outputs": [
    {
     "data": {
      "text/plain": [
       "array([[0.04477979, 0.68793045, 0.26601386],\n",
       "       [0.49172083, 0.11530597, 0.03211101]])"
      ]
     },
     "execution_count": 31,
     "metadata": {},
     "output_type": "execute_result"
    }
   ],
   "source": [
    "np.random.random((2,3))"
   ]
  },
  {
   "cell_type": "code",
   "execution_count": null,
   "id": "b3b8ab43-14dd-49f6-a62e-3e75ffae51ea",
   "metadata": {},
   "outputs": [],
   "source": []
  },
  {
   "cell_type": "markdown",
   "id": "f14a2f15-cc22-422b-8e9d-8395c91f5cac",
   "metadata": {},
   "source": [
    "    np.random.uniform()\n",
    "    np.random.normal()"
   ]
  },
  {
   "cell_type": "code",
   "execution_count": null,
   "id": "a59c3985-de3b-4045-9b29-2097eee690b6",
   "metadata": {},
   "outputs": [],
   "source": []
  },
  {
   "cell_type": "code",
   "execution_count": 32,
   "id": "70113832-8cb0-4fc3-9115-e29e336dbf87",
   "metadata": {},
   "outputs": [
    {
     "data": {
      "text/plain": [
       "array(['usa', 'india', 'china', 'usa', 'india', 'aus', 'aus', 'india',\n",
       "       'india', 'aus', 'aus', 'india', 'usa', 'india', 'aus', 'india',\n",
       "       'aus', 'aus', 'china', 'aus'], dtype='<U5')"
      ]
     },
     "execution_count": 32,
     "metadata": {},
     "output_type": "execute_result"
    }
   ],
   "source": [
    "np.random.choice(['india', 'usa', 'china', 'aus'], 20)"
   ]
  },
  {
   "cell_type": "code",
   "execution_count": null,
   "id": "7a29e634-255f-420c-b5cb-eb38f0893824",
   "metadata": {},
   "outputs": [],
   "source": []
  },
  {
   "cell_type": "code",
   "execution_count": 33,
   "id": "f041a046-27a0-4d9a-ac81-33c5b405d650",
   "metadata": {},
   "outputs": [
    {
     "ename": "ValueError",
     "evalue": "Cannot take a larger sample than population when 'replace=False'",
     "output_type": "error",
     "traceback": [
      "\u001b[1;31m---------------------------------------------------------------------------\u001b[0m",
      "\u001b[1;31mValueError\u001b[0m                                Traceback (most recent call last)",
      "Cell \u001b[1;32mIn[33], line 1\u001b[0m\n\u001b[1;32m----> 1\u001b[0m np\u001b[38;5;241m.\u001b[39mrandom\u001b[38;5;241m.\u001b[39mchoice([\u001b[38;5;124m'\u001b[39m\u001b[38;5;124mindia\u001b[39m\u001b[38;5;124m'\u001b[39m, \u001b[38;5;124m'\u001b[39m\u001b[38;5;124musa\u001b[39m\u001b[38;5;124m'\u001b[39m, \u001b[38;5;124m'\u001b[39m\u001b[38;5;124mchina\u001b[39m\u001b[38;5;124m'\u001b[39m, \u001b[38;5;124m'\u001b[39m\u001b[38;5;124maus\u001b[39m\u001b[38;5;124m'\u001b[39m], \u001b[38;5;241m20\u001b[39m, replace\u001b[38;5;241m=\u001b[39m\u001b[38;5;28;01mFalse\u001b[39;00m)\n",
      "File \u001b[1;32mnumpy\\\\random\\\\mtrand.pyx:1001\u001b[0m, in \u001b[0;36mnumpy.random.mtrand.RandomState.choice\u001b[1;34m()\u001b[0m\n",
      "\u001b[1;31mValueError\u001b[0m: Cannot take a larger sample than population when 'replace=False'"
     ]
    }
   ],
   "source": [
    "np.random.choice(['india', 'usa', 'china', 'aus'], 20, replace=False)\n"
   ]
  },
  {
   "cell_type": "code",
   "execution_count": null,
   "id": "493c89b1-3691-4152-98d5-de6123c47363",
   "metadata": {},
   "outputs": [],
   "source": []
  },
  {
   "cell_type": "code",
   "execution_count": 49,
   "id": "a1f86401-dd14-42c3-abd1-c1f46f832be6",
   "metadata": {},
   "outputs": [],
   "source": [
    "math = np.random.randint(30, 50, 10)\n",
    "eng = np.random.randint(35, 55, 10)\n",
    "hindi = np.random.randint(30, 50, 10)\n",
    "names = np.random.choice(['A', 'B', 'C', 'D', 'E', 'F', 'G', 'H', 'I', 'J'], 10, replace=False)"
   ]
  },
  {
   "cell_type": "code",
   "execution_count": 50,
   "id": "f067e1f6-f42c-436b-b579-54742599afed",
   "metadata": {},
   "outputs": [
    {
     "data": {
      "text/plain": [
       "array([45, 41, 43, 40, 33, 49, 38, 37, 31, 34])"
      ]
     },
     "execution_count": 50,
     "metadata": {},
     "output_type": "execute_result"
    }
   ],
   "source": [
    "math"
   ]
  },
  {
   "cell_type": "code",
   "execution_count": 51,
   "id": "fdab456e-030b-4fff-9967-35edfaf92225",
   "metadata": {},
   "outputs": [
    {
     "data": {
      "text/plain": [
       "array([40, 35, 48, 35, 48, 38, 50, 45, 40, 42])"
      ]
     },
     "execution_count": 51,
     "metadata": {},
     "output_type": "execute_result"
    }
   ],
   "source": [
    "eng"
   ]
  },
  {
   "cell_type": "code",
   "execution_count": 52,
   "id": "3a524741-bb62-4245-b616-04130d4f7186",
   "metadata": {},
   "outputs": [
    {
     "data": {
      "text/plain": [
       "array([44, 32, 33, 42, 49, 42, 49, 34, 45, 39])"
      ]
     },
     "execution_count": 52,
     "metadata": {},
     "output_type": "execute_result"
    }
   ],
   "source": [
    "hindi"
   ]
  },
  {
   "cell_type": "code",
   "execution_count": 53,
   "id": "d0ba4482-ffc1-4016-be51-e026ee4fc23d",
   "metadata": {},
   "outputs": [
    {
     "data": {
      "text/plain": [
       "array(['E', 'D', 'F', 'A', 'B', 'J', 'G', 'C', 'H', 'I'], dtype='<U1')"
      ]
     },
     "execution_count": 53,
     "metadata": {},
     "output_type": "execute_result"
    }
   ],
   "source": [
    "names"
   ]
  },
  {
   "cell_type": "code",
   "execution_count": null,
   "id": "7b6fc75f-fe10-4318-a556-2e17de2ce71b",
   "metadata": {},
   "outputs": [],
   "source": []
  },
  {
   "cell_type": "code",
   "execution_count": 54,
   "id": "e892ad3b-cbff-42a8-b42e-c8505f976e78",
   "metadata": {},
   "outputs": [
    {
     "data": {
      "text/plain": [
       "array([ True,  True,  True, False, False,  True, False, False, False,\n",
       "       False])"
      ]
     },
     "execution_count": 54,
     "metadata": {},
     "output_type": "execute_result"
    }
   ],
   "source": [
    "math > 40"
   ]
  },
  {
   "cell_type": "code",
   "execution_count": 55,
   "id": "0e5b2495-c5fa-44de-8015-fcf156e08d56",
   "metadata": {},
   "outputs": [
    {
     "data": {
      "text/plain": [
       "array(['E', 'D', 'F', 'J'], dtype='<U1')"
      ]
     },
     "execution_count": 55,
     "metadata": {},
     "output_type": "execute_result"
    }
   ],
   "source": [
    "names[math > 40]"
   ]
  },
  {
   "cell_type": "code",
   "execution_count": 56,
   "id": "5c31ec48-9fc1-4385-af33-f2af3b145776",
   "metadata": {},
   "outputs": [
    {
     "data": {
      "text/plain": [
       "array([45, 41, 43, 40, 33, 49, 38, 37, 31, 34])"
      ]
     },
     "execution_count": 56,
     "metadata": {},
     "output_type": "execute_result"
    }
   ],
   "source": [
    "math"
   ]
  },
  {
   "cell_type": "code",
   "execution_count": 57,
   "id": "f81a8ed7-6541-4524-b65d-1ec3564a2c64",
   "metadata": {},
   "outputs": [
    {
     "data": {
      "text/plain": [
       "array([40, 35, 48, 35, 48, 38, 50, 45, 40, 42])"
      ]
     },
     "execution_count": 57,
     "metadata": {},
     "output_type": "execute_result"
    }
   ],
   "source": [
    "eng"
   ]
  },
  {
   "cell_type": "code",
   "execution_count": 58,
   "id": "8b04dc74-d8c7-4881-81b9-25af720c057e",
   "metadata": {},
   "outputs": [
    {
     "data": {
      "text/plain": [
       "array(['D', 'J'], dtype='<U1')"
      ]
     },
     "execution_count": 58,
     "metadata": {},
     "output_type": "execute_result"
    }
   ],
   "source": [
    "names[(math > 40) & (eng < 40)]"
   ]
  },
  {
   "cell_type": "code",
   "execution_count": null,
   "id": "4456280e-6512-4be7-8e45-c679b2aca0ab",
   "metadata": {},
   "outputs": [],
   "source": []
  },
  {
   "cell_type": "code",
   "execution_count": 66,
   "id": "efef0e93-2a4f-45ed-9b49-d28193369f54",
   "metadata": {},
   "outputs": [],
   "source": [
    "arr1 = np.random.randint(30, 60, (4,5))\n",
    "arr2 = np.random.randint(20, 60, (4,5))"
   ]
  },
  {
   "cell_type": "code",
   "execution_count": 67,
   "id": "d8b8edc5-92b8-45eb-b016-ebd06ab1253f",
   "metadata": {},
   "outputs": [
    {
     "data": {
      "text/plain": [
       "array([[55, 55, 45, 40, 58],\n",
       "       [38, 31, 58, 32, 53],\n",
       "       [40, 49, 45, 59, 39],\n",
       "       [46, 30, 59, 52, 56]])"
      ]
     },
     "execution_count": 67,
     "metadata": {},
     "output_type": "execute_result"
    }
   ],
   "source": [
    "arr1"
   ]
  },
  {
   "cell_type": "code",
   "execution_count": 68,
   "id": "22bbbc58-460d-4615-9039-15411c7bacb9",
   "metadata": {},
   "outputs": [
    {
     "data": {
      "text/plain": [
       "array([[35, 21, 49, 46, 47],\n",
       "       [40, 31, 27, 26, 25],\n",
       "       [26, 32, 46, 37, 22],\n",
       "       [50, 45, 34, 51, 47]])"
      ]
     },
     "execution_count": 68,
     "metadata": {},
     "output_type": "execute_result"
    }
   ],
   "source": [
    "arr2"
   ]
  },
  {
   "cell_type": "code",
   "execution_count": null,
   "id": "a220dc37-3157-49ee-90e8-b48c840a1f1b",
   "metadata": {},
   "outputs": [],
   "source": []
  },
  {
   "cell_type": "code",
   "execution_count": 69,
   "id": "d8b31c35-8411-4816-afaa-8eadea0641e6",
   "metadata": {},
   "outputs": [
    {
     "data": {
      "text/plain": [
       "array([[55, 55, 45, 40, 58],\n",
       "       [38, 31, 58, 32, 53],\n",
       "       [40, 49, 45, 59, 39],\n",
       "       [46, 30, 59, 52, 56],\n",
       "       [35, 21, 49, 46, 47],\n",
       "       [40, 31, 27, 26, 25],\n",
       "       [26, 32, 46, 37, 22],\n",
       "       [50, 45, 34, 51, 47]])"
      ]
     },
     "execution_count": 69,
     "metadata": {},
     "output_type": "execute_result"
    }
   ],
   "source": [
    "np.concatenate((arr1, arr2))"
   ]
  },
  {
   "cell_type": "code",
   "execution_count": null,
   "id": "28ca167d-a215-4d45-8e46-37e5e78c25c6",
   "metadata": {},
   "outputs": [],
   "source": []
  },
  {
   "cell_type": "code",
   "execution_count": 70,
   "id": "35b826e4-a6be-4056-ab31-53148eefe9c3",
   "metadata": {},
   "outputs": [
    {
     "data": {
      "text/plain": [
       "array([[55, 55, 45, 40, 58],\n",
       "       [38, 31, 58, 32, 53],\n",
       "       [40, 49, 45, 59, 39],\n",
       "       [46, 30, 59, 52, 56]])"
      ]
     },
     "execution_count": 70,
     "metadata": {},
     "output_type": "execute_result"
    }
   ],
   "source": [
    "arr1"
   ]
  },
  {
   "cell_type": "code",
   "execution_count": 71,
   "id": "afd464a9-9e35-4339-b1bc-0281ef5fc89e",
   "metadata": {},
   "outputs": [
    {
     "data": {
      "text/plain": [
       "array([[35, 21, 49, 46, 47],\n",
       "       [40, 31, 27, 26, 25],\n",
       "       [26, 32, 46, 37, 22],\n",
       "       [50, 45, 34, 51, 47]])"
      ]
     },
     "execution_count": 71,
     "metadata": {},
     "output_type": "execute_result"
    }
   ],
   "source": [
    "arr2"
   ]
  },
  {
   "cell_type": "code",
   "execution_count": 72,
   "id": "3a6e4cfa-ae45-4350-9548-195076e903c1",
   "metadata": {},
   "outputs": [
    {
     "data": {
      "text/plain": [
       "array([[55, 55, 45, 40, 58, 35, 21, 49, 46, 47],\n",
       "       [38, 31, 58, 32, 53, 40, 31, 27, 26, 25],\n",
       "       [40, 49, 45, 59, 39, 26, 32, 46, 37, 22],\n",
       "       [46, 30, 59, 52, 56, 50, 45, 34, 51, 47]])"
      ]
     },
     "execution_count": 72,
     "metadata": {},
     "output_type": "execute_result"
    }
   ],
   "source": [
    "np.concatenate((arr1, arr2), axis=1)"
   ]
  },
  {
   "cell_type": "code",
   "execution_count": null,
   "id": "d3e8b5bb-f3ac-4d92-b9f2-c6cb309c610e",
   "metadata": {},
   "outputs": [],
   "source": []
  },
  {
   "cell_type": "code",
   "execution_count": 73,
   "id": "0adda84c-cd51-4ec9-9153-63ba2d57a5c0",
   "metadata": {},
   "outputs": [],
   "source": [
    "arr3 = np.random.randint(30, 70, (4,4))"
   ]
  },
  {
   "cell_type": "code",
   "execution_count": 74,
   "id": "21e9ec73-438b-49fa-b20d-9c621b13cf34",
   "metadata": {},
   "outputs": [
    {
     "data": {
      "text/plain": [
       "array([[37, 53, 50, 30],\n",
       "       [51, 47, 60, 51],\n",
       "       [49, 57, 35, 69],\n",
       "       [67, 61, 55, 64]])"
      ]
     },
     "execution_count": 74,
     "metadata": {},
     "output_type": "execute_result"
    }
   ],
   "source": [
    "arr3"
   ]
  },
  {
   "cell_type": "code",
   "execution_count": 75,
   "id": "e10f67e8-44c4-43bb-993d-7e85d7fb369e",
   "metadata": {},
   "outputs": [
    {
     "data": {
      "text/plain": [
       "array([[55, 55, 45, 40, 58],\n",
       "       [38, 31, 58, 32, 53],\n",
       "       [40, 49, 45, 59, 39],\n",
       "       [46, 30, 59, 52, 56]])"
      ]
     },
     "execution_count": 75,
     "metadata": {},
     "output_type": "execute_result"
    }
   ],
   "source": [
    "arr1"
   ]
  },
  {
   "cell_type": "code",
   "execution_count": 76,
   "id": "bfb69c7e-3de4-486c-82d5-800d4b68a228",
   "metadata": {},
   "outputs": [
    {
     "ename": "ValueError",
     "evalue": "all the input array dimensions except for the concatenation axis must match exactly, but along dimension 1, the array at index 0 has size 5 and the array at index 1 has size 4",
     "output_type": "error",
     "traceback": [
      "\u001b[1;31m---------------------------------------------------------------------------\u001b[0m",
      "\u001b[1;31mValueError\u001b[0m                                Traceback (most recent call last)",
      "Cell \u001b[1;32mIn[76], line 1\u001b[0m\n\u001b[1;32m----> 1\u001b[0m np\u001b[38;5;241m.\u001b[39mconcatenate((arr1, arr3))\n",
      "\u001b[1;31mValueError\u001b[0m: all the input array dimensions except for the concatenation axis must match exactly, but along dimension 1, the array at index 0 has size 5 and the array at index 1 has size 4"
     ]
    }
   ],
   "source": [
    "np.concatenate((arr1, arr3))"
   ]
  },
  {
   "cell_type": "code",
   "execution_count": 77,
   "id": "1cd25f3f-65c9-4ff8-be4f-f7fb16d79c7d",
   "metadata": {},
   "outputs": [
    {
     "data": {
      "text/plain": [
       "array([[55, 55, 45, 40, 58, 37, 53, 50, 30],\n",
       "       [38, 31, 58, 32, 53, 51, 47, 60, 51],\n",
       "       [40, 49, 45, 59, 39, 49, 57, 35, 69],\n",
       "       [46, 30, 59, 52, 56, 67, 61, 55, 64]])"
      ]
     },
     "execution_count": 77,
     "metadata": {},
     "output_type": "execute_result"
    }
   ],
   "source": [
    "np.concatenate((arr1, arr3), axis=1)\n"
   ]
  },
  {
   "cell_type": "code",
   "execution_count": null,
   "id": "7ea7f13a-b163-4824-96a3-4c189383e067",
   "metadata": {},
   "outputs": [],
   "source": []
  }
 ],
 "metadata": {
  "kernelspec": {
   "display_name": "Python 3 (ipykernel)",
   "language": "python",
   "name": "python3"
  },
  "language_info": {
   "codemirror_mode": {
    "name": "ipython",
    "version": 3
   },
   "file_extension": ".py",
   "mimetype": "text/x-python",
   "name": "python",
   "nbconvert_exporter": "python",
   "pygments_lexer": "ipython3",
   "version": "3.12.4"
  }
 },
 "nbformat": 4,
 "nbformat_minor": 5
}
