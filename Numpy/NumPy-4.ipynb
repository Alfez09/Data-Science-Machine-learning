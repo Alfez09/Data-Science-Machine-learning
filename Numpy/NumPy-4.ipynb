{
 "cells": [
  {
   "cell_type": "code",
   "execution_count": 1,
   "id": "f71685db-9898-48a0-8a2c-1a4ddbbcb769",
   "metadata": {},
   "outputs": [],
   "source": [
    "import numpy as np"
   ]
  },
  {
   "cell_type": "code",
   "execution_count": null,
   "id": "2c4a7a89-8358-429c-ab62-1b29b6e966cf",
   "metadata": {},
   "outputs": [],
   "source": []
  },
  {
   "cell_type": "code",
   "execution_count": 2,
   "id": "97ad7acc-e811-4e61-bdf4-584b20b890b6",
   "metadata": {},
   "outputs": [],
   "source": [
    "arr1 = np.random.randint(23,56, (4,5))"
   ]
  },
  {
   "cell_type": "code",
   "execution_count": 3,
   "id": "444c3448-beb7-4820-a206-0720ed0faff5",
   "metadata": {},
   "outputs": [
    {
     "data": {
      "text/plain": [
       "array([[49, 55, 43, 41, 24],\n",
       "       [39, 34, 53, 29, 29],\n",
       "       [31, 44, 37, 48, 39],\n",
       "       [46, 44, 45, 27, 27]])"
      ]
     },
     "execution_count": 3,
     "metadata": {},
     "output_type": "execute_result"
    }
   ],
   "source": [
    "arr1"
   ]
  },
  {
   "cell_type": "code",
   "execution_count": 4,
   "id": "bdc79141-3cc3-46af-a318-334d3ee7eb9b",
   "metadata": {},
   "outputs": [],
   "source": [
    "arr2 = np.random.randint(34,67, (4,5))"
   ]
  },
  {
   "cell_type": "code",
   "execution_count": 5,
   "id": "1b393907-7022-418a-b599-005b5727e16a",
   "metadata": {},
   "outputs": [
    {
     "data": {
      "text/plain": [
       "array([[49, 55, 43, 41, 24],\n",
       "       [39, 34, 53, 29, 29],\n",
       "       [31, 44, 37, 48, 39],\n",
       "       [46, 44, 45, 27, 27]])"
      ]
     },
     "execution_count": 5,
     "metadata": {},
     "output_type": "execute_result"
    }
   ],
   "source": [
    "arr1"
   ]
  },
  {
   "cell_type": "code",
   "execution_count": 6,
   "id": "b4973c7d-7e73-45ea-b602-f53ada0e80e1",
   "metadata": {},
   "outputs": [
    {
     "data": {
      "text/plain": [
       "array([[53, 48, 52, 35, 57],\n",
       "       [43, 56, 63, 35, 52],\n",
       "       [37, 52, 35, 63, 66],\n",
       "       [58, 56, 50, 49, 47]])"
      ]
     },
     "execution_count": 6,
     "metadata": {},
     "output_type": "execute_result"
    }
   ],
   "source": [
    "arr2"
   ]
  },
  {
   "cell_type": "code",
   "execution_count": 7,
   "id": "f0599780-96ca-45cf-a994-c1cb35e9e943",
   "metadata": {},
   "outputs": [
    {
     "data": {
      "text/plain": [
       "array([[49, 55, 43, 41, 24],\n",
       "       [39, 34, 53, 29, 29],\n",
       "       [31, 44, 37, 48, 39],\n",
       "       [46, 44, 45, 27, 27],\n",
       "       [53, 48, 52, 35, 57],\n",
       "       [43, 56, 63, 35, 52],\n",
       "       [37, 52, 35, 63, 66],\n",
       "       [58, 56, 50, 49, 47]])"
      ]
     },
     "execution_count": 7,
     "metadata": {},
     "output_type": "execute_result"
    }
   ],
   "source": [
    "np.concatenate((arr1,arr2))"
   ]
  },
  {
   "cell_type": "code",
   "execution_count": null,
   "id": "ea4f564f-4d45-47cb-a15a-6e1e1df0cb79",
   "metadata": {},
   "outputs": [],
   "source": []
  },
  {
   "cell_type": "code",
   "execution_count": 8,
   "id": "b0a8609d-5a52-4ede-8284-afe664317326",
   "metadata": {},
   "outputs": [
    {
     "data": {
      "text/plain": [
       "array([[49, 55, 43, 41, 24, 53, 48, 52, 35, 57],\n",
       "       [39, 34, 53, 29, 29, 43, 56, 63, 35, 52],\n",
       "       [31, 44, 37, 48, 39, 37, 52, 35, 63, 66],\n",
       "       [46, 44, 45, 27, 27, 58, 56, 50, 49, 47]])"
      ]
     },
     "execution_count": 8,
     "metadata": {},
     "output_type": "execute_result"
    }
   ],
   "source": [
    "np.concatenate((arr1,arr2), axis=1)\n"
   ]
  },
  {
   "cell_type": "code",
   "execution_count": null,
   "id": "49bb59f8-be34-48ed-a44b-ac420be818d2",
   "metadata": {},
   "outputs": [],
   "source": []
  },
  {
   "cell_type": "code",
   "execution_count": 9,
   "id": "54290f92-31a4-4b8b-9ab6-18aa4fb95722",
   "metadata": {},
   "outputs": [
    {
     "data": {
      "text/plain": [
       "array([[49, 55, 43, 41, 24, 53, 48, 52, 35, 57],\n",
       "       [39, 34, 53, 29, 29, 43, 56, 63, 35, 52],\n",
       "       [31, 44, 37, 48, 39, 37, 52, 35, 63, 66],\n",
       "       [46, 44, 45, 27, 27, 58, 56, 50, 49, 47]])"
      ]
     },
     "execution_count": 9,
     "metadata": {},
     "output_type": "execute_result"
    }
   ],
   "source": [
    "np.hstack((arr1,arr2))"
   ]
  },
  {
   "cell_type": "code",
   "execution_count": null,
   "id": "370d7d6e-c2ed-46e9-ab96-6ef469676a07",
   "metadata": {},
   "outputs": [],
   "source": []
  },
  {
   "cell_type": "code",
   "execution_count": 10,
   "id": "5b4629e5-b52b-40c5-b50c-b2cd8fa07b8f",
   "metadata": {},
   "outputs": [
    {
     "data": {
      "text/plain": [
       "array([[49, 55, 43, 41, 24],\n",
       "       [39, 34, 53, 29, 29],\n",
       "       [31, 44, 37, 48, 39],\n",
       "       [46, 44, 45, 27, 27],\n",
       "       [53, 48, 52, 35, 57],\n",
       "       [43, 56, 63, 35, 52],\n",
       "       [37, 52, 35, 63, 66],\n",
       "       [58, 56, 50, 49, 47]])"
      ]
     },
     "execution_count": 10,
     "metadata": {},
     "output_type": "execute_result"
    }
   ],
   "source": [
    "np.vstack((arr1, arr2))"
   ]
  },
  {
   "cell_type": "code",
   "execution_count": 11,
   "id": "f3822939-9410-4dbd-81d2-1851d617d274",
   "metadata": {},
   "outputs": [
    {
     "data": {
      "text/plain": [
       "array([[49, 55, 43, 41, 24],\n",
       "       [39, 34, 53, 29, 29],\n",
       "       [31, 44, 37, 48, 39],\n",
       "       [46, 44, 45, 27, 27]])"
      ]
     },
     "execution_count": 11,
     "metadata": {},
     "output_type": "execute_result"
    }
   ],
   "source": [
    "arr1"
   ]
  },
  {
   "cell_type": "code",
   "execution_count": 12,
   "id": "086d7084-e25e-41ef-abde-451d78e1a345",
   "metadata": {},
   "outputs": [
    {
     "data": {
      "text/plain": [
       "[array([[49, 55, 43, 41, 24],\n",
       "        [39, 34, 53, 29, 29]]),\n",
       " array([[31, 44, 37, 48, 39],\n",
       "        [46, 44, 45, 27, 27]]),\n",
       " array([], shape=(0, 5), dtype=int32)]"
      ]
     },
     "execution_count": 12,
     "metadata": {},
     "output_type": "execute_result"
    }
   ],
   "source": [
    "np.split(arr1, [2,4])"
   ]
  },
  {
   "cell_type": "code",
   "execution_count": null,
   "id": "bfa880db-2301-44b8-9a66-bd0994d19b6c",
   "metadata": {},
   "outputs": [],
   "source": []
  },
  {
   "cell_type": "code",
   "execution_count": 13,
   "id": "e558d2ec-c6df-4fd2-8288-0631893c7df4",
   "metadata": {},
   "outputs": [
    {
     "data": {
      "text/plain": [
       "[array([], shape=(0, 5), dtype=int32),\n",
       " array([[49, 55, 43, 41, 24],\n",
       "        [39, 34, 53, 29, 29]]),\n",
       " array([[31, 44, 37, 48, 39],\n",
       "        [46, 44, 45, 27, 27]]),\n",
       " array([], shape=(0, 5), dtype=int32)]"
      ]
     },
     "execution_count": 13,
     "metadata": {},
     "output_type": "execute_result"
    }
   ],
   "source": [
    "np.split(arr1, [0,2,6])\n"
   ]
  },
  {
   "cell_type": "code",
   "execution_count": 14,
   "id": "df75ee0d-9f26-44d7-9c53-b72dc539fff5",
   "metadata": {},
   "outputs": [
    {
     "data": {
      "text/plain": [
       "array([[49, 55, 43, 41, 24],\n",
       "       [39, 34, 53, 29, 29],\n",
       "       [31, 44, 37, 48, 39],\n",
       "       [46, 44, 45, 27, 27]])"
      ]
     },
     "execution_count": 14,
     "metadata": {},
     "output_type": "execute_result"
    }
   ],
   "source": [
    "arr1"
   ]
  },
  {
   "cell_type": "code",
   "execution_count": 15,
   "id": "df1f484d-3866-4eb4-af84-0accf0d4b86e",
   "metadata": {},
   "outputs": [
    {
     "data": {
      "text/plain": [
       "[array([[49, 55, 43, 41, 24],\n",
       "        [39, 34, 53, 29, 29]]),\n",
       " array([[31, 44, 37, 48, 39],\n",
       "        [46, 44, 45, 27, 27]])]"
      ]
     },
     "execution_count": 15,
     "metadata": {},
     "output_type": "execute_result"
    }
   ],
   "source": [
    "np.split(arr1, 2)"
   ]
  },
  {
   "cell_type": "code",
   "execution_count": 16,
   "id": "a621d05d-3489-4a5c-80df-1e501138819d",
   "metadata": {},
   "outputs": [
    {
     "ename": "ValueError",
     "evalue": "array split does not result in an equal division",
     "output_type": "error",
     "traceback": [
      "\u001b[1;31m---------------------------------------------------------------------------\u001b[0m",
      "\u001b[1;31mValueError\u001b[0m                                Traceback (most recent call last)",
      "Cell \u001b[1;32mIn[16], line 1\u001b[0m\n\u001b[1;32m----> 1\u001b[0m \u001b[43mnp\u001b[49m\u001b[38;5;241;43m.\u001b[39;49m\u001b[43msplit\u001b[49m\u001b[43m(\u001b[49m\u001b[43marr1\u001b[49m\u001b[43m,\u001b[49m\u001b[43m \u001b[49m\u001b[38;5;241;43m3\u001b[39;49m\u001b[43m)\u001b[49m\n",
      "File \u001b[1;32m~\\anaconda3\\Lib\\site-packages\\numpy\\lib\\shape_base.py:864\u001b[0m, in \u001b[0;36msplit\u001b[1;34m(ary, indices_or_sections, axis)\u001b[0m\n\u001b[0;32m    862\u001b[0m     N \u001b[38;5;241m=\u001b[39m ary\u001b[38;5;241m.\u001b[39mshape[axis]\n\u001b[0;32m    863\u001b[0m     \u001b[38;5;28;01mif\u001b[39;00m N \u001b[38;5;241m%\u001b[39m sections:\n\u001b[1;32m--> 864\u001b[0m         \u001b[38;5;28;01mraise\u001b[39;00m \u001b[38;5;167;01mValueError\u001b[39;00m(\n\u001b[0;32m    865\u001b[0m             \u001b[38;5;124m'\u001b[39m\u001b[38;5;124marray split does not result in an equal division\u001b[39m\u001b[38;5;124m'\u001b[39m) \u001b[38;5;28;01mfrom\u001b[39;00m \u001b[38;5;28;01mNone\u001b[39;00m\n\u001b[0;32m    866\u001b[0m \u001b[38;5;28;01mreturn\u001b[39;00m array_split(ary, indices_or_sections, axis)\n",
      "\u001b[1;31mValueError\u001b[0m: array split does not result in an equal division"
     ]
    }
   ],
   "source": [
    "np.split(arr1, 3)\n"
   ]
  },
  {
   "cell_type": "code",
   "execution_count": null,
   "id": "a53ae595-655f-425e-adfc-87945224323e",
   "metadata": {},
   "outputs": [],
   "source": []
  },
  {
   "cell_type": "code",
   "execution_count": null,
   "id": "582ccfbb-b591-4184-8a9b-4ae231a9c8c6",
   "metadata": {},
   "outputs": [],
   "source": []
  },
  {
   "cell_type": "code",
   "execution_count": null,
   "id": "b85ac99f-d574-4b8e-a484-4373ec2f568b",
   "metadata": {},
   "outputs": [],
   "source": [
    "arr1"
   ]
  },
  {
   "cell_type": "code",
   "execution_count": null,
   "id": "1dbdcaf7-6369-4713-9db5-2ba3ca28c162",
   "metadata": {},
   "outputs": [],
   "source": [
    "np.split(arr1, [2,4], axis=1)"
   ]
  },
  {
   "cell_type": "code",
   "execution_count": null,
   "id": "f5d12e3a-d5fc-40dc-97bf-eaf27ce7d458",
   "metadata": {},
   "outputs": [],
   "source": [
    "np.split(arr1, 3, axis=1)"
   ]
  },
  {
   "cell_type": "code",
   "execution_count": null,
   "id": "64639d3d-b58c-46c6-80fc-7d757f218308",
   "metadata": {},
   "outputs": [],
   "source": [
    "np.split(arr1, 5, axis=1)\n"
   ]
  },
  {
   "cell_type": "code",
   "execution_count": null,
   "id": "30a08a92-2bcd-4385-8209-fa07482e4ad6",
   "metadata": {},
   "outputs": [],
   "source": []
  },
  {
   "cell_type": "code",
   "execution_count": null,
   "id": "d7e3f8bc-4e58-47dd-89b0-f393b164f20c",
   "metadata": {},
   "outputs": [],
   "source": [
    "arr1"
   ]
  },
  {
   "cell_type": "code",
   "execution_count": null,
   "id": "221c9227-33c6-4a00-a1f9-cb437f0eda4a",
   "metadata": {},
   "outputs": [],
   "source": [
    "np.split(arr1, [2,5,7], axis=1)"
   ]
  },
  {
   "cell_type": "code",
   "execution_count": null,
   "id": "6e78aa7d-05ac-47bf-abd0-d1e300285a26",
   "metadata": {},
   "outputs": [],
   "source": [
    "np.split(arr1, [0,2,5,7], axis=1)\n"
   ]
  },
  {
   "cell_type": "code",
   "execution_count": null,
   "id": "73ed2dc8-02b9-4bad-865f-7c667cefdc0a",
   "metadata": {},
   "outputs": [],
   "source": [
    "np.split(arr1, [0,2], axis=1)\n"
   ]
  },
  {
   "cell_type": "code",
   "execution_count": null,
   "id": "c5dffba0-2ec8-4732-b85e-53487278078c",
   "metadata": {},
   "outputs": [],
   "source": [
    "print(dir(np))"
   ]
  },
  {
   "cell_type": "code",
   "execution_count": null,
   "id": "0bf398bf-a727-4684-8075-505785e0868f",
   "metadata": {},
   "outputs": [],
   "source": []
  },
  {
   "cell_type": "code",
   "execution_count": null,
   "id": "75d95288-c34c-460f-b650-43bb823583da",
   "metadata": {},
   "outputs": [],
   "source": [
    "arr1"
   ]
  },
  {
   "cell_type": "code",
   "execution_count": null,
   "id": "db3d98b0-743a-4bf7-8d91-f4e867cb5167",
   "metadata": {},
   "outputs": [],
   "source": [
    "arr1.ravel()"
   ]
  },
  {
   "cell_type": "code",
   "execution_count": null,
   "id": "cc2bf534-a996-4114-bc82-f6d89dfa5414",
   "metadata": {},
   "outputs": [],
   "source": [
    "arr1.flatten()"
   ]
  },
  {
   "cell_type": "code",
   "execution_count": null,
   "id": "dcf702fe-025a-4234-b1e4-ce76a478a5fd",
   "metadata": {},
   "outputs": [],
   "source": []
  },
  {
   "cell_type": "code",
   "execution_count": 17,
   "id": "22c542f7-6506-452e-8a73-77947b2b0fcb",
   "metadata": {},
   "outputs": [
    {
     "data": {
      "text/plain": [
       "array([4, 3, 5, 7, 8])"
      ]
     },
     "execution_count": 17,
     "metadata": {},
     "output_type": "execute_result"
    }
   ],
   "source": [
    "arr = np.array([4,3,5,7,8])\n",
    "arr"
   ]
  },
  {
   "cell_type": "code",
   "execution_count": null,
   "id": "fc646aed-158e-4dc1-9c70-5dbd5b096f64",
   "metadata": {},
   "outputs": [],
   "source": []
  },
  {
   "cell_type": "code",
   "execution_count": 18,
   "id": "9e4e0357-5743-4e12-b05a-ade34583cb1d",
   "metadata": {},
   "outputs": [
    {
     "data": {
      "text/plain": [
       "array([ 4,  7, 12, 19, 27])"
      ]
     },
     "execution_count": 18,
     "metadata": {},
     "output_type": "execute_result"
    }
   ],
   "source": [
    "arr.cumsum()"
   ]
  },
  {
   "cell_type": "code",
   "execution_count": null,
   "id": "036214f8-58a5-4821-b9ae-4b25b1de8895",
   "metadata": {},
   "outputs": [],
   "source": []
  },
  {
   "cell_type": "code",
   "execution_count": null,
   "id": "e6e2b883-1feb-42b7-adfa-c7741ad5a081",
   "metadata": {},
   "outputs": [],
   "source": []
  },
  {
   "cell_type": "code",
   "execution_count": 19,
   "id": "97f98f3d-a980-4faf-965e-07e9cc1ae23d",
   "metadata": {},
   "outputs": [
    {
     "data": {
      "text/plain": [
       "array([4, 3, 5, 7, 8])"
      ]
     },
     "execution_count": 19,
     "metadata": {},
     "output_type": "execute_result"
    }
   ],
   "source": [
    "arr"
   ]
  },
  {
   "cell_type": "code",
   "execution_count": 20,
   "id": "b8cfcd9f-e7c2-44ed-849d-7e00e53bd9c4",
   "metadata": {},
   "outputs": [
    {
     "data": {
      "text/plain": [
       "1"
      ]
     },
     "execution_count": 20,
     "metadata": {},
     "output_type": "execute_result"
    }
   ],
   "source": [
    "np.argmin(arr)"
   ]
  },
  {
   "cell_type": "code",
   "execution_count": 21,
   "id": "6332144e-d053-4a5f-8354-a922910c74b9",
   "metadata": {},
   "outputs": [
    {
     "data": {
      "text/plain": [
       "4"
      ]
     },
     "execution_count": 21,
     "metadata": {},
     "output_type": "execute_result"
    }
   ],
   "source": [
    "np.argmax(arr)"
   ]
  },
  {
   "cell_type": "code",
   "execution_count": 22,
   "id": "49542810-e0b0-4dc7-9f16-f11de333e924",
   "metadata": {},
   "outputs": [
    {
     "data": {
      "text/plain": [
       "array([4, 3, 5, 7, 8])"
      ]
     },
     "execution_count": 22,
     "metadata": {},
     "output_type": "execute_result"
    }
   ],
   "source": [
    "arr"
   ]
  },
  {
   "cell_type": "code",
   "execution_count": 23,
   "id": "5091c33f-034d-4d65-81ca-c8e8ce27d03e",
   "metadata": {},
   "outputs": [
    {
     "data": {
      "text/plain": [
       "array([1, 0, 2, 3, 4], dtype=int64)"
      ]
     },
     "execution_count": 23,
     "metadata": {},
     "output_type": "execute_result"
    }
   ],
   "source": [
    "np.argsort(arr)"
   ]
  },
  {
   "cell_type": "code",
   "execution_count": null,
   "id": "0fa9dcfa-5a6f-46d4-be21-0ec58806909b",
   "metadata": {},
   "outputs": [],
   "source": []
  },
  {
   "cell_type": "code",
   "execution_count": null,
   "id": "613ca9ef-076a-4dd0-8eca-c79a3faf57d3",
   "metadata": {},
   "outputs": [],
   "source": []
  },
  {
   "cell_type": "code",
   "execution_count": 24,
   "id": "dd274692-34ec-46e5-8b10-6b9ab6c7db74",
   "metadata": {},
   "outputs": [
    {
     "data": {
      "text/plain": [
       "array([[49, 55, 43, 41, 24],\n",
       "       [39, 34, 53, 29, 29],\n",
       "       [31, 44, 37, 48, 39],\n",
       "       [46, 44, 45, 27, 27]])"
      ]
     },
     "execution_count": 24,
     "metadata": {},
     "output_type": "execute_result"
    }
   ],
   "source": [
    "arr1"
   ]
  },
  {
   "cell_type": "code",
   "execution_count": 25,
   "id": "d66723e2-b599-4d80-a84b-8e13e3a7ed43",
   "metadata": {},
   "outputs": [
    {
     "data": {
      "text/plain": [
       "4"
      ]
     },
     "execution_count": 25,
     "metadata": {},
     "output_type": "execute_result"
    }
   ],
   "source": [
    "np.argmin(arr1)"
   ]
  },
  {
   "cell_type": "code",
   "execution_count": null,
   "id": "796b10d2-85d0-46cf-bc69-152b9b529b1d",
   "metadata": {},
   "outputs": [],
   "source": []
  },
  {
   "cell_type": "code",
   "execution_count": 26,
   "id": "2e43592b-891d-438b-a9be-1ce364b6f4e7",
   "metadata": {},
   "outputs": [
    {
     "data": {
      "text/plain": [
       "array([2, 1, 2, 3, 0], dtype=int64)"
      ]
     },
     "execution_count": 26,
     "metadata": {},
     "output_type": "execute_result"
    }
   ],
   "source": [
    "np.argmin(arr1, axis=0)\n"
   ]
  },
  {
   "cell_type": "code",
   "execution_count": null,
   "id": "ddc53796-3412-43d0-8af5-5623ba9d15d4",
   "metadata": {},
   "outputs": [],
   "source": []
  },
  {
   "cell_type": "code",
   "execution_count": 27,
   "id": "4414b62d-81cf-4ec3-a516-9ba276f81b79",
   "metadata": {},
   "outputs": [
    {
     "data": {
      "text/plain": [
       "array([[49, 55, 43, 41, 24],\n",
       "       [39, 34, 53, 29, 29],\n",
       "       [31, 44, 37, 48, 39],\n",
       "       [46, 44, 45, 27, 27]])"
      ]
     },
     "execution_count": 27,
     "metadata": {},
     "output_type": "execute_result"
    }
   ],
   "source": [
    "arr1"
   ]
  },
  {
   "cell_type": "code",
   "execution_count": 28,
   "id": "d8e332e3-0517-4c23-980b-f122a17e1e26",
   "metadata": {},
   "outputs": [
    {
     "data": {
      "text/plain": [
       "nan"
      ]
     },
     "execution_count": 28,
     "metadata": {},
     "output_type": "execute_result"
    }
   ],
   "source": [
    "np.nan"
   ]
  },
  {
   "cell_type": "code",
   "execution_count": 29,
   "id": "25d607fe-06a5-444b-ba41-badeac4b8414",
   "metadata": {},
   "outputs": [
    {
     "data": {
      "text/plain": [
       "array([[nan, nan, nan, nan],\n",
       "       [nan, nan, nan, nan],\n",
       "       [nan, nan, nan, nan]])"
      ]
     },
     "execution_count": 29,
     "metadata": {},
     "output_type": "execute_result"
    }
   ],
   "source": [
    "np.full((3,4), fill_value=np.nan)"
   ]
  },
  {
   "cell_type": "code",
   "execution_count": null,
   "id": "f9de07a4-69c0-4715-a105-511ec550849a",
   "metadata": {},
   "outputs": [],
   "source": []
  },
  {
   "cell_type": "code",
   "execution_count": 30,
   "id": "da60e29c-c896-4bdd-a0dc-320e58630cb7",
   "metadata": {},
   "outputs": [
    {
     "data": {
      "text/plain": [
       "array([[49, 55, 43, 41, 24],\n",
       "       [39, 34, 53, 29, 29],\n",
       "       [31, 44, 37, 48, 39],\n",
       "       [46, 44, 45, 27, 27]])"
      ]
     },
     "execution_count": 30,
     "metadata": {},
     "output_type": "execute_result"
    }
   ],
   "source": [
    "arr1"
   ]
  },
  {
   "cell_type": "code",
   "execution_count": 34,
   "id": "43b3a611-0e5f-42b0-8168-925531af9c1e",
   "metadata": {},
   "outputs": [
    {
     "data": {
      "text/plain": [
       "array([[49, 39, 31, 46],\n",
       "       [55, 34, 44, 44],\n",
       "       [43, 53, 37, 45],\n",
       "       [41, 29, 48, 27],\n",
       "       [24, 29, 39, 27]])"
      ]
     },
     "execution_count": 34,
     "metadata": {},
     "output_type": "execute_result"
    }
   ],
   "source": [
    "arr1.T"
   ]
  },
  {
   "cell_type": "code",
   "execution_count": 35,
   "id": "a2b599af-7a54-4a62-afa7-8145b8aabce2",
   "metadata": {},
   "outputs": [
    {
     "data": {
      "text/plain": [
       "array([[49, 39, 31, 46],\n",
       "       [55, 34, 44, 44],\n",
       "       [43, 53, 37, 45],\n",
       "       [41, 29, 48, 27],\n",
       "       [24, 29, 39, 27]])"
      ]
     },
     "execution_count": 35,
     "metadata": {},
     "output_type": "execute_result"
    }
   ],
   "source": [
    "arr1.transpose()"
   ]
  },
  {
   "cell_type": "code",
   "execution_count": 36,
   "id": "b7d5edfe-aaa2-44bd-849a-c9be1934cfbe",
   "metadata": {},
   "outputs": [
    {
     "data": {
      "text/plain": [
       "array([[49, 39, 31, 46],\n",
       "       [55, 34, 44, 44],\n",
       "       [43, 53, 37, 45],\n",
       "       [41, 29, 48, 27],\n",
       "       [24, 29, 39, 27]])"
      ]
     },
     "execution_count": 36,
     "metadata": {},
     "output_type": "execute_result"
    }
   ],
   "source": [
    "np.transpose(arr1)"
   ]
  },
  {
   "cell_type": "code",
   "execution_count": null,
   "id": "dc9daf4f-2dd7-43b3-9aa9-b273a3c230fe",
   "metadata": {},
   "outputs": [],
   "source": []
  },
  {
   "cell_type": "code",
   "execution_count": null,
   "id": "68f1c31e-5f68-4f12-99cf-58b06c5228c2",
   "metadata": {},
   "outputs": [],
   "source": []
  },
  {
   "cell_type": "markdown",
   "id": "2e704978-7581-4827-9bae-33dc5f8996a2",
   "metadata": {},
   "source": [
    "## Image manipulation"
   ]
  },
  {
   "cell_type": "code",
   "execution_count": null,
   "id": "8eb0ea49-f21a-4a91-b97b-1ef0c12eed42",
   "metadata": {},
   "outputs": [],
   "source": []
  },
  {
   "cell_type": "code",
   "execution_count": null,
   "id": "dd6ea486-a32f-4aba-8c7d-ebcadac938ab",
   "metadata": {},
   "outputs": [],
   "source": []
  },
  {
   "cell_type": "code",
   "execution_count": null,
   "id": "e83b31a7-1f02-4097-b960-b6effb832b7d",
   "metadata": {},
   "outputs": [],
   "source": []
  },
  {
   "cell_type": "code",
   "execution_count": null,
   "id": "8f4d0a80-09ae-48ac-974a-f0da0eec0394",
   "metadata": {},
   "outputs": [],
   "source": []
  },
  {
   "cell_type": "code",
   "execution_count": null,
   "id": "4b320e51-36a1-4765-85a9-df6aad8c28be",
   "metadata": {},
   "outputs": [],
   "source": []
  },
  {
   "cell_type": "code",
   "execution_count": null,
   "id": "6ccd8219-4415-47a2-b55f-1d7970995570",
   "metadata": {},
   "outputs": [],
   "source": []
  },
  {
   "cell_type": "code",
   "execution_count": null,
   "id": "e0f37732-071a-4db5-a666-428e8e0dcb94",
   "metadata": {},
   "outputs": [],
   "source": []
  },
  {
   "cell_type": "code",
   "execution_count": null,
   "id": "2f891d70-dbea-4f44-9e43-614d9395e4cf",
   "metadata": {},
   "outputs": [],
   "source": []
  },
  {
   "cell_type": "code",
   "execution_count": null,
   "id": "23e4be50-4f76-44bb-92c1-e1be7d794231",
   "metadata": {},
   "outputs": [],
   "source": []
  },
  {
   "cell_type": "code",
   "execution_count": null,
   "id": "c3ecaa94-a9c6-4eb0-a444-9e67ec93d2bb",
   "metadata": {},
   "outputs": [],
   "source": []
  },
  {
   "cell_type": "code",
   "execution_count": null,
   "id": "3e9cf144-3cf9-41d9-a61f-0023f53ba022",
   "metadata": {},
   "outputs": [],
   "source": []
  },
  {
   "cell_type": "code",
   "execution_count": null,
   "id": "e3d6c973-4e21-4895-8192-c02d64b969d2",
   "metadata": {},
   "outputs": [],
   "source": []
  },
  {
   "cell_type": "code",
   "execution_count": null,
   "id": "5838b685-7153-4324-986e-6904a101f112",
   "metadata": {},
   "outputs": [],
   "source": []
  }
 ],
 "metadata": {
  "kernelspec": {
   "display_name": "Python 3 (ipykernel)",
   "language": "python",
   "name": "python3"
  },
  "language_info": {
   "codemirror_mode": {
    "name": "ipython",
    "version": 3
   },
   "file_extension": ".py",
   "mimetype": "text/x-python",
   "name": "python",
   "nbconvert_exporter": "python",
   "pygments_lexer": "ipython3",
   "version": "3.12.4"
  }
 },
 "nbformat": 4,
 "nbformat_minor": 5
}
