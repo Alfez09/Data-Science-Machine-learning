{
 "cells": [
  {
   "cell_type": "markdown",
   "id": "a8d050be-985c-4275-ab47-2d4a65b6ddc8",
   "metadata": {},
   "source": [
    "# Pandas"
   ]
  },
  {
   "cell_type": "code",
   "execution_count": null,
   "id": "bcf7e3c7-061b-43fe-9f21-7db734c69ae9",
   "metadata": {},
   "outputs": [],
   "source": []
  },
  {
   "cell_type": "code",
   "execution_count": 1,
   "id": "44600b76-0912-4976-ba51-7f8bf2131ecf",
   "metadata": {},
   "outputs": [],
   "source": [
    "import pandas as pd\n",
    "import numpy as np"
   ]
  },
  {
   "cell_type": "code",
   "execution_count": 2,
   "id": "8c8380d8-62c2-4adb-b368-2cdca074d0bd",
   "metadata": {},
   "outputs": [
    {
     "name": "stdout",
     "output_type": "stream",
     "text": [
      "['ArrowDtype', 'BooleanDtype', 'Categorical', 'CategoricalDtype', 'CategoricalIndex', 'DataFrame', 'DateOffset', 'DatetimeIndex', 'DatetimeTZDtype', 'ExcelFile', 'ExcelWriter', 'Flags', 'Float32Dtype', 'Float64Dtype', 'Grouper', 'HDFStore', 'Index', 'IndexSlice', 'Int16Dtype', 'Int32Dtype', 'Int64Dtype', 'Int8Dtype', 'Interval', 'IntervalDtype', 'IntervalIndex', 'MultiIndex', 'NA', 'NaT', 'NamedAgg', 'Period', 'PeriodDtype', 'PeriodIndex', 'RangeIndex', 'Series', 'SparseDtype', 'StringDtype', 'Timedelta', 'TimedeltaIndex', 'Timestamp', 'UInt16Dtype', 'UInt32Dtype', 'UInt64Dtype', 'UInt8Dtype', '__all__', '__builtins__', '__cached__', '__doc__', '__docformat__', '__file__', '__git_version__', '__loader__', '__name__', '__package__', '__path__', '__spec__', '__version__', '_built_with_meson', '_config', '_is_numpy_dev', '_libs', '_pandas_datetime_CAPI', '_pandas_parser_CAPI', '_testing', '_typing', '_version_meson', 'annotations', 'api', 'array', 'arrays', 'bdate_range', 'compat', 'concat', 'core', 'crosstab', 'cut', 'date_range', 'describe_option', 'errors', 'eval', 'factorize', 'from_dummies', 'get_dummies', 'get_option', 'infer_freq', 'interval_range', 'io', 'isna', 'isnull', 'json_normalize', 'lreshape', 'melt', 'merge', 'merge_asof', 'merge_ordered', 'notna', 'notnull', 'offsets', 'option_context', 'options', 'pandas', 'period_range', 'pivot', 'pivot_table', 'plotting', 'qcut', 'read_clipboard', 'read_csv', 'read_excel', 'read_feather', 'read_fwf', 'read_gbq', 'read_hdf', 'read_html', 'read_json', 'read_orc', 'read_parquet', 'read_pickle', 'read_sas', 'read_spss', 'read_sql', 'read_sql_query', 'read_sql_table', 'read_stata', 'read_table', 'read_xml', 'reset_option', 'set_eng_float_format', 'set_option', 'show_versions', 'test', 'testing', 'timedelta_range', 'to_datetime', 'to_numeric', 'to_pickle', 'to_timedelta', 'tseries', 'unique', 'util', 'value_counts', 'wide_to_long']\n"
     ]
    }
   ],
   "source": [
    "print(dir(pd))"
   ]
  },
  {
   "cell_type": "code",
   "execution_count": null,
   "id": "bb5da81c-8245-4ac1-b33e-fe772db13604",
   "metadata": {},
   "outputs": [],
   "source": []
  },
  {
   "cell_type": "code",
   "execution_count": null,
   "id": "a312f016-ef63-44eb-98e8-42d66b45f3fe",
   "metadata": {},
   "outputs": [],
   "source": []
  },
  {
   "cell_type": "markdown",
   "id": "c3802e9b-8676-46af-b453-0c243dc0ba49",
   "metadata": {},
   "source": [
    "    there are three types of data structures in pandas:\n",
    "\n",
    "            1. Series          -->   1-D array, vector\n",
    "            2. Dataframe       -->   2-D array, matrix, spreadsheet like object\n",
    "            3. Pannel          -->   Multidimensional data"
   ]
  },
  {
   "cell_type": "code",
   "execution_count": null,
   "id": "287bcd0e-5533-4504-811e-7fc62914d1f9",
   "metadata": {},
   "outputs": [],
   "source": []
  },
  {
   "cell_type": "markdown",
   "id": "e695c14e-aff1-4469-89ec-2c8b4817671e",
   "metadata": {},
   "source": [
    "#### Series"
   ]
  },
  {
   "cell_type": "code",
   "execution_count": null,
   "id": "8b2dda8e-6da5-4ecf-afa4-69552460bb96",
   "metadata": {},
   "outputs": [],
   "source": []
  },
  {
   "cell_type": "code",
   "execution_count": 4,
   "id": "a426ce8e-b767-4de6-87cf-7bcb6400958f",
   "metadata": {},
   "outputs": [
    {
     "data": {
      "text/plain": [
       "0    10\n",
       "1    20\n",
       "2    30\n",
       "3    40\n",
       "4    50\n",
       "dtype: int64"
      ]
     },
     "execution_count": 4,
     "metadata": {},
     "output_type": "execute_result"
    }
   ],
   "source": [
    "s1 = pd.Series([10,20,30,40,50])\n",
    "s1"
   ]
  },
  {
   "cell_type": "code",
   "execution_count": null,
   "id": "96bf2cec-3e42-4225-b9d3-712cf4136471",
   "metadata": {},
   "outputs": [],
   "source": []
  },
  {
   "cell_type": "code",
   "execution_count": 5,
   "id": "bfa2c060-0b1e-48cd-9f73-f46283031dd5",
   "metadata": {},
   "outputs": [
    {
     "data": {
      "text/plain": [
       "10"
      ]
     },
     "execution_count": 5,
     "metadata": {},
     "output_type": "execute_result"
    }
   ],
   "source": [
    "s1[0]"
   ]
  },
  {
   "cell_type": "code",
   "execution_count": 6,
   "id": "a3ca68d8-ffa6-4183-b988-a3db4830e7c2",
   "metadata": {},
   "outputs": [
    {
     "data": {
      "text/plain": [
       "40"
      ]
     },
     "execution_count": 6,
     "metadata": {},
     "output_type": "execute_result"
    }
   ],
   "source": [
    "s1[3]"
   ]
  },
  {
   "cell_type": "code",
   "execution_count": null,
   "id": "5a3c23d0-2dba-4417-b2cb-1b92c2b264a6",
   "metadata": {},
   "outputs": [],
   "source": []
  },
  {
   "cell_type": "code",
   "execution_count": 7,
   "id": "63cdafee-7511-43d3-9189-eebe312876e1",
   "metadata": {},
   "outputs": [
    {
     "data": {
      "text/plain": [
       "A    10\n",
       "B    20\n",
       "C    30\n",
       "D    40\n",
       "E    50\n",
       "dtype: int64"
      ]
     },
     "execution_count": 7,
     "metadata": {},
     "output_type": "execute_result"
    }
   ],
   "source": [
    "s2 = pd.Series([10,20,30,40,50], ['A', 'B', 'C', 'D', 'E'])\n",
    "s2"
   ]
  },
  {
   "cell_type": "code",
   "execution_count": null,
   "id": "442ca797-9143-4046-9809-c4cd764858cb",
   "metadata": {},
   "outputs": [],
   "source": []
  },
  {
   "cell_type": "code",
   "execution_count": 8,
   "id": "29b1b12e-c1ab-4028-97b3-9b9e40f8c21a",
   "metadata": {},
   "outputs": [
    {
     "name": "stderr",
     "output_type": "stream",
     "text": [
      "C:\\Users\\hello\\AppData\\Local\\Temp\\ipykernel_21808\\2344841457.py:1: FutureWarning: Series.__getitem__ treating keys as positions is deprecated. In a future version, integer keys will always be treated as labels (consistent with DataFrame behavior). To access a value by position, use `ser.iloc[pos]`\n",
      "  s2[0]\n"
     ]
    },
    {
     "data": {
      "text/plain": [
       "10"
      ]
     },
     "execution_count": 8,
     "metadata": {},
     "output_type": "execute_result"
    }
   ],
   "source": [
    "s2[0]"
   ]
  },
  {
   "cell_type": "code",
   "execution_count": 9,
   "id": "d183ebfa-9483-4226-a6bb-f4f1a9f5cd22",
   "metadata": {},
   "outputs": [
    {
     "data": {
      "text/plain": [
       "10"
      ]
     },
     "execution_count": 9,
     "metadata": {},
     "output_type": "execute_result"
    }
   ],
   "source": [
    "s2['A']"
   ]
  },
  {
   "cell_type": "code",
   "execution_count": null,
   "id": "203360b2-9099-42d6-aea1-3de3a478cf2c",
   "metadata": {},
   "outputs": [],
   "source": []
  },
  {
   "cell_type": "code",
   "execution_count": 10,
   "id": "83c0348d-a156-46bf-a675-185d3f3dae01",
   "metadata": {},
   "outputs": [
    {
     "data": {
      "text/plain": [
       "A    10\n",
       "B    20\n",
       "C    30\n",
       "D    40\n",
       "E    50\n",
       "dtype: int64"
      ]
     },
     "execution_count": 10,
     "metadata": {},
     "output_type": "execute_result"
    }
   ],
   "source": [
    "s2"
   ]
  },
  {
   "cell_type": "code",
   "execution_count": 11,
   "id": "4af69b70-10f7-4cf4-910e-bdda5b17f020",
   "metadata": {},
   "outputs": [
    {
     "data": {
      "text/plain": [
       "0    10\n",
       "1    20\n",
       "2    30\n",
       "3    40\n",
       "4    50\n",
       "dtype: int64"
      ]
     },
     "execution_count": 11,
     "metadata": {},
     "output_type": "execute_result"
    }
   ],
   "source": [
    "s1"
   ]
  },
  {
   "cell_type": "code",
   "execution_count": 12,
   "id": "71796cc0-e231-4922-ac1f-46104b79800f",
   "metadata": {},
   "outputs": [
    {
     "data": {
      "text/plain": [
       "0    10\n",
       "1    20\n",
       "2    30\n",
       "dtype: int64"
      ]
     },
     "execution_count": 12,
     "metadata": {},
     "output_type": "execute_result"
    }
   ],
   "source": [
    "s1[:3]"
   ]
  },
  {
   "cell_type": "code",
   "execution_count": 13,
   "id": "8cb80af5-7acd-43af-8f69-0bbca422f650",
   "metadata": {},
   "outputs": [
    {
     "data": {
      "text/plain": [
       "A    10\n",
       "B    20\n",
       "C    30\n",
       "D    40\n",
       "E    50\n",
       "dtype: int64"
      ]
     },
     "execution_count": 13,
     "metadata": {},
     "output_type": "execute_result"
    }
   ],
   "source": [
    "s2"
   ]
  },
  {
   "cell_type": "code",
   "execution_count": 14,
   "id": "c0ab9f0d-d9e8-4140-a672-126157beabf2",
   "metadata": {},
   "outputs": [
    {
     "data": {
      "text/plain": [
       "C    30\n",
       "D    40\n",
       "dtype: int64"
      ]
     },
     "execution_count": 14,
     "metadata": {},
     "output_type": "execute_result"
    }
   ],
   "source": [
    "s2[2:4]"
   ]
  },
  {
   "cell_type": "code",
   "execution_count": 16,
   "id": "a297c8ea-b74e-454f-9d90-03d892faabdd",
   "metadata": {},
   "outputs": [
    {
     "data": {
      "text/plain": [
       "B    20\n",
       "C    30\n",
       "D    40\n",
       "E    50\n",
       "dtype: int64"
      ]
     },
     "execution_count": 16,
     "metadata": {},
     "output_type": "execute_result"
    }
   ],
   "source": [
    "s2['B':'E']"
   ]
  },
  {
   "cell_type": "code",
   "execution_count": 17,
   "id": "2c360a08-a7cc-45f8-96b5-f5c2db543294",
   "metadata": {},
   "outputs": [
    {
     "data": {
      "text/plain": [
       "A    10\n",
       "B    20\n",
       "C    30\n",
       "D    40\n",
       "E    50\n",
       "dtype: int64"
      ]
     },
     "execution_count": 17,
     "metadata": {},
     "output_type": "execute_result"
    }
   ],
   "source": [
    "s2"
   ]
  },
  {
   "cell_type": "code",
   "execution_count": 18,
   "id": "c5259f0e-c09f-4154-8449-db77f2fc267f",
   "metadata": {},
   "outputs": [
    {
     "data": {
      "text/plain": [
       "A    10\n",
       "C    30\n",
       "dtype: int64"
      ]
     },
     "execution_count": 18,
     "metadata": {},
     "output_type": "execute_result"
    }
   ],
   "source": [
    "s2['A':'D':2]"
   ]
  },
  {
   "cell_type": "code",
   "execution_count": null,
   "id": "57465017-9a8a-41c3-bd2b-2925d03f19c4",
   "metadata": {},
   "outputs": [],
   "source": []
  },
  {
   "cell_type": "code",
   "execution_count": 19,
   "id": "64fa4ef3-2b72-42ed-b199-06e914181891",
   "metadata": {},
   "outputs": [
    {
     "data": {
      "text/plain": [
       "A    10\n",
       "B    20\n",
       "C    30\n",
       "D    40\n",
       "E    50\n",
       "dtype: int64"
      ]
     },
     "execution_count": 19,
     "metadata": {},
     "output_type": "execute_result"
    }
   ],
   "source": [
    "s2"
   ]
  },
  {
   "cell_type": "code",
   "execution_count": 20,
   "id": "88472e0c-0db1-47f1-b776-c91ce01660fe",
   "metadata": {},
   "outputs": [
    {
     "data": {
      "text/plain": [
       "0    10\n",
       "1    20\n",
       "2    30\n",
       "3    40\n",
       "4    50\n",
       "dtype: int64"
      ]
     },
     "execution_count": 20,
     "metadata": {},
     "output_type": "execute_result"
    }
   ],
   "source": [
    "s1"
   ]
  },
  {
   "cell_type": "code",
   "execution_count": 21,
   "id": "6be37dc2-3da4-421f-b3fb-b190ded3342d",
   "metadata": {
    "scrolled": true
   },
   "outputs": [
    {
     "ename": "KeyError",
     "evalue": "-1",
     "output_type": "error",
     "traceback": [
      "\u001b[1;31m---------------------------------------------------------------------------\u001b[0m",
      "\u001b[1;31mValueError\u001b[0m                                Traceback (most recent call last)",
      "File \u001b[1;32m~\\anaconda3\\Lib\\site-packages\\pandas\\core\\indexes\\range.py:414\u001b[0m, in \u001b[0;36mRangeIndex.get_loc\u001b[1;34m(self, key)\u001b[0m\n\u001b[0;32m    413\u001b[0m \u001b[38;5;28;01mtry\u001b[39;00m:\n\u001b[1;32m--> 414\u001b[0m     \u001b[38;5;28;01mreturn\u001b[39;00m \u001b[38;5;28mself\u001b[39m\u001b[38;5;241m.\u001b[39m_range\u001b[38;5;241m.\u001b[39mindex(new_key)\n\u001b[0;32m    415\u001b[0m \u001b[38;5;28;01mexcept\u001b[39;00m \u001b[38;5;167;01mValueError\u001b[39;00m \u001b[38;5;28;01mas\u001b[39;00m err:\n",
      "\u001b[1;31mValueError\u001b[0m: -1 is not in range",
      "\nThe above exception was the direct cause of the following exception:\n",
      "\u001b[1;31mKeyError\u001b[0m                                  Traceback (most recent call last)",
      "Cell \u001b[1;32mIn[21], line 1\u001b[0m\n\u001b[1;32m----> 1\u001b[0m s1[\u001b[38;5;241m-\u001b[39m\u001b[38;5;241m1\u001b[39m]\n",
      "File \u001b[1;32m~\\anaconda3\\Lib\\site-packages\\pandas\\core\\series.py:1040\u001b[0m, in \u001b[0;36mSeries.__getitem__\u001b[1;34m(self, key)\u001b[0m\n\u001b[0;32m   1037\u001b[0m     \u001b[38;5;28;01mreturn\u001b[39;00m \u001b[38;5;28mself\u001b[39m\u001b[38;5;241m.\u001b[39m_values[key]\n\u001b[0;32m   1039\u001b[0m \u001b[38;5;28;01melif\u001b[39;00m key_is_scalar:\n\u001b[1;32m-> 1040\u001b[0m     \u001b[38;5;28;01mreturn\u001b[39;00m \u001b[38;5;28mself\u001b[39m\u001b[38;5;241m.\u001b[39m_get_value(key)\n\u001b[0;32m   1042\u001b[0m \u001b[38;5;66;03m# Convert generator to list before going through hashable part\u001b[39;00m\n\u001b[0;32m   1043\u001b[0m \u001b[38;5;66;03m# (We will iterate through the generator there to check for slices)\u001b[39;00m\n\u001b[0;32m   1044\u001b[0m \u001b[38;5;28;01mif\u001b[39;00m is_iterator(key):\n",
      "File \u001b[1;32m~\\anaconda3\\Lib\\site-packages\\pandas\\core\\series.py:1156\u001b[0m, in \u001b[0;36mSeries._get_value\u001b[1;34m(self, label, takeable)\u001b[0m\n\u001b[0;32m   1153\u001b[0m     \u001b[38;5;28;01mreturn\u001b[39;00m \u001b[38;5;28mself\u001b[39m\u001b[38;5;241m.\u001b[39m_values[label]\n\u001b[0;32m   1155\u001b[0m \u001b[38;5;66;03m# Similar to Index.get_value, but we do not fall back to positional\u001b[39;00m\n\u001b[1;32m-> 1156\u001b[0m loc \u001b[38;5;241m=\u001b[39m \u001b[38;5;28mself\u001b[39m\u001b[38;5;241m.\u001b[39mindex\u001b[38;5;241m.\u001b[39mget_loc(label)\n\u001b[0;32m   1158\u001b[0m \u001b[38;5;28;01mif\u001b[39;00m is_integer(loc):\n\u001b[0;32m   1159\u001b[0m     \u001b[38;5;28;01mreturn\u001b[39;00m \u001b[38;5;28mself\u001b[39m\u001b[38;5;241m.\u001b[39m_values[loc]\n",
      "File \u001b[1;32m~\\anaconda3\\Lib\\site-packages\\pandas\\core\\indexes\\range.py:416\u001b[0m, in \u001b[0;36mRangeIndex.get_loc\u001b[1;34m(self, key)\u001b[0m\n\u001b[0;32m    414\u001b[0m         \u001b[38;5;28;01mreturn\u001b[39;00m \u001b[38;5;28mself\u001b[39m\u001b[38;5;241m.\u001b[39m_range\u001b[38;5;241m.\u001b[39mindex(new_key)\n\u001b[0;32m    415\u001b[0m     \u001b[38;5;28;01mexcept\u001b[39;00m \u001b[38;5;167;01mValueError\u001b[39;00m \u001b[38;5;28;01mas\u001b[39;00m err:\n\u001b[1;32m--> 416\u001b[0m         \u001b[38;5;28;01mraise\u001b[39;00m \u001b[38;5;167;01mKeyError\u001b[39;00m(key) \u001b[38;5;28;01mfrom\u001b[39;00m \u001b[38;5;21;01merr\u001b[39;00m\n\u001b[0;32m    417\u001b[0m \u001b[38;5;28;01mif\u001b[39;00m \u001b[38;5;28misinstance\u001b[39m(key, Hashable):\n\u001b[0;32m    418\u001b[0m     \u001b[38;5;28;01mraise\u001b[39;00m \u001b[38;5;167;01mKeyError\u001b[39;00m(key)\n",
      "\u001b[1;31mKeyError\u001b[0m: -1"
     ]
    }
   ],
   "source": [
    "s1[-1]"
   ]
  },
  {
   "cell_type": "code",
   "execution_count": null,
   "id": "d11bd095-4cea-4c4e-a7cb-d0e3e3d4bfbe",
   "metadata": {},
   "outputs": [],
   "source": []
  },
  {
   "cell_type": "code",
   "execution_count": null,
   "id": "f532f92c-ae75-4241-8c02-5e2074903376",
   "metadata": {},
   "outputs": [],
   "source": []
  },
  {
   "cell_type": "code",
   "execution_count": 22,
   "id": "c5429335-86c9-413e-9578-669dbbf25313",
   "metadata": {},
   "outputs": [
    {
     "data": {
      "text/plain": [
       "0    10\n",
       "1    20\n",
       "2    30\n",
       "3    40\n",
       "4    50\n",
       "dtype: int64"
      ]
     },
     "execution_count": 22,
     "metadata": {},
     "output_type": "execute_result"
    }
   ],
   "source": [
    "s1"
   ]
  },
  {
   "cell_type": "code",
   "execution_count": 23,
   "id": "6ac6566b-3b83-47f6-9687-7320e326d840",
   "metadata": {},
   "outputs": [
    {
     "data": {
      "text/plain": [
       "A    10\n",
       "B    20\n",
       "C    30\n",
       "D    40\n",
       "E    50\n",
       "dtype: int64"
      ]
     },
     "execution_count": 23,
     "metadata": {},
     "output_type": "execute_result"
    }
   ],
   "source": [
    "s2"
   ]
  },
  {
   "cell_type": "code",
   "execution_count": null,
   "id": "34ece747-acdb-4c2e-a5db-348484abbacb",
   "metadata": {},
   "outputs": [],
   "source": []
  },
  {
   "cell_type": "code",
   "execution_count": 24,
   "id": "23183545-82d7-437f-9aca-af465980bd2a",
   "metadata": {},
   "outputs": [
    {
     "data": {
      "text/plain": [
       "0    10\n",
       "1    20\n",
       "2    30\n",
       "3    40\n",
       "4    50\n",
       "dtype: int64"
      ]
     },
     "execution_count": 24,
     "metadata": {},
     "output_type": "execute_result"
    }
   ],
   "source": [
    "s1"
   ]
  },
  {
   "cell_type": "code",
   "execution_count": 25,
   "id": "e0349955-5087-4b01-b1d4-7f2eed7472bf",
   "metadata": {},
   "outputs": [
    {
     "data": {
      "text/plain": [
       "0    20\n",
       "1    30\n",
       "2    40\n",
       "3    50\n",
       "4    60\n",
       "dtype: int64"
      ]
     },
     "execution_count": 25,
     "metadata": {},
     "output_type": "execute_result"
    }
   ],
   "source": [
    "s1 + 10"
   ]
  },
  {
   "cell_type": "code",
   "execution_count": 26,
   "id": "92789f67-78ae-4edd-b488-5777b264e86c",
   "metadata": {},
   "outputs": [
    {
     "data": {
      "text/plain": [
       "0    1.0\n",
       "1    2.0\n",
       "2    3.0\n",
       "3    4.0\n",
       "4    5.0\n",
       "dtype: float64"
      ]
     },
     "execution_count": 26,
     "metadata": {},
     "output_type": "execute_result"
    }
   ],
   "source": [
    "s1 / 10"
   ]
  },
  {
   "cell_type": "code",
   "execution_count": 27,
   "id": "f0126c8e-d690-4806-ab10-46c153455a6e",
   "metadata": {},
   "outputs": [
    {
     "data": {
      "text/plain": [
       "0     50\n",
       "1    100\n",
       "2    150\n",
       "3    200\n",
       "4    250\n",
       "dtype: int64"
      ]
     },
     "execution_count": 27,
     "metadata": {},
     "output_type": "execute_result"
    }
   ],
   "source": [
    "s1 * 5"
   ]
  },
  {
   "cell_type": "code",
   "execution_count": 28,
   "id": "d5aae8b8-988f-4652-8010-8c77d1611ea2",
   "metadata": {},
   "outputs": [
    {
     "data": {
      "text/plain": [
       "0    10\n",
       "1    20\n",
       "2    30\n",
       "3    40\n",
       "4    50\n",
       "dtype: int64"
      ]
     },
     "execution_count": 28,
     "metadata": {},
     "output_type": "execute_result"
    }
   ],
   "source": [
    "s1"
   ]
  },
  {
   "cell_type": "code",
   "execution_count": 29,
   "id": "9a32a184-c4e5-41d6-852b-a60166c8ecc3",
   "metadata": {},
   "outputs": [
    {
     "data": {
      "text/plain": [
       "A    10\n",
       "B    20\n",
       "C    30\n",
       "D    40\n",
       "E    50\n",
       "dtype: int64"
      ]
     },
     "execution_count": 29,
     "metadata": {},
     "output_type": "execute_result"
    }
   ],
   "source": [
    "s2"
   ]
  },
  {
   "cell_type": "code",
   "execution_count": 30,
   "id": "75645c67-3484-490a-bf2c-668d5e0f9bc7",
   "metadata": {},
   "outputs": [
    {
     "data": {
      "text/plain": [
       "0     5\n",
       "1    10\n",
       "2    15\n",
       "3    20\n",
       "4    25\n",
       "dtype: int64"
      ]
     },
     "execution_count": 30,
     "metadata": {},
     "output_type": "execute_result"
    }
   ],
   "source": [
    "s3 = pd.Series([5,10,15,20,25])\n",
    "s3"
   ]
  },
  {
   "cell_type": "code",
   "execution_count": 31,
   "id": "bf715df7-3000-48b7-8b9b-05843169e25c",
   "metadata": {},
   "outputs": [
    {
     "data": {
      "text/plain": [
       "0    10\n",
       "1    20\n",
       "2    30\n",
       "3    40\n",
       "4    50\n",
       "dtype: int64"
      ]
     },
     "execution_count": 31,
     "metadata": {},
     "output_type": "execute_result"
    }
   ],
   "source": [
    "s1"
   ]
  },
  {
   "cell_type": "code",
   "execution_count": 32,
   "id": "f7c7dc82-22b1-40ea-9b62-c961c7bb7e27",
   "metadata": {},
   "outputs": [
    {
     "data": {
      "text/plain": [
       "0     5\n",
       "1    10\n",
       "2    15\n",
       "3    20\n",
       "4    25\n",
       "dtype: int64"
      ]
     },
     "execution_count": 32,
     "metadata": {},
     "output_type": "execute_result"
    }
   ],
   "source": [
    "s3"
   ]
  },
  {
   "cell_type": "code",
   "execution_count": 33,
   "id": "2b20140b-3fb6-49e4-aa15-f7584fb77a8d",
   "metadata": {},
   "outputs": [
    {
     "data": {
      "text/plain": [
       "0    15\n",
       "1    30\n",
       "2    45\n",
       "3    60\n",
       "4    75\n",
       "dtype: int64"
      ]
     },
     "execution_count": 33,
     "metadata": {},
     "output_type": "execute_result"
    }
   ],
   "source": [
    "s1 + s3"
   ]
  },
  {
   "cell_type": "code",
   "execution_count": 34,
   "id": "299805a9-329b-4bb1-9762-9ab4a8e640d6",
   "metadata": {},
   "outputs": [
    {
     "data": {
      "text/plain": [
       "0    10\n",
       "1    20\n",
       "2    30\n",
       "3    40\n",
       "4    50\n",
       "dtype: int64"
      ]
     },
     "execution_count": 34,
     "metadata": {},
     "output_type": "execute_result"
    }
   ],
   "source": [
    "s1"
   ]
  },
  {
   "cell_type": "code",
   "execution_count": 35,
   "id": "16bd229d-f1fd-4d5b-9234-d81b193290ff",
   "metadata": {},
   "outputs": [
    {
     "data": {
      "text/plain": [
       "A    10\n",
       "B    20\n",
       "C    30\n",
       "D    40\n",
       "E    50\n",
       "dtype: int64"
      ]
     },
     "execution_count": 35,
     "metadata": {},
     "output_type": "execute_result"
    }
   ],
   "source": [
    "s2"
   ]
  },
  {
   "cell_type": "code",
   "execution_count": 36,
   "id": "b6d8f807-e33c-430d-9b69-fdb396609eda",
   "metadata": {},
   "outputs": [
    {
     "data": {
      "text/plain": [
       "0   NaN\n",
       "1   NaN\n",
       "2   NaN\n",
       "3   NaN\n",
       "4   NaN\n",
       "A   NaN\n",
       "B   NaN\n",
       "C   NaN\n",
       "D   NaN\n",
       "E   NaN\n",
       "dtype: float64"
      ]
     },
     "execution_count": 36,
     "metadata": {},
     "output_type": "execute_result"
    }
   ],
   "source": [
    "s1 + s2"
   ]
  },
  {
   "cell_type": "code",
   "execution_count": null,
   "id": "f6e82b69-eab8-447b-b687-b5d3b6a3482d",
   "metadata": {},
   "outputs": [],
   "source": []
  },
  {
   "cell_type": "code",
   "execution_count": 37,
   "id": "ceeca4a7-9eb6-4b52-bccc-68411f59ddf6",
   "metadata": {},
   "outputs": [],
   "source": [
    "names = ['rohan', 'simran', 'sachin', 'aman', 'harsh']\n",
    "roll_no = [1,2,3,4,5]"
   ]
  },
  {
   "cell_type": "code",
   "execution_count": 38,
   "id": "cab0c490-4bdc-4e4d-b3b3-f626aa40a60e",
   "metadata": {},
   "outputs": [],
   "source": [
    "names.sort()"
   ]
  },
  {
   "cell_type": "code",
   "execution_count": 39,
   "id": "113530b0-9557-4253-a409-d2accc07af2a",
   "metadata": {},
   "outputs": [
    {
     "data": {
      "text/plain": [
       "['aman', 'harsh', 'rohan', 'sachin', 'simran']"
      ]
     },
     "execution_count": 39,
     "metadata": {},
     "output_type": "execute_result"
    }
   ],
   "source": [
    "names"
   ]
  },
  {
   "cell_type": "code",
   "execution_count": 40,
   "id": "4d73d4c1-cf6e-4151-bb6e-a85de41317d1",
   "metadata": {},
   "outputs": [
    {
     "data": {
      "text/plain": [
       "[1, 2, 3, 4, 5]"
      ]
     },
     "execution_count": 40,
     "metadata": {},
     "output_type": "execute_result"
    }
   ],
   "source": [
    "roll_no"
   ]
  },
  {
   "cell_type": "code",
   "execution_count": 41,
   "id": "a75e64b7-4e74-4cc3-aedb-dec6323c3c9e",
   "metadata": {},
   "outputs": [
    {
     "data": {
      "text/plain": [
       "1      aman\n",
       "2     harsh\n",
       "3     rohan\n",
       "4    sachin\n",
       "5    simran\n",
       "dtype: object"
      ]
     },
     "execution_count": 41,
     "metadata": {},
     "output_type": "execute_result"
    }
   ],
   "source": [
    "pd.Series(names, roll_no)"
   ]
  },
  {
   "cell_type": "code",
   "execution_count": null,
   "id": "61dec646-a2c5-4d31-aeb0-724f30c3b341",
   "metadata": {},
   "outputs": [],
   "source": []
  },
  {
   "cell_type": "code",
   "execution_count": null,
   "id": "58dd4ff4-ff9a-4212-bb11-de95abfd2912",
   "metadata": {},
   "outputs": [],
   "source": []
  },
  {
   "cell_type": "code",
   "execution_count": 43,
   "id": "b49e1311-c248-4e89-b8ff-fb4f42b1bd2b",
   "metadata": {},
   "outputs": [],
   "source": [
    "s1 = pd.Series([10,20,30, np.nan,60], ['A', 'B', 'C', 'D', 'E'])\n",
    "s2 = pd.Series([11,22,np.nan,45,56], ['A', 'C', 'D', 'E', 'F'])"
   ]
  },
  {
   "cell_type": "code",
   "execution_count": 44,
   "id": "9e10ea74-a66a-451a-a302-bd5c35d72457",
   "metadata": {},
   "outputs": [
    {
     "data": {
      "text/plain": [
       "A    10.0\n",
       "B    20.0\n",
       "C    30.0\n",
       "D     NaN\n",
       "E    60.0\n",
       "dtype: float64"
      ]
     },
     "execution_count": 44,
     "metadata": {},
     "output_type": "execute_result"
    }
   ],
   "source": [
    "s1"
   ]
  },
  {
   "cell_type": "code",
   "execution_count": 45,
   "id": "49469e23-692d-496f-b011-7ccfe510121d",
   "metadata": {},
   "outputs": [
    {
     "data": {
      "text/plain": [
       "A    11.0\n",
       "C    22.0\n",
       "D     NaN\n",
       "E    45.0\n",
       "F    56.0\n",
       "dtype: float64"
      ]
     },
     "execution_count": 45,
     "metadata": {},
     "output_type": "execute_result"
    }
   ],
   "source": [
    "s2"
   ]
  },
  {
   "cell_type": "code",
   "execution_count": 46,
   "id": "e032bd9a-6e37-4286-975a-f30bda4aff95",
   "metadata": {},
   "outputs": [
    {
     "data": {
      "text/plain": [
       "A     21.0\n",
       "B      NaN\n",
       "C     52.0\n",
       "D      NaN\n",
       "E    105.0\n",
       "F      NaN\n",
       "dtype: float64"
      ]
     },
     "execution_count": 46,
     "metadata": {},
     "output_type": "execute_result"
    }
   ],
   "source": [
    "s1 + s2"
   ]
  },
  {
   "cell_type": "code",
   "execution_count": null,
   "id": "ff6b5739-e44b-4400-bea2-ac688f25e44a",
   "metadata": {},
   "outputs": [],
   "source": []
  },
  {
   "cell_type": "code",
   "execution_count": 47,
   "id": "5228c09d-1a2f-470d-bcac-02bde80291b5",
   "metadata": {},
   "outputs": [
    {
     "data": {
      "text/plain": [
       "name        rohan\n",
       "age            23\n",
       "address    jaipur\n",
       "dtype: object"
      ]
     },
     "execution_count": 47,
     "metadata": {},
     "output_type": "execute_result"
    }
   ],
   "source": [
    "pd.Series({'name':'rohan', 'age':23, 'address':'jaipur'})"
   ]
  },
  {
   "cell_type": "code",
   "execution_count": null,
   "id": "029c9cb8-b0a3-493a-a434-dc0e72bada6c",
   "metadata": {},
   "outputs": [],
   "source": []
  },
  {
   "cell_type": "code",
   "execution_count": 48,
   "id": "7b5bf9dd-1547-45a2-80bb-870fa59fe334",
   "metadata": {},
   "outputs": [
    {
     "data": {
      "text/plain": [
       "0         (math, 45)\n",
       "1      (physics, 34)\n",
       "2    (chemistry, 55)\n",
       "dtype: object"
      ]
     },
     "execution_count": 48,
     "metadata": {},
     "output_type": "execute_result"
    }
   ],
   "source": [
    "pd.Series([('math', 45), ('physics', 34), ('chemistry', 55)])"
   ]
  },
  {
   "cell_type": "code",
   "execution_count": null,
   "id": "5b6d7155-4140-43c4-9614-ac2a49cb62b7",
   "metadata": {},
   "outputs": [],
   "source": []
  },
  {
   "cell_type": "code",
   "execution_count": 2,
   "id": "51a60e90-28ea-4ddf-928d-85477f0f8085",
   "metadata": {
    "scrolled": true
   },
   "outputs": [
    {
     "data": {
      "text/plain": [
       "0     33\n",
       "1     22\n",
       "2     48\n",
       "3     52\n",
       "4     51\n",
       "5     53\n",
       "6     26\n",
       "7     30\n",
       "8     22\n",
       "9     52\n",
       "10    22\n",
       "11    33\n",
       "12    47\n",
       "13    40\n",
       "14    42\n",
       "15    54\n",
       "16    24\n",
       "17    30\n",
       "18    26\n",
       "19    39\n",
       "20    53\n",
       "21    53\n",
       "22    41\n",
       "23    29\n",
       "24    24\n",
       "25    50\n",
       "26    30\n",
       "27    41\n",
       "28    44\n",
       "29    42\n",
       "30    30\n",
       "31    42\n",
       "32    48\n",
       "33    52\n",
       "34    23\n",
       "35    54\n",
       "36    39\n",
       "37    40\n",
       "38    39\n",
       "39    21\n",
       "40    54\n",
       "41    46\n",
       "42    42\n",
       "43    32\n",
       "44    24\n",
       "45    30\n",
       "46    39\n",
       "47    53\n",
       "48    29\n",
       "49    36\n",
       "dtype: int32"
      ]
     },
     "execution_count": 2,
     "metadata": {},
     "output_type": "execute_result"
    }
   ],
   "source": [
    "s1 = pd.Series(np.random.randint(20, 55, 50))\n",
    "s1"
   ]
  },
  {
   "cell_type": "code",
   "execution_count": null,
   "id": "9afc5bf6-2d7c-4a6f-9e6d-2191b2025fd6",
   "metadata": {},
   "outputs": [],
   "source": []
  },
  {
   "cell_type": "code",
   "execution_count": 3,
   "id": "69b4a501-9ea3-4055-8afe-596ea1dc843b",
   "metadata": {
    "scrolled": true
   },
   "outputs": [
    {
     "data": {
      "text/plain": [
       "0     False\n",
       "1     False\n",
       "2      True\n",
       "3      True\n",
       "4      True\n",
       "5      True\n",
       "6     False\n",
       "7     False\n",
       "8     False\n",
       "9      True\n",
       "10    False\n",
       "11    False\n",
       "12     True\n",
       "13    False\n",
       "14     True\n",
       "15     True\n",
       "16    False\n",
       "17    False\n",
       "18    False\n",
       "19    False\n",
       "20     True\n",
       "21     True\n",
       "22     True\n",
       "23    False\n",
       "24    False\n",
       "25     True\n",
       "26    False\n",
       "27     True\n",
       "28     True\n",
       "29     True\n",
       "30    False\n",
       "31     True\n",
       "32     True\n",
       "33     True\n",
       "34    False\n",
       "35     True\n",
       "36    False\n",
       "37    False\n",
       "38    False\n",
       "39    False\n",
       "40     True\n",
       "41     True\n",
       "42     True\n",
       "43    False\n",
       "44    False\n",
       "45    False\n",
       "46    False\n",
       "47     True\n",
       "48    False\n",
       "49    False\n",
       "dtype: bool"
      ]
     },
     "execution_count": 3,
     "metadata": {},
     "output_type": "execute_result"
    }
   ],
   "source": [
    "s1 > 40"
   ]
  },
  {
   "cell_type": "code",
   "execution_count": null,
   "id": "8f0c9211-36b0-4ca8-b8cc-cc1367709e74",
   "metadata": {},
   "outputs": [],
   "source": []
  },
  {
   "cell_type": "code",
   "execution_count": 4,
   "id": "838d8fec-3cda-4e9f-b095-63509555b122",
   "metadata": {
    "scrolled": true
   },
   "outputs": [
    {
     "data": {
      "text/plain": [
       "2     48\n",
       "3     52\n",
       "4     51\n",
       "5     53\n",
       "9     52\n",
       "12    47\n",
       "14    42\n",
       "15    54\n",
       "20    53\n",
       "21    53\n",
       "22    41\n",
       "25    50\n",
       "27    41\n",
       "28    44\n",
       "29    42\n",
       "31    42\n",
       "32    48\n",
       "33    52\n",
       "35    54\n",
       "40    54\n",
       "41    46\n",
       "42    42\n",
       "47    53\n",
       "dtype: int32"
      ]
     },
     "execution_count": 4,
     "metadata": {},
     "output_type": "execute_result"
    }
   ],
   "source": [
    "s1[s1>40]"
   ]
  },
  {
   "cell_type": "code",
   "execution_count": null,
   "id": "34e7309a-dda2-4af3-b732-4607bba308dc",
   "metadata": {},
   "outputs": [],
   "source": []
  },
  {
   "cell_type": "code",
   "execution_count": 5,
   "id": "24b31b37-463e-44b9-8c2f-e985733a93a6",
   "metadata": {},
   "outputs": [
    {
     "data": {
      "text/plain": [
       "0      119.774862\n",
       "1      139.474783\n",
       "2       88.242955\n",
       "3      160.669118\n",
       "4      226.242494\n",
       "          ...    \n",
       "995    168.083736\n",
       "996    191.769263\n",
       "997    156.664760\n",
       "998    131.480098\n",
       "999    174.580352\n",
       "Length: 1000, dtype: float64"
      ]
     },
     "execution_count": 5,
     "metadata": {},
     "output_type": "execute_result"
    }
   ],
   "source": [
    "s2 = pd.Series(np.random.normal(150, 30, 1000))\n",
    "s2"
   ]
  },
  {
   "cell_type": "code",
   "execution_count": null,
   "id": "8bbab86c-434a-4258-9db6-c8cc27ac1891",
   "metadata": {},
   "outputs": [],
   "source": []
  },
  {
   "cell_type": "code",
   "execution_count": 7,
   "id": "6f4631f2-3cee-4c90-bc8f-92dde468213e",
   "metadata": {
    "scrolled": true
   },
   "outputs": [
    {
     "data": {
      "text/plain": [
       "array([ 96.28414376, 173.67984735, 165.88786306, 121.07896022,\n",
       "       190.90462571, 153.89076773, 147.480193  , 163.73906409,\n",
       "       140.56914178, 161.91251437, 191.6452318 , 218.91648103,\n",
       "       165.10991012, 140.46216632, 161.45603246, 181.66867488,\n",
       "       183.6058084 , 151.28785801, 147.58816249, 128.53112617,\n",
       "       163.65572084,  96.04803511, 180.76340714, 162.07598311,\n",
       "       107.0457535 , 176.53764473, 131.0120521 , 171.20770519,\n",
       "       226.04776447, 167.58916606,  88.02293878, 161.45825048,\n",
       "       148.66901048, 158.7477806 , 193.27133696, 117.81218342,\n",
       "       114.27388459,  82.77437436, 145.58401663, 136.59267468,\n",
       "       195.28943008, 140.76791791, 177.00466569, 155.31045268,\n",
       "       177.57425623, 161.2732568 , 179.58173047, 178.59182634,\n",
       "       139.595822  , 139.18608307, 108.06505272, 133.44801283,\n",
       "       147.68693742, 201.8635926 , 142.90902157, 132.963165  ,\n",
       "       148.14090016, 196.57327897, 156.82394356, 191.25477697,\n",
       "       182.96107533, 177.35005804,  96.07964038, 112.26012988,\n",
       "       132.57950549, 171.07612076, 134.49052376, 180.23101285,\n",
       "       100.10127519, 126.36953512, 130.12713881, 152.04790827,\n",
       "       122.77967667, 160.10326327, 160.83339151, 134.20090865,\n",
       "       153.74825564, 191.572172  , 177.72152668, 144.88132152,\n",
       "       139.59943505, 125.00982536, 192.43432984, 189.43454697,\n",
       "       149.06789053, 205.39544371, 146.18016628, 130.20978495,\n",
       "       129.23357183, 147.62641306, 125.0332418 , 180.30252752,\n",
       "       163.35136531, 146.76796269, 130.76611927, 165.71113165,\n",
       "       137.44297624, 102.1853103 , 118.43082134, 156.66579738,\n",
       "       130.39613395, 175.70970479, 141.93750177, 127.56716279,\n",
       "       164.36413637, 128.02405259, 135.39714207, 163.64553256,\n",
       "       179.907476  , 159.17700108, 111.60906389, 221.08570487,\n",
       "       164.82887343, 167.98656342, 103.38568271, 144.96966566,\n",
       "       161.44325654, 203.43083268, 222.67302853, 157.91291112,\n",
       "       120.7758503 , 153.48490527, 152.85872728, 135.77793255,\n",
       "        91.24716367, 145.23486591, 195.87808297, 159.93722172,\n",
       "        87.39422836, 156.77300171, 116.41087251, 164.65928779,\n",
       "       150.24022046, 166.75239399, 187.68613289, 131.8431197 ,\n",
       "       129.65980777, 139.87379332, 176.13403194, 126.8211815 ,\n",
       "       142.89881139, 113.17980281, 158.44902968, 107.15703038,\n",
       "       145.32151895, 154.39169573, 163.46045418, 197.87770008,\n",
       "       157.87952306, 112.18200971, 132.15385755, 149.51814014,\n",
       "       159.65762719, 156.09794643, 101.19431619, 170.8871268 ,\n",
       "       136.88608224, 194.94341077, 148.49810284, 179.16451183,\n",
       "       133.28054667, 115.46188996, 154.75067506, 179.5440443 ,\n",
       "       118.70416423, 134.74013726,  67.9746913 , 117.73628277,\n",
       "       148.39295368, 133.48969253, 159.23460117,  99.22644539,\n",
       "       163.88022253, 123.9652498 , 153.75328238, 124.56912016,\n",
       "       147.45488562, 167.33966113, 172.54875507, 150.49955487,\n",
       "       199.0341683 , 140.42062351, 147.99541584, 201.26873367,\n",
       "       129.63571113, 183.63625857, 163.32967686, 153.63534684,\n",
       "       159.72822014, 168.22342461, 160.62285934, 149.36240869,\n",
       "       151.05835322, 159.77642059, 138.87735413, 116.5145579 ,\n",
       "       165.85463248, 183.63935162, 176.87458426, 144.08211878,\n",
       "       114.96938563, 177.55599377, 179.1557778 , 173.10467224,\n",
       "       100.78199843, 145.4167859 , 133.46342638, 145.86403966,\n",
       "       170.91304951, 181.39638047, 158.12764268, 167.64345547,\n",
       "       206.00339433, 118.35362147, 169.93628918, 134.07309157,\n",
       "       199.35868408,  82.03006263, 193.27352134,  84.83747196,\n",
       "       184.80472687, 136.91607172, 111.74201221, 165.52251357,\n",
       "       124.51244568, 204.31690993, 176.35273582, 166.92338883,\n",
       "       115.90104429, 211.34918201, 126.90190056, 114.43079755,\n",
       "        88.54950981, 102.76771492, 164.15966168, 124.4751379 ,\n",
       "       152.34064464, 162.99170013, 139.51908041, 129.8833517 ,\n",
       "       134.61359375, 135.60630627, 140.03018821, 121.29300286,\n",
       "       177.18357544, 160.7523205 , 121.61568938, 128.20213274,\n",
       "       116.80068829, 127.04159591, 183.65691252, 108.77779727,\n",
       "       154.4649749 , 115.08811992, 194.06959493, 180.27254603,\n",
       "       139.22154591, 143.34935523, 137.64557165, 217.03449255,\n",
       "       183.22169694, 122.04754213, 166.75527267, 123.34975994,\n",
       "       149.44655091, 100.4219296 , 133.1037729 , 141.53570469,\n",
       "       168.12264853, 188.96030425, 141.90771087, 127.11433399,\n",
       "        93.16908675, 176.15636859, 138.76850895, 111.69290642,\n",
       "       127.0364259 , 137.58965591, 144.85506776, 193.19376591,\n",
       "       112.01256778, 169.29552931, 116.67609481, 195.84665705,\n",
       "       121.6432528 , 134.37110434, 108.47463491, 138.96477406,\n",
       "       147.52095553, 142.78056801, 131.2518901 , 143.75974337,\n",
       "       140.41616953, 138.45969591, 171.3980919 , 133.35227578,\n",
       "       102.27403626, 143.51192697, 188.61427203, 152.0835036 ,\n",
       "        90.73126107, 118.03724806, 152.10517054, 170.09613232,\n",
       "       163.44941709, 169.23809465, 152.23662239, 104.3129223 ,\n",
       "       132.25297476, 135.74937088, 208.4110733 , 196.80991391,\n",
       "        82.82418095, 153.02431312, 157.87004357, 123.1919812 ,\n",
       "       129.69726103, 151.30589416, 112.89644995, 183.51795135,\n",
       "       125.1267424 , 167.50063463, 191.44472437, 134.81474517,\n",
       "       183.12730448, 156.82156289,  86.39970006, 184.3659842 ,\n",
       "       187.06658915,  87.3070526 , 139.00017111, 123.28969265,\n",
       "       178.76132764, 218.73295498, 167.99038607, 162.36594659,\n",
       "        81.40507392, 151.28167697, 133.88426683, 178.02735733,\n",
       "       125.74387676, 130.45339261, 125.64266631, 167.79193917,\n",
       "       143.87960276, 188.42886123, 162.2105519 , 134.95938549,\n",
       "       186.61013007, 185.33790053,  95.46350674,  93.53291767,\n",
       "       161.37655868,  90.60441975, 190.13284461, 148.67167716,\n",
       "       189.52282757, 147.85287175, 160.69584711, 170.4176238 ,\n",
       "       185.40367518, 127.71997746, 158.48141214, 132.60972443,\n",
       "       184.7402453 , 164.30551025, 166.5258231 , 156.83802895,\n",
       "       198.48353036, 156.82203124,  87.42185958, 101.63929724,\n",
       "       150.74344112, 134.05471361, 125.19690737, 104.06812702,\n",
       "       139.67723102, 159.77934267, 173.20367137, 179.92466445,\n",
       "       141.66495317, 177.62402399, 142.58675342, 128.05267121,\n",
       "       160.823495  , 177.69786957, 117.67120576, 129.63100575,\n",
       "       169.72093889, 130.88958233, 175.45285279, 107.33903345,\n",
       "       184.10048581, 204.35249712, 170.50990684, 143.29351101,\n",
       "       175.74920814, 127.94197565, 141.00654664, 143.24476157,\n",
       "       198.83501156, 120.50439228, 195.60508562, 128.93179762,\n",
       "       120.35909769,  93.8129027 , 122.05092022, 130.98668237,\n",
       "       137.73492805, 125.30105061, 127.72336351, 172.005778  ,\n",
       "       158.33193188, 107.3535516 , 125.96285634, 146.89777807,\n",
       "       168.37436553, 155.8512488 , 150.85988155, 121.59586325,\n",
       "       184.30202969, 185.37962517, 118.97316108, 163.29594343,\n",
       "       104.42698317, 144.20874348, 112.54012551, 194.22908837,\n",
       "       112.43313928,  97.74663984, 146.11578016, 111.02320199,\n",
       "       182.79986967, 148.02039921, 171.59526189, 173.70345621,\n",
       "        67.42887218, 153.25698652, 130.51048508,  70.72628842,\n",
       "       123.98949666, 220.84663402, 108.75438493, 130.91194098,\n",
       "       173.1364752 , 131.32336831, 137.72191641, 137.70623619,\n",
       "       132.39045191, 130.65313464, 142.12971527, 152.43327836,\n",
       "       155.82943062, 163.20713295, 126.50074299, 149.79455864,\n",
       "       117.35096352, 149.1102793 , 144.56342253, 144.76577865,\n",
       "       122.7992597 , 132.0836812 , 146.82502643, 160.76341621,\n",
       "       137.59010036, 164.63090002, 197.61752756,  91.76741641,\n",
       "       136.42887901, 162.39270658, 189.12450481, 177.53968566,\n",
       "       161.02008309, 122.81648169, 119.81826978, 166.06645836,\n",
       "       147.43348251, 187.98213281, 191.21644079, 154.52666845,\n",
       "       143.40729334, 124.74687806, 166.09835816, 132.11418936,\n",
       "       151.1297526 , 141.14304766,  66.56622741, 131.07036421,\n",
       "       155.17448915, 161.26638409, 194.80559662, 148.83077979,\n",
       "       159.19445659, 153.50626761, 161.88892192, 152.52545402,\n",
       "       136.17560837, 133.9979355 , 162.06891362, 160.14726508,\n",
       "       102.55932235, 102.50596157, 168.77486948, 187.48407461,\n",
       "       153.51346491, 116.5732979 , 144.35166135, 104.16508643,\n",
       "       161.00679808, 137.66389284, 199.84192585, 138.78967804,\n",
       "       154.70277743, 101.43963341, 130.31137736, 133.18475516,\n",
       "       131.82844599, 164.58323253, 161.5970581 , 188.3205244 ,\n",
       "       165.55794732, 188.84096546, 152.00277875,  84.28594605,\n",
       "       136.60832394, 105.12553515, 134.03326927, 188.13103154,\n",
       "       156.88147356, 172.77104385, 178.12806713, 172.15347504,\n",
       "       196.54414825, 178.42771425,  80.57810454,  73.08856952,\n",
       "       139.29061741, 111.54387784, 171.76761467,  80.55747884,\n",
       "       163.70572581, 211.44224921, 189.52699987, 144.96670721,\n",
       "       134.3284191 , 121.7500277 , 172.39554439, 165.24345377,\n",
       "       132.71574892, 138.81827788, 163.01413949, 154.51431696,\n",
       "       156.4483658 , 169.58824312, 137.66715407, 115.39448735,\n",
       "       196.23884241, 148.94551131, 153.87804134, 155.73587684,\n",
       "        85.54719082, 165.80999163,  92.34407183,  92.14664264,\n",
       "       129.05879878, 123.15415699, 138.81001128, 138.22042002,\n",
       "       184.97654338, 185.69454178, 122.57370778, 142.18358486,\n",
       "       182.19836742, 128.46559976, 158.47117304, 161.35720507,\n",
       "        95.10929818, 190.63557883, 130.42707948, 212.8448863 ,\n",
       "       158.52852317, 195.96042667,  82.98983855,  99.28251288,\n",
       "       124.30211422, 146.20696383, 139.62244138, 161.08807788,\n",
       "       170.23287284, 174.82881208, 153.44354696, 140.60553027,\n",
       "       127.58961131, 176.60267036, 184.13205748, 157.55188495,\n",
       "       156.90808197, 179.06172041,  92.837386  , 154.37933466,\n",
       "       123.57982518, 115.0463633 , 119.22749484, 130.34547199,\n",
       "        88.12928833, 164.59065882, 135.03304527, 132.36713377,\n",
       "       105.24561944, 154.65000154, 154.0171747 , 159.73859023,\n",
       "       130.08553018,  94.37081643, 157.618824  , 176.65163221,\n",
       "       140.73209416, 162.25353518, 159.76257115, 103.14204169,\n",
       "       166.28407083, 131.75253606, 138.83765573, 152.73218318,\n",
       "       140.06753683, 161.15723223, 156.86020692, 185.51240363,\n",
       "       206.50803435, 165.84200449, 156.46205295, 185.96351059,\n",
       "       153.55553177, 150.17068102, 155.61345993, 155.08261839,\n",
       "       158.62769019,  80.13841844, 154.98923189, 116.44137566,\n",
       "       194.47289891, 159.79364715, 151.96372137, 174.19409802,\n",
       "       183.06336636, 150.33659581, 166.34379001, 192.11820087,\n",
       "       156.96646367, 159.08390426, 156.08920614, 167.34860318,\n",
       "       117.08247334, 140.60992198, 150.32793937, 179.68071828,\n",
       "       153.46553033, 193.9286335 , 181.73552636, 185.32850504,\n",
       "       129.12048549, 151.77685397, 166.19895087, 150.54939459,\n",
       "       147.76954922, 135.96200065, 108.8625409 , 213.57502763,\n",
       "       151.31307916, 127.70865765, 162.00267308,  87.16771529,\n",
       "       119.26023474, 144.14141001, 164.39971439,  86.03134868,\n",
       "       128.12498985, 162.34163041, 166.14080502, 135.96440178,\n",
       "       136.48620294, 149.90722032, 147.92519679, 130.36215757,\n",
       "       137.07602888, 155.60375561, 140.34895193, 156.88765591,\n",
       "       117.35757835, 186.35677987, 153.36795434, 197.71764609,\n",
       "       175.4491968 ,  69.12745726, 140.7339094 , 100.89627125,\n",
       "       180.62659524, 179.66246343, 164.36705507,  84.98418576,\n",
       "       154.28213053, 139.76321688, 176.30348664, 146.13261018,\n",
       "       163.24006561, 137.80831796, 190.73249555,  68.70323941,\n",
       "       110.47116429, 162.29707309, 136.53450494, 101.03187031,\n",
       "       107.44063428,  94.75393447, 145.06140554, 180.83833359,\n",
       "       214.10872051, 154.45175734, 185.92826188, 130.83852244,\n",
       "       136.09090792, 119.7073182 , 153.38087069, 175.64734686,\n",
       "       148.77482458,  86.91487963, 142.02499009, 113.05735866,\n",
       "       144.44661514, 187.13221953, 136.73560233, 156.09831456,\n",
       "       118.56693001, 161.90839926, 148.98508389, 149.37087824,\n",
       "       197.7102435 , 185.13241709, 106.41060704, 187.08309798,\n",
       "       117.8867477 , 190.80043152, 124.60634957, 183.46283942,\n",
       "       140.58178261, 150.50601085, 171.89951723, 115.37444116,\n",
       "       124.54954127, 179.37311218, 139.41898611, 150.2406645 ,\n",
       "       136.47216148, 157.37341395, 159.74530825, 141.61824348,\n",
       "       142.06156991, 154.36563044, 189.8438113 , 122.16819324,\n",
       "       153.81020623, 118.74950211, 141.40640585, 172.12040807,\n",
       "       194.95965835, 199.10358145, 137.97676829, 184.04141281,\n",
       "       142.63058905, 126.89403369, 148.34452391, 136.01285992,\n",
       "       122.03497814,  78.51147088, 203.70220291, 159.69885835,\n",
       "       124.55550925, 126.70058644, 161.95048119, 171.30938008,\n",
       "       146.09182577, 135.28299445, 120.43084114, 106.73601952,\n",
       "       136.36665158, 185.89709273, 121.25188898, 155.11978597,\n",
       "       179.91352803, 116.90333865, 136.65567562, 189.82544428,\n",
       "       188.4879671 , 132.72789952, 162.14528877, 151.69059469,\n",
       "       168.47318241,  91.34785535, 140.64139159, 102.93518968,\n",
       "       201.96059863, 142.4517037 ,  79.49942128, 142.47578705,\n",
       "       136.4376194 , 180.38442246, 154.50873264, 116.10552969,\n",
       "       117.68656124, 199.54485298,  89.75483264, 196.22520955,\n",
       "       136.15960024, 163.21053328, 174.876269  , 156.83614632,\n",
       "       138.25770994, 139.90139706, 151.84147444, 177.868583  ,\n",
       "       176.89828474, 148.38513138, 119.54100255, 124.44457208,\n",
       "       114.09579509, 151.78793379, 167.9047899 , 168.42823934,\n",
       "       119.73177247, 176.49266734, 250.28171671, 147.30977066,\n",
       "       154.10660204, 131.51670689, 130.79591105, 154.94932647,\n",
       "       136.19626743, 130.59010589, 156.69657426, 126.79858123,\n",
       "       119.78620408, 102.24513988, 114.65088519, 167.81797837,\n",
       "       144.13540936, 114.61041674, 164.13193241, 160.74270775,\n",
       "       180.94039449, 157.10998494, 167.49568795, 156.35324688,\n",
       "       129.14416999, 137.48963264, 142.99498891, 142.4324968 ,\n",
       "       157.51551082, 169.48991182, 162.75795689, 182.05187463,\n",
       "       134.32470146, 177.92140219, 167.84993038, 154.56143898,\n",
       "       155.95148001, 147.89275635, 144.48316344, 147.93873012,\n",
       "       139.88336891, 183.7670953 , 195.21159839, 164.99879845,\n",
       "       109.64667213, 147.61100974, 169.13993281, 107.47192399,\n",
       "       103.68190902, 173.54701186, 174.44267658,  88.00445584,\n",
       "       166.83454029, 125.78834984, 195.03811102, 158.33467715,\n",
       "       178.67116272, 162.8470947 , 115.98423434, 200.9542464 ,\n",
       "       137.76101812, 131.03005879, 141.42799087, 128.57511521,\n",
       "       179.74826123, 196.83714464, 160.23838851, 109.42314526,\n",
       "       189.33230966, 145.45985046, 150.6332943 , 222.32807667,\n",
       "       121.64631359, 158.13121503, 148.80448074, 129.67559604,\n",
       "       197.57488349, 155.66063677, 128.01480505, 142.09976062,\n",
       "       177.69575021, 128.51387988, 177.11274089, 100.96401853,\n",
       "       134.85591152, 136.59263247, 193.93137484, 176.88499608,\n",
       "       180.31707345, 147.41541988, 157.57554057, 136.64833096,\n",
       "       204.61738646, 167.19095043, 130.10307755, 135.89880859,\n",
       "        98.78086216, 151.24034667, 180.33260773, 122.0919253 ,\n",
       "       162.88346982, 131.18377823, 117.06051608, 151.65955866,\n",
       "       124.26622099, 142.37578472, 144.2824613 , 110.01294881,\n",
       "       218.7401872 , 148.64100859, 174.25377826, 146.52400646,\n",
       "       210.36524562, 138.60534998, 147.29726575, 149.20718968,\n",
       "       112.32510871, 161.11917261, 173.00758123, 130.55092111,\n",
       "       119.00508792, 192.99481386, 148.88369721, 142.18537719,\n",
       "       145.16052267, 147.37064886, 165.85227015, 148.99066152,\n",
       "       151.41332916, 140.73987512, 138.73057459,  83.72416232,\n",
       "        87.45953095, 184.77340128, 125.88578163, 124.14877999,\n",
       "       212.37571915, 119.30549718, 158.95966281, 137.71355005,\n",
       "       141.78818431, 170.01391461, 266.1359758 , 176.20629032,\n",
       "       147.27320161, 111.07526319, 158.53219577, 201.48837167,\n",
       "       182.15403611, 136.07342481, 119.04843353, 179.12224603,\n",
       "       189.22359368, 104.79591069, 159.58953657, 153.17182288,\n",
       "       182.62040988, 207.14331221, 102.5250914 , 127.15965727,\n",
       "       145.89562743, 145.62402227, 162.25164251, 118.78166985,\n",
       "       100.65601042, 141.39605427, 121.61402138,  99.9971105 ,\n",
       "       186.3980728 , 163.0865516 , 207.08533638, 132.93951465])"
      ]
     },
     "execution_count": 7,
     "metadata": {},
     "output_type": "execute_result"
    }
   ],
   "source": [
    "arr1 = np.random.normal(150, 30, 1000)\n",
    "arr1"
   ]
  },
  {
   "cell_type": "code",
   "execution_count": null,
   "id": "a17320e1-98d3-4d22-a7b2-34051103a004",
   "metadata": {},
   "outputs": [],
   "source": []
  },
  {
   "cell_type": "code",
   "execution_count": 8,
   "id": "00d48cf7-80ff-46c3-93ce-f14943c15b0d",
   "metadata": {},
   "outputs": [],
   "source": [
    "import matplotlib.pyplot as plt"
   ]
  },
  {
   "cell_type": "code",
   "execution_count": 21,
   "id": "a56476d7-0a92-4ea9-afc1-aed56d0848eb",
   "metadata": {},
   "outputs": [
    {
     "data": {
      "image/png": "[encoded data removed]",
      "text/plain": [
       "<Figure size 640x480 with 1 Axes>"
      ]
     },
     "metadata": {},
     "output_type": "display_data"
    }
   ],
   "source": [
    "plt.hist(arr1, ec='k', bins=30)\n",
    "plt.show()"
   ]
  },
  {
   "cell_type": "code",
   "execution_count": null,
   "id": "50e7ec1e-1778-4c66-8c5f-5f982fb38397",
   "metadata": {},
   "outputs": [],
   "source": []
  },
  {
   "cell_type": "code",
   "execution_count": null,
   "id": "179090ff-9cb2-4b1a-a856-7ad74f3095a3",
   "metadata": {},
   "outputs": [],
   "source": []
  },
  {
   "cell_type": "code",
   "execution_count": 11,
   "id": "7a826005-af10-4d60-a2c6-7a664e0d5620",
   "metadata": {},
   "outputs": [
    {
     "data": {
      "text/plain": [
       "0      119.774862\n",
       "1      139.474783\n",
       "2       88.242955\n",
       "3      160.669118\n",
       "4      226.242494\n",
       "          ...    \n",
       "995    168.083736\n",
       "996    191.769263\n",
       "997    156.664760\n",
       "998    131.480098\n",
       "999    174.580352\n",
       "Length: 1000, dtype: float64"
      ]
     },
     "execution_count": 11,
     "metadata": {},
     "output_type": "execute_result"
    }
   ],
   "source": [
    "s2"
   ]
  },
  {
   "cell_type": "code",
   "execution_count": null,
   "id": "81bebe63-0a20-4b34-9aed-652ff3be6479",
   "metadata": {},
   "outputs": [],
   "source": []
  },
  {
   "cell_type": "code",
   "execution_count": 12,
   "id": "8ecfe883-1226-4cda-be87-96908f97083a",
   "metadata": {},
   "outputs": [
    {
     "data": {
      "text/plain": [
       "150.86942971248726"
      ]
     },
     "execution_count": 12,
     "metadata": {},
     "output_type": "execute_result"
    }
   ],
   "source": [
    "s2.mean()"
   ]
  },
  {
   "cell_type": "code",
   "execution_count": 13,
   "id": "047ef33d-26f1-4bf3-9025-156cea767b07",
   "metadata": {},
   "outputs": [
    {
     "data": {
      "text/plain": [
       "150.29544394559827"
      ]
     },
     "execution_count": 13,
     "metadata": {},
     "output_type": "execute_result"
    }
   ],
   "source": [
    "s2.median()"
   ]
  },
  {
   "cell_type": "code",
   "execution_count": null,
   "id": "a582a2ed-be6d-4519-8560-ebb0a0519a3e",
   "metadata": {},
   "outputs": [],
   "source": []
  },
  {
   "cell_type": "code",
   "execution_count": 14,
   "id": "77d62dba-96db-4f30-86ae-06736d9168cd",
   "metadata": {},
   "outputs": [
    {
     "data": {
      "text/plain": [
       "30.17864381103797"
      ]
     },
     "execution_count": 14,
     "metadata": {},
     "output_type": "execute_result"
    }
   ],
   "source": [
    "s2.std()"
   ]
  },
  {
   "cell_type": "code",
   "execution_count": 15,
   "id": "0906611a-fab6-43a7-903e-684f73fdb68b",
   "metadata": {},
   "outputs": [
    {
     "data": {
      "text/plain": [
       "910.7505422735002"
      ]
     },
     "execution_count": 15,
     "metadata": {},
     "output_type": "execute_result"
    }
   ],
   "source": [
    "s2.var()"
   ]
  },
  {
   "cell_type": "code",
   "execution_count": null,
   "id": "48dba4aa-3542-4e72-b83e-8bf5a95daf2c",
   "metadata": {},
   "outputs": [],
   "source": []
  },
  {
   "cell_type": "code",
   "execution_count": 16,
   "id": "576d6c11-6a7f-451f-a829-6db0a4f47762",
   "metadata": {},
   "outputs": [
    {
     "data": {
      "text/plain": [
       "0      119.774862\n",
       "1      139.474783\n",
       "2       88.242955\n",
       "3      160.669118\n",
       "4      226.242494\n",
       "          ...    \n",
       "995    168.083736\n",
       "996    191.769263\n",
       "997    156.664760\n",
       "998    131.480098\n",
       "999    174.580352\n",
       "Length: 1000, dtype: float64"
      ]
     },
     "execution_count": 16,
     "metadata": {},
     "output_type": "execute_result"
    }
   ],
   "source": [
    "s2"
   ]
  },
  {
   "cell_type": "code",
   "execution_count": null,
   "id": "ed166ab8-f2f6-4153-a1b5-61ec9878da8d",
   "metadata": {},
   "outputs": [],
   "source": []
  },
  {
   "cell_type": "code",
   "execution_count": 19,
   "id": "1030c670-e735-48c5-9625-57f18ea35aa3",
   "metadata": {},
   "outputs": [
    {
     "data": {
      "text/plain": [
       "<Axes: ylabel='Frequency'>"
      ]
     },
     "execution_count": 19,
     "metadata": {},
     "output_type": "execute_result"
    },
    {
     "data": {
      "image/png": "[encoded data removed]",
      "text/plain": [
       "<Figure size 640x480 with 1 Axes>"
      ]
     },
     "metadata": {},
     "output_type": "display_data"
    }
   ],
   "source": [
    "s2.plot(kind='hist', ec='k', bins=30)"
   ]
  },
  {
   "cell_type": "code",
   "execution_count": null,
   "id": "74de3004-9b7b-45dd-a6b6-1128387dbc0a",
   "metadata": {},
   "outputs": [],
   "source": []
  },
  {
   "cell_type": "code",
   "execution_count": null,
   "id": "26d30187-a8d7-40df-a89e-06f13dc66a5d",
   "metadata": {},
   "outputs": [],
   "source": []
  },
  {
   "cell_type": "code",
   "execution_count": 22,
   "id": "a6f6fa46-e979-426a-93a1-994204190e68",
   "metadata": {},
   "outputs": [
    {
     "data": {
      "text/plain": [
       "0      119.774862\n",
       "1      139.474783\n",
       "2       88.242955\n",
       "3      160.669118\n",
       "4      226.242494\n",
       "          ...    \n",
       "995    168.083736\n",
       "996    191.769263\n",
       "997    156.664760\n",
       "998    131.480098\n",
       "999    174.580352\n",
       "Length: 1000, dtype: float64"
      ]
     },
     "execution_count": 22,
     "metadata": {},
     "output_type": "execute_result"
    }
   ],
   "source": [
    "s2"
   ]
  },
  {
   "cell_type": "code",
   "execution_count": null,
   "id": "29619245-338f-4b33-9782-66b2e941cd68",
   "metadata": {},
   "outputs": [],
   "source": []
  },
  {
   "cell_type": "code",
   "execution_count": 23,
   "id": "e0bb1152-4eed-4801-ba32-9438afb9b3b6",
   "metadata": {},
   "outputs": [
    {
     "data": {
      "text/plain": [
       "0.25    130.723557\n",
       "0.50    150.295444\n",
       "0.75    170.719783\n",
       "dtype: float64"
      ]
     },
     "execution_count": 23,
     "metadata": {},
     "output_type": "execute_result"
    }
   ],
   "source": [
    "s2.quantile([0.25, 0.50, 0.75])"
   ]
  },
  {
   "cell_type": "code",
   "execution_count": null,
   "id": "d399c768-2745-4427-977e-ee0545fc8454",
   "metadata": {},
   "outputs": [],
   "source": []
  },
  {
   "cell_type": "code",
   "execution_count": null,
   "id": "05888741-8c1d-4f9a-9c62-9a21769e0462",
   "metadata": {},
   "outputs": [],
   "source": []
  },
  {
   "cell_type": "code",
   "execution_count": null,
   "id": "77818030-c006-4388-9081-78510d53905c",
   "metadata": {},
   "outputs": [],
   "source": []
  },
  {
   "cell_type": "markdown",
   "id": "f9750f22-2180-4997-afe5-147aeb7743aa",
   "metadata": {},
   "source": [
    "### Dataframe\n",
    "\n",
    "                Collection of series\n",
    "\n",
    "                spreadsheet like object\n",
    "\n",
    "                2-D data\n",
    "\n",
    "                row - columns"
   ]
  },
  {
   "cell_type": "code",
   "execution_count": null,
   "id": "ea2a563d-11c8-4557-b14d-77f8d82fb289",
   "metadata": {},
   "outputs": [],
   "source": []
  },
  {
   "cell_type": "code",
   "execution_count": 24,
   "id": "bd772bb1-8a75-4890-8c58-c6ebb5598128",
   "metadata": {},
   "outputs": [],
   "source": [
    "names = pd.Series(['simran', 'harsh', 'deep', 'sachin'])\n",
    "ages = pd.Series([26, 25, 25, 29])"
   ]
  },
  {
   "cell_type": "code",
   "execution_count": 25,
   "id": "22d3b264-b6b9-4faa-9fc5-c35e972a10d5",
   "metadata": {},
   "outputs": [
    {
     "data": {
      "text/plain": [
       "0    simran\n",
       "1     harsh\n",
       "2      deep\n",
       "3    sachin\n",
       "dtype: object"
      ]
     },
     "execution_count": 25,
     "metadata": {},
     "output_type": "execute_result"
    }
   ],
   "source": [
    "names"
   ]
  },
  {
   "cell_type": "code",
   "execution_count": 26,
   "id": "c12ce616-d6fa-45f1-a6e5-ba7251158abb",
   "metadata": {},
   "outputs": [
    {
     "data": {
      "text/plain": [
       "0    26\n",
       "1    25\n",
       "2    25\n",
       "3    29\n",
       "dtype: int64"
      ]
     },
     "execution_count": 26,
     "metadata": {},
     "output_type": "execute_result"
    }
   ],
   "source": [
    "ages"
   ]
  },
  {
   "cell_type": "code",
   "execution_count": null,
   "id": "a270eb1d-9c6f-471f-a071-a5c77f6876d8",
   "metadata": {},
   "outputs": [],
   "source": []
  },
  {
   "cell_type": "code",
   "execution_count": 27,
   "id": "f9d74448-156b-4ce4-a2cf-c9eaacc76823",
   "metadata": {},
   "outputs": [
    {
     "data": {
      "text/html": [
       "<div>\n",
       "<style scoped>\n",
       "    .dataframe tbody tr th:only-of-type {\n",
       "        vertical-align: middle;\n",
       "    }\n",
       "\n",
       "    .dataframe tbody tr th {\n",
       "        vertical-align: top;\n",
       "    }\n",
       "\n",
       "    .dataframe thead th {\n",
       "        text-align: right;\n",
       "    }\n",
       "</style>\n",
       "<table border=\"1\" class=\"dataframe\">\n",
       "  <thead>\n",
       "    <tr style=\"text-align: right;\">\n",
       "      <th></th>\n",
       "      <th>names</th>\n",
       "      <th>ages</th>\n",
       "    </tr>\n",
       "  </thead>\n",
       "  <tbody>\n",
       "    <tr>\n",
       "      <th>0</th>\n",
       "      <td>simran</td>\n",
       "      <td>26</td>\n",
       "    </tr>\n",
       "    <tr>\n",
       "      <th>1</th>\n",
       "      <td>harsh</td>\n",
       "      <td>25</td>\n",
       "    </tr>\n",
       "    <tr>\n",
       "      <th>2</th>\n",
       "      <td>deep</td>\n",
       "      <td>25</td>\n",
       "    </tr>\n",
       "    <tr>\n",
       "      <th>3</th>\n",
       "      <td>sachin</td>\n",
       "      <td>29</td>\n",
       "    </tr>\n",
       "  </tbody>\n",
       "</table>\n",
       "</div>"
      ],
      "text/plain": [
       "    names  ages\n",
       "0  simran    26\n",
       "1   harsh    25\n",
       "2    deep    25\n",
       "3  sachin    29"
      ]
     },
     "execution_count": 27,
     "metadata": {},
     "output_type": "execute_result"
    }
   ],
   "source": [
    "pd.DataFrame({\n",
    "    'names':names,\n",
    "    'ages':ages\n",
    "})"
   ]
  },
  {
   "cell_type": "code",
   "execution_count": null,
   "id": "a3a8b0e5-c77f-4ca0-b408-7a932e54d108",
   "metadata": {},
   "outputs": [],
   "source": []
  },
  {
   "cell_type": "code",
   "execution_count": null,
   "id": "6febd050-618d-497a-b693-d24358c3f4e5",
   "metadata": {},
   "outputs": [],
   "source": []
  },
  {
   "cell_type": "code",
   "execution_count": 31,
   "id": "5a75de01-1863-40c2-ab1a-cb0e1d04e0a9",
   "metadata": {},
   "outputs": [
    {
     "data": {
      "text/html": [
       "<div>\n",
       "<style scoped>\n",
       "    .dataframe tbody tr th:only-of-type {\n",
       "        vertical-align: middle;\n",
       "    }\n",
       "\n",
       "    .dataframe tbody tr th {\n",
       "        vertical-align: top;\n",
       "    }\n",
       "\n",
       "    .dataframe thead th {\n",
       "        text-align: right;\n",
       "    }\n",
       "</style>\n",
       "<table border=\"1\" class=\"dataframe\">\n",
       "  <thead>\n",
       "    <tr style=\"text-align: right;\">\n",
       "      <th></th>\n",
       "      <th>country</th>\n",
       "      <th>salary</th>\n",
       "      <th>height</th>\n",
       "      <th>weight</th>\n",
       "    </tr>\n",
       "  </thead>\n",
       "  <tbody>\n",
       "    <tr>\n",
       "      <th>a</th>\n",
       "      <td>aus</td>\n",
       "      <td>75</td>\n",
       "      <td>187</td>\n",
       "      <td>49</td>\n",
       "    </tr>\n",
       "    <tr>\n",
       "      <th>b</th>\n",
       "      <td>usa</td>\n",
       "      <td>37</td>\n",
       "      <td>185</td>\n",
       "      <td>55</td>\n",
       "    </tr>\n",
       "    <tr>\n",
       "      <th>c</th>\n",
       "      <td>india</td>\n",
       "      <td>52</td>\n",
       "      <td>145</td>\n",
       "      <td>75</td>\n",
       "    </tr>\n",
       "    <tr>\n",
       "      <th>d</th>\n",
       "      <td>aus</td>\n",
       "      <td>89</td>\n",
       "      <td>177</td>\n",
       "      <td>58</td>\n",
       "    </tr>\n",
       "    <tr>\n",
       "      <th>e</th>\n",
       "      <td>usa</td>\n",
       "      <td>74</td>\n",
       "      <td>133</td>\n",
       "      <td>77</td>\n",
       "    </tr>\n",
       "    <tr>\n",
       "      <th>f</th>\n",
       "      <td>aus</td>\n",
       "      <td>82</td>\n",
       "      <td>186</td>\n",
       "      <td>82</td>\n",
       "    </tr>\n",
       "    <tr>\n",
       "      <th>g</th>\n",
       "      <td>usa</td>\n",
       "      <td>89</td>\n",
       "      <td>172</td>\n",
       "      <td>60</td>\n",
       "    </tr>\n",
       "    <tr>\n",
       "      <th>h</th>\n",
       "      <td>china</td>\n",
       "      <td>39</td>\n",
       "      <td>142</td>\n",
       "      <td>83</td>\n",
       "    </tr>\n",
       "    <tr>\n",
       "      <th>i</th>\n",
       "      <td>aus</td>\n",
       "      <td>31</td>\n",
       "      <td>139</td>\n",
       "      <td>52</td>\n",
       "    </tr>\n",
       "    <tr>\n",
       "      <th>j</th>\n",
       "      <td>india</td>\n",
       "      <td>66</td>\n",
       "      <td>168</td>\n",
       "      <td>50</td>\n",
       "    </tr>\n",
       "    <tr>\n",
       "      <th>k</th>\n",
       "      <td>aus</td>\n",
       "      <td>78</td>\n",
       "      <td>146</td>\n",
       "      <td>51</td>\n",
       "    </tr>\n",
       "    <tr>\n",
       "      <th>l</th>\n",
       "      <td>china</td>\n",
       "      <td>63</td>\n",
       "      <td>124</td>\n",
       "      <td>41</td>\n",
       "    </tr>\n",
       "    <tr>\n",
       "      <th>m</th>\n",
       "      <td>china</td>\n",
       "      <td>79</td>\n",
       "      <td>121</td>\n",
       "      <td>71</td>\n",
       "    </tr>\n",
       "    <tr>\n",
       "      <th>n</th>\n",
       "      <td>usa</td>\n",
       "      <td>50</td>\n",
       "      <td>178</td>\n",
       "      <td>43</td>\n",
       "    </tr>\n",
       "    <tr>\n",
       "      <th>o</th>\n",
       "      <td>china</td>\n",
       "      <td>52</td>\n",
       "      <td>146</td>\n",
       "      <td>80</td>\n",
       "    </tr>\n",
       "    <tr>\n",
       "      <th>p</th>\n",
       "      <td>usa</td>\n",
       "      <td>51</td>\n",
       "      <td>132</td>\n",
       "      <td>49</td>\n",
       "    </tr>\n",
       "    <tr>\n",
       "      <th>q</th>\n",
       "      <td>india</td>\n",
       "      <td>56</td>\n",
       "      <td>168</td>\n",
       "      <td>56</td>\n",
       "    </tr>\n",
       "    <tr>\n",
       "      <th>r</th>\n",
       "      <td>india</td>\n",
       "      <td>53</td>\n",
       "      <td>130</td>\n",
       "      <td>71</td>\n",
       "    </tr>\n",
       "    <tr>\n",
       "      <th>s</th>\n",
       "      <td>aus</td>\n",
       "      <td>82</td>\n",
       "      <td>139</td>\n",
       "      <td>62</td>\n",
       "    </tr>\n",
       "    <tr>\n",
       "      <th>t</th>\n",
       "      <td>india</td>\n",
       "      <td>89</td>\n",
       "      <td>140</td>\n",
       "      <td>84</td>\n",
       "    </tr>\n",
       "  </tbody>\n",
       "</table>\n",
       "</div>"
      ],
      "text/plain": [
       "  country  salary  height  weight\n",
       "a     aus      75     187      49\n",
       "b     usa      37     185      55\n",
       "c   india      52     145      75\n",
       "d     aus      89     177      58\n",
       "e     usa      74     133      77\n",
       "f     aus      82     186      82\n",
       "g     usa      89     172      60\n",
       "h   china      39     142      83\n",
       "i     aus      31     139      52\n",
       "j   india      66     168      50\n",
       "k     aus      78     146      51\n",
       "l   china      63     124      41\n",
       "m   china      79     121      71\n",
       "n     usa      50     178      43\n",
       "o   china      52     146      80\n",
       "p     usa      51     132      49\n",
       "q   india      56     168      56\n",
       "r   india      53     130      71\n",
       "s     aus      82     139      62\n",
       "t   india      89     140      84"
      ]
     },
     "execution_count": 31,
     "metadata": {},
     "output_type": "execute_result"
    }
   ],
   "source": [
    "data = pd.DataFrame({\n",
    "    'country':np.random.choice(['india', 'usa', 'china', 'aus'], 20, True),\n",
    "    'salary':np.random.randint(30, 90, 20),\n",
    "    'height':np.random.randint(120, 190, 20),\n",
    "    'weight':np.random.randint(40, 90, 20)\n",
    "}, index=list('abcdefghijklmnopqrst'))\n",
    "\n",
    "data"
   ]
  },
  {
   "cell_type": "code",
   "execution_count": null,
   "id": "d3422184-4c70-48ed-813f-390685629be6",
   "metadata": {},
   "outputs": [],
   "source": []
  },
  {
   "cell_type": "code",
   "execution_count": 30,
   "id": "7b47865e-dad6-4c5b-bc3f-9c0097fd08c3",
   "metadata": {
    "scrolled": true
   },
   "outputs": [
    {
     "data": {
      "text/plain": [
       "['a',\n",
       " 'b',\n",
       " 'c',\n",
       " 'd',\n",
       " 'e',\n",
       " 'f',\n",
       " 'g',\n",
       " 'h',\n",
       " 'i',\n",
       " 'j',\n",
       " 'k',\n",
       " 'l',\n",
       " 'm',\n",
       " 'n',\n",
       " 'o',\n",
       " 'p',\n",
       " 'q',\n",
       " 'r',\n",
       " 's',\n",
       " 't']"
      ]
     },
     "execution_count": 30,
     "metadata": {},
     "output_type": "execute_result"
    }
   ],
   "source": [
    "list('abcdefghijklmnopqrst')"
   ]
  },
  {
   "cell_type": "code",
   "execution_count": null,
   "id": "50481bdb-2fcd-485e-908c-cef50beca763",
   "metadata": {},
   "outputs": [],
   "source": []
  },
  {
   "cell_type": "code",
   "execution_count": 32,
   "id": "8f889160-e0ee-46e4-8a09-1e7e1ac5ffdc",
   "metadata": {},
   "outputs": [
    {
     "data": {
      "text/html": [
       "<div>\n",
       "<style scoped>\n",
       "    .dataframe tbody tr th:only-of-type {\n",
       "        vertical-align: middle;\n",
       "    }\n",
       "\n",
       "    .dataframe tbody tr th {\n",
       "        vertical-align: top;\n",
       "    }\n",
       "\n",
       "    .dataframe thead th {\n",
       "        text-align: right;\n",
       "    }\n",
       "</style>\n",
       "<table border=\"1\" class=\"dataframe\">\n",
       "  <thead>\n",
       "    <tr style=\"text-align: right;\">\n",
       "      <th></th>\n",
       "      <th>country</th>\n",
       "      <th>salary</th>\n",
       "      <th>height</th>\n",
       "      <th>weight</th>\n",
       "    </tr>\n",
       "  </thead>\n",
       "  <tbody>\n",
       "    <tr>\n",
       "      <th>a</th>\n",
       "      <td>aus</td>\n",
       "      <td>75</td>\n",
       "      <td>187</td>\n",
       "      <td>49</td>\n",
       "    </tr>\n",
       "    <tr>\n",
       "      <th>b</th>\n",
       "      <td>usa</td>\n",
       "      <td>37</td>\n",
       "      <td>185</td>\n",
       "      <td>55</td>\n",
       "    </tr>\n",
       "    <tr>\n",
       "      <th>c</th>\n",
       "      <td>india</td>\n",
       "      <td>52</td>\n",
       "      <td>145</td>\n",
       "      <td>75</td>\n",
       "    </tr>\n",
       "    <tr>\n",
       "      <th>d</th>\n",
       "      <td>aus</td>\n",
       "      <td>89</td>\n",
       "      <td>177</td>\n",
       "      <td>58</td>\n",
       "    </tr>\n",
       "    <tr>\n",
       "      <th>e</th>\n",
       "      <td>usa</td>\n",
       "      <td>74</td>\n",
       "      <td>133</td>\n",
       "      <td>77</td>\n",
       "    </tr>\n",
       "    <tr>\n",
       "      <th>f</th>\n",
       "      <td>aus</td>\n",
       "      <td>82</td>\n",
       "      <td>186</td>\n",
       "      <td>82</td>\n",
       "    </tr>\n",
       "    <tr>\n",
       "      <th>g</th>\n",
       "      <td>usa</td>\n",
       "      <td>89</td>\n",
       "      <td>172</td>\n",
       "      <td>60</td>\n",
       "    </tr>\n",
       "    <tr>\n",
       "      <th>h</th>\n",
       "      <td>china</td>\n",
       "      <td>39</td>\n",
       "      <td>142</td>\n",
       "      <td>83</td>\n",
       "    </tr>\n",
       "    <tr>\n",
       "      <th>i</th>\n",
       "      <td>aus</td>\n",
       "      <td>31</td>\n",
       "      <td>139</td>\n",
       "      <td>52</td>\n",
       "    </tr>\n",
       "    <tr>\n",
       "      <th>j</th>\n",
       "      <td>india</td>\n",
       "      <td>66</td>\n",
       "      <td>168</td>\n",
       "      <td>50</td>\n",
       "    </tr>\n",
       "    <tr>\n",
       "      <th>k</th>\n",
       "      <td>aus</td>\n",
       "      <td>78</td>\n",
       "      <td>146</td>\n",
       "      <td>51</td>\n",
       "    </tr>\n",
       "    <tr>\n",
       "      <th>l</th>\n",
       "      <td>china</td>\n",
       "      <td>63</td>\n",
       "      <td>124</td>\n",
       "      <td>41</td>\n",
       "    </tr>\n",
       "    <tr>\n",
       "      <th>m</th>\n",
       "      <td>china</td>\n",
       "      <td>79</td>\n",
       "      <td>121</td>\n",
       "      <td>71</td>\n",
       "    </tr>\n",
       "    <tr>\n",
       "      <th>n</th>\n",
       "      <td>usa</td>\n",
       "      <td>50</td>\n",
       "      <td>178</td>\n",
       "      <td>43</td>\n",
       "    </tr>\n",
       "    <tr>\n",
       "      <th>o</th>\n",
       "      <td>china</td>\n",
       "      <td>52</td>\n",
       "      <td>146</td>\n",
       "      <td>80</td>\n",
       "    </tr>\n",
       "    <tr>\n",
       "      <th>p</th>\n",
       "      <td>usa</td>\n",
       "      <td>51</td>\n",
       "      <td>132</td>\n",
       "      <td>49</td>\n",
       "    </tr>\n",
       "    <tr>\n",
       "      <th>q</th>\n",
       "      <td>india</td>\n",
       "      <td>56</td>\n",
       "      <td>168</td>\n",
       "      <td>56</td>\n",
       "    </tr>\n",
       "    <tr>\n",
       "      <th>r</th>\n",
       "      <td>india</td>\n",
       "      <td>53</td>\n",
       "      <td>130</td>\n",
       "      <td>71</td>\n",
       "    </tr>\n",
       "    <tr>\n",
       "      <th>s</th>\n",
       "      <td>aus</td>\n",
       "      <td>82</td>\n",
       "      <td>139</td>\n",
       "      <td>62</td>\n",
       "    </tr>\n",
       "    <tr>\n",
       "      <th>t</th>\n",
       "      <td>india</td>\n",
       "      <td>89</td>\n",
       "      <td>140</td>\n",
       "      <td>84</td>\n",
       "    </tr>\n",
       "  </tbody>\n",
       "</table>\n",
       "</div>"
      ],
      "text/plain": [
       "  country  salary  height  weight\n",
       "a     aus      75     187      49\n",
       "b     usa      37     185      55\n",
       "c   india      52     145      75\n",
       "d     aus      89     177      58\n",
       "e     usa      74     133      77\n",
       "f     aus      82     186      82\n",
       "g     usa      89     172      60\n",
       "h   china      39     142      83\n",
       "i     aus      31     139      52\n",
       "j   india      66     168      50\n",
       "k     aus      78     146      51\n",
       "l   china      63     124      41\n",
       "m   china      79     121      71\n",
       "n     usa      50     178      43\n",
       "o   china      52     146      80\n",
       "p     usa      51     132      49\n",
       "q   india      56     168      56\n",
       "r   india      53     130      71\n",
       "s     aus      82     139      62\n",
       "t   india      89     140      84"
      ]
     },
     "execution_count": 32,
     "metadata": {},
     "output_type": "execute_result"
    }
   ],
   "source": [
    "data"
   ]
  },
  {
   "cell_type": "code",
   "execution_count": 34,
   "id": "72e91594-7a29-474b-9598-e12739038f1e",
   "metadata": {},
   "outputs": [
    {
     "name": "stdout",
     "output_type": "stream",
     "text": [
      "['T', '_AXIS_LEN', '_AXIS_ORDERS', '_AXIS_TO_AXIS_NUMBER', '_HANDLED_TYPES', '__abs__', '__add__', '__and__', '__annotations__', '__array__', '__array_priority__', '__array_ufunc__', '__bool__', '__class__', '__column_consortium_standard__', '__contains__', '__copy__', '__deepcopy__', '__delattr__', '__delitem__', '__dict__', '__dir__', '__divmod__', '__doc__', '__eq__', '__finalize__', '__float__', '__floordiv__', '__format__', '__ge__', '__getattr__', '__getattribute__', '__getitem__', '__getstate__', '__gt__', '__hash__', '__iadd__', '__iand__', '__ifloordiv__', '__imod__', '__imul__', '__init__', '__init_subclass__', '__int__', '__invert__', '__ior__', '__ipow__', '__isub__', '__iter__', '__itruediv__', '__ixor__', '__le__', '__len__', '__lt__', '__matmul__', '__mod__', '__module__', '__mul__', '__ne__', '__neg__', '__new__', '__nonzero__', '__or__', '__pandas_priority__', '__pos__', '__pow__', '__radd__', '__rand__', '__rdivmod__', '__reduce__', '__reduce_ex__', '__repr__', '__rfloordiv__', '__rmatmul__', '__rmod__', '__rmul__', '__ror__', '__round__', '__rpow__', '__rsub__', '__rtruediv__', '__rxor__', '__setattr__', '__setitem__', '__setstate__', '__sizeof__', '__str__', '__sub__', '__subclasshook__', '__truediv__', '__weakref__', '__xor__', '_accessors', '_accum_func', '_agg_examples_doc', '_agg_see_also_doc', '_align_for_op', '_align_frame', '_align_series', '_append', '_arith_method', '_as_manager', '_attrs', '_binop', '_can_hold_na', '_check_inplace_and_allows_duplicate_labels', '_check_is_chained_assignment_possible', '_check_label_or_level_ambiguity', '_check_setitem_copy', '_clear_item_cache', '_clip_with_one_bound', '_clip_with_scalar', '_cmp_method', '_consolidate', '_consolidate_inplace', '_construct_axes_dict', '_construct_result', '_constructor', '_constructor_expanddim', '_constructor_expanddim_from_mgr', '_constructor_from_mgr', '_convert_dtypes', '_data', '_deprecate_downcast', '_dir_additions', '_dir_deletions', '_drop_axis', '_drop_labels_or_levels', '_duplicated', '_expanddim_from_mgr', '_find_valid_index', '_flags', '_flex_method', '_from_mgr', '_get_axis', '_get_axis_name', '_get_axis_number', '_get_axis_resolvers', '_get_block_manager_axis', '_get_bool_data', '_get_cacher', '_get_cleaned_column_resolvers', '_get_index_resolvers', '_get_label_or_level_values', '_get_numeric_data', '_get_rows_with_mask', '_get_value', '_get_values_tuple', '_get_with', '_getitem_slice', '_gotitem', '_hidden_attrs', '_indexed_same', '_info_axis', '_info_axis_name', '_info_axis_number', '_init_dict', '_init_mgr', '_inplace_method', '_internal_names', '_internal_names_set', '_is_cached', '_is_copy', '_is_label_or_level_reference', '_is_label_reference', '_is_level_reference', '_is_mixed_type', '_is_view', '_item_cache', '_ixs', '_logical_func', '_logical_method', '_map_values', '_maybe_update_cacher', '_memory_usage', '_metadata', '_mgr', '_min_count_stat_function', '_name', '_needs_reindex_multi', '_pad_or_backfill', '_protect_consolidate', '_reduce', '_references', '_reindex_axes', '_reindex_indexer', '_reindex_multi', '_reindex_with_indexers', '_rename', '_replace_single', '_repr_data_resource_', '_repr_latex_', '_reset_cache', '_reset_cacher', '_set_as_cached', '_set_axis', '_set_axis_name', '_set_axis_nocheck', '_set_is_copy', '_set_labels', '_set_name', '_set_value', '_set_values', '_set_with', '_set_with_engine', '_shift_with_freq', '_slice', '_stat_function', '_stat_function_ddof', '_take_with_is_copy', '_to_latex_via_styler', '_typ', '_update_inplace', '_validate_dtype', '_values', '_where', 'abs', 'add', 'add_prefix', 'add_suffix', 'agg', 'aggregate', 'align', 'all', 'any', 'apply', 'argmax', 'argmin', 'argsort', 'array', 'asfreq', 'asof', 'astype', 'at', 'at_time', 'attrs', 'autocorr', 'axes', 'backfill', 'between', 'between_time', 'bfill', 'bool', 'clip', 'combine', 'combine_first', 'compare', 'convert_dtypes', 'copy', 'corr', 'count', 'cov', 'cummax', 'cummin', 'cumprod', 'cumsum', 'describe', 'diff', 'div', 'divide', 'divmod', 'dot', 'drop', 'drop_duplicates', 'droplevel', 'dropna', 'dtype', 'dtypes', 'duplicated', 'empty', 'eq', 'equals', 'ewm', 'expanding', 'explode', 'factorize', 'ffill', 'fillna', 'filter', 'first', 'first_valid_index', 'flags', 'floordiv', 'ge', 'get', 'groupby', 'gt', 'hasnans', 'head', 'hist', 'iat', 'idxmax', 'idxmin', 'iloc', 'index', 'infer_objects', 'info', 'interpolate', 'is_monotonic_decreasing', 'is_monotonic_increasing', 'is_unique', 'isin', 'isna', 'isnull', 'item', 'items', 'keys', 'kurt', 'kurtosis', 'last', 'last_valid_index', 'le', 'loc', 'lt', 'map', 'mask', 'max', 'mean', 'median', 'memory_usage', 'min', 'mod', 'mode', 'mul', 'multiply', 'name', 'nbytes', 'ndim', 'ne', 'nlargest', 'notna', 'notnull', 'nsmallest', 'nunique', 'pad', 'pct_change', 'pipe', 'plot', 'pop', 'pow', 'prod', 'product', 'quantile', 'radd', 'rank', 'ravel', 'rdiv', 'rdivmod', 'reindex', 'reindex_like', 'rename', 'rename_axis', 'reorder_levels', 'repeat', 'replace', 'resample', 'reset_index', 'rfloordiv', 'rmod', 'rmul', 'rolling', 'round', 'rpow', 'rsub', 'rtruediv', 'sample', 'searchsorted', 'sem', 'set_axis', 'set_flags', 'shape', 'shift', 'size', 'skew', 'sort_index', 'sort_values', 'squeeze', 'std', 'sub', 'subtract', 'sum', 'swapaxes', 'swaplevel', 'tail', 'take', 'to_clipboard', 'to_csv', 'to_dict', 'to_excel', 'to_frame', 'to_hdf', 'to_json', 'to_latex', 'to_list', 'to_markdown', 'to_numpy', 'to_period', 'to_pickle', 'to_sql', 'to_string', 'to_timestamp', 'to_xarray', 'transform', 'transpose', 'truediv', 'truncate', 'tz_convert', 'tz_localize', 'unique', 'unstack', 'update', 'value_counts', 'values', 'var', 'view', 'where', 'xs']\n"
     ]
    }
   ],
   "source": [
    "print(dir(s1))"
   ]
  },
  {
   "cell_type": "code",
   "execution_count": 33,
   "id": "12d73462-54e5-4604-8426-65946b0c144d",
   "metadata": {},
   "outputs": [
    {
     "name": "stdout",
     "output_type": "stream",
     "text": [
      "['T', '_AXIS_LEN', '_AXIS_ORDERS', '_AXIS_TO_AXIS_NUMBER', '_HANDLED_TYPES', '__abs__', '__add__', '__and__', '__annotations__', '__array__', '__array_priority__', '__array_ufunc__', '__bool__', '__class__', '__contains__', '__copy__', '__dataframe__', '__dataframe_consortium_standard__', '__deepcopy__', '__delattr__', '__delitem__', '__dict__', '__dir__', '__divmod__', '__doc__', '__eq__', '__finalize__', '__floordiv__', '__format__', '__ge__', '__getattr__', '__getattribute__', '__getitem__', '__getstate__', '__gt__', '__hash__', '__iadd__', '__iand__', '__ifloordiv__', '__imod__', '__imul__', '__init__', '__init_subclass__', '__invert__', '__ior__', '__ipow__', '__isub__', '__iter__', '__itruediv__', '__ixor__', '__le__', '__len__', '__lt__', '__matmul__', '__mod__', '__module__', '__mul__', '__ne__', '__neg__', '__new__', '__nonzero__', '__or__', '__pandas_priority__', '__pos__', '__pow__', '__radd__', '__rand__', '__rdivmod__', '__reduce__', '__reduce_ex__', '__repr__', '__rfloordiv__', '__rmatmul__', '__rmod__', '__rmul__', '__ror__', '__round__', '__rpow__', '__rsub__', '__rtruediv__', '__rxor__', '__setattr__', '__setitem__', '__setstate__', '__sizeof__', '__str__', '__sub__', '__subclasshook__', '__truediv__', '__weakref__', '__xor__', '_accessors', '_accum_func', '_agg_examples_doc', '_agg_see_also_doc', '_align_for_op', '_align_frame', '_align_series', '_append', '_arith_method', '_arith_method_with_reindex', '_as_manager', '_attrs', '_box_col_values', '_can_fast_transpose', '_check_inplace_and_allows_duplicate_labels', '_check_is_chained_assignment_possible', '_check_label_or_level_ambiguity', '_check_setitem_copy', '_clear_item_cache', '_clip_with_one_bound', '_clip_with_scalar', '_cmp_method', '_combine_frame', '_consolidate', '_consolidate_inplace', '_construct_axes_dict', '_construct_result', '_constructor', '_constructor_from_mgr', '_constructor_sliced', '_constructor_sliced_from_mgr', '_create_data_for_split_and_tight_to_dict', '_data', '_deprecate_downcast', '_dir_additions', '_dir_deletions', '_dispatch_frame_op', '_drop_axis', '_drop_labels_or_levels', '_ensure_valid_index', '_find_valid_index', '_flags', '_flex_arith_method', '_flex_cmp_method', '_from_arrays', '_from_mgr', '_get_agg_axis', '_get_axis', '_get_axis_name', '_get_axis_number', '_get_axis_resolvers', '_get_block_manager_axis', '_get_bool_data', '_get_cleaned_column_resolvers', '_get_column_array', '_get_index_resolvers', '_get_item_cache', '_get_label_or_level_values', '_get_numeric_data', '_get_value', '_getitem_bool_array', '_getitem_multilevel', '_getitem_nocopy', '_getitem_slice', '_gotitem', '_hidden_attrs', '_indexed_same', '_info_axis', '_info_axis_name', '_info_axis_number', '_info_repr', '_init_mgr', '_inplace_method', '_internal_names', '_internal_names_set', '_is_copy', '_is_homogeneous_type', '_is_label_or_level_reference', '_is_label_reference', '_is_level_reference', '_is_mixed_type', '_is_view', '_iset_item', '_iset_item_mgr', '_iset_not_inplace', '_item_cache', '_iter_column_arrays', '_ixs', '_logical_func', '_logical_method', '_maybe_align_series_as_frame', '_maybe_cache_changed', '_maybe_update_cacher', '_metadata', '_mgr', '_min_count_stat_function', '_needs_reindex_multi', '_pad_or_backfill', '_protect_consolidate', '_reduce', '_reduce_axis1', '_reindex_axes', '_reindex_multi', '_reindex_with_indexers', '_rename', '_replace_columnwise', '_repr_data_resource_', '_repr_fits_horizontal_', '_repr_fits_vertical_', '_repr_html_', '_repr_latex_', '_reset_cache', '_reset_cacher', '_sanitize_column', '_series', '_set_axis', '_set_axis_name', '_set_axis_nocheck', '_set_is_copy', '_set_item', '_set_item_frame_value', '_set_item_mgr', '_set_value', '_setitem_array', '_setitem_frame', '_setitem_slice', '_shift_with_freq', '_should_reindex_frame_op', '_slice', '_sliced_from_mgr', '_stat_function', '_stat_function_ddof', '_take_with_is_copy', '_to_dict_of_blocks', '_to_latex_via_styler', '_typ', '_update_inplace', '_validate_dtype', '_values', '_where', 'abs', 'add', 'add_prefix', 'add_suffix', 'agg', 'aggregate', 'align', 'all', 'any', 'apply', 'applymap', 'asfreq', 'asof', 'assign', 'astype', 'at', 'at_time', 'attrs', 'axes', 'backfill', 'between_time', 'bfill', 'bool', 'boxplot', 'clip', 'columns', 'combine', 'combine_first', 'compare', 'convert_dtypes', 'copy', 'corr', 'corrwith', 'count', 'country', 'cov', 'cummax', 'cummin', 'cumprod', 'cumsum', 'describe', 'diff', 'div', 'divide', 'dot', 'drop', 'drop_duplicates', 'droplevel', 'dropna', 'dtypes', 'duplicated', 'empty', 'eq', 'equals', 'eval', 'ewm', 'expanding', 'explode', 'ffill', 'fillna', 'filter', 'first', 'first_valid_index', 'flags', 'floordiv', 'from_dict', 'from_records', 'ge', 'get', 'groupby', 'gt', 'head', 'height', 'hist', 'iat', 'idxmax', 'idxmin', 'iloc', 'index', 'infer_objects', 'info', 'insert', 'interpolate', 'isetitem', 'isin', 'isna', 'isnull', 'items', 'iterrows', 'itertuples', 'join', 'keys', 'kurt', 'kurtosis', 'last', 'last_valid_index', 'le', 'loc', 'lt', 'map', 'mask', 'max', 'mean', 'median', 'melt', 'memory_usage', 'merge', 'min', 'mod', 'mode', 'mul', 'multiply', 'ndim', 'ne', 'nlargest', 'notna', 'notnull', 'nsmallest', 'nunique', 'pad', 'pct_change', 'pipe', 'pivot', 'pivot_table', 'plot', 'pop', 'pow', 'prod', 'product', 'quantile', 'query', 'radd', 'rank', 'rdiv', 'reindex', 'reindex_like', 'rename', 'rename_axis', 'reorder_levels', 'replace', 'resample', 'reset_index', 'rfloordiv', 'rmod', 'rmul', 'rolling', 'round', 'rpow', 'rsub', 'rtruediv', 'salary', 'sample', 'select_dtypes', 'sem', 'set_axis', 'set_flags', 'set_index', 'shape', 'shift', 'size', 'skew', 'sort_index', 'sort_values', 'squeeze', 'stack', 'std', 'style', 'sub', 'subtract', 'sum', 'swapaxes', 'swaplevel', 'tail', 'take', 'to_clipboard', 'to_csv', 'to_dict', 'to_excel', 'to_feather', 'to_gbq', 'to_hdf', 'to_html', 'to_json', 'to_latex', 'to_markdown', 'to_numpy', 'to_orc', 'to_parquet', 'to_period', 'to_pickle', 'to_records', 'to_sql', 'to_stata', 'to_string', 'to_timestamp', 'to_xarray', 'to_xml', 'transform', 'transpose', 'truediv', 'truncate', 'tz_convert', 'tz_localize', 'unstack', 'update', 'value_counts', 'values', 'var', 'weight', 'where', 'xs']\n"
     ]
    }
   ],
   "source": [
    "print(dir(data))"
   ]
  },
  {
   "cell_type": "code",
   "execution_count": null,
   "id": "b2edb58c-48a5-409b-92d8-f40d11dcc9b5",
   "metadata": {},
   "outputs": [],
   "source": []
  },
  {
   "cell_type": "code",
   "execution_count": 35,
   "id": "3371272b-b932-440b-8cdd-46a9f35f5348",
   "metadata": {},
   "outputs": [
    {
     "data": {
      "text/html": [
       "<div>\n",
       "<style scoped>\n",
       "    .dataframe tbody tr th:only-of-type {\n",
       "        vertical-align: middle;\n",
       "    }\n",
       "\n",
       "    .dataframe tbody tr th {\n",
       "        vertical-align: top;\n",
       "    }\n",
       "\n",
       "    .dataframe thead th {\n",
       "        text-align: right;\n",
       "    }\n",
       "</style>\n",
       "<table border=\"1\" class=\"dataframe\">\n",
       "  <thead>\n",
       "    <tr style=\"text-align: right;\">\n",
       "      <th></th>\n",
       "      <th>country</th>\n",
       "      <th>salary</th>\n",
       "      <th>height</th>\n",
       "      <th>weight</th>\n",
       "    </tr>\n",
       "  </thead>\n",
       "  <tbody>\n",
       "    <tr>\n",
       "      <th>a</th>\n",
       "      <td>aus</td>\n",
       "      <td>75</td>\n",
       "      <td>187</td>\n",
       "      <td>49</td>\n",
       "    </tr>\n",
       "    <tr>\n",
       "      <th>b</th>\n",
       "      <td>usa</td>\n",
       "      <td>37</td>\n",
       "      <td>185</td>\n",
       "      <td>55</td>\n",
       "    </tr>\n",
       "    <tr>\n",
       "      <th>c</th>\n",
       "      <td>india</td>\n",
       "      <td>52</td>\n",
       "      <td>145</td>\n",
       "      <td>75</td>\n",
       "    </tr>\n",
       "    <tr>\n",
       "      <th>d</th>\n",
       "      <td>aus</td>\n",
       "      <td>89</td>\n",
       "      <td>177</td>\n",
       "      <td>58</td>\n",
       "    </tr>\n",
       "    <tr>\n",
       "      <th>e</th>\n",
       "      <td>usa</td>\n",
       "      <td>74</td>\n",
       "      <td>133</td>\n",
       "      <td>77</td>\n",
       "    </tr>\n",
       "    <tr>\n",
       "      <th>f</th>\n",
       "      <td>aus</td>\n",
       "      <td>82</td>\n",
       "      <td>186</td>\n",
       "      <td>82</td>\n",
       "    </tr>\n",
       "    <tr>\n",
       "      <th>g</th>\n",
       "      <td>usa</td>\n",
       "      <td>89</td>\n",
       "      <td>172</td>\n",
       "      <td>60</td>\n",
       "    </tr>\n",
       "    <tr>\n",
       "      <th>h</th>\n",
       "      <td>china</td>\n",
       "      <td>39</td>\n",
       "      <td>142</td>\n",
       "      <td>83</td>\n",
       "    </tr>\n",
       "    <tr>\n",
       "      <th>i</th>\n",
       "      <td>aus</td>\n",
       "      <td>31</td>\n",
       "      <td>139</td>\n",
       "      <td>52</td>\n",
       "    </tr>\n",
       "    <tr>\n",
       "      <th>j</th>\n",
       "      <td>india</td>\n",
       "      <td>66</td>\n",
       "      <td>168</td>\n",
       "      <td>50</td>\n",
       "    </tr>\n",
       "    <tr>\n",
       "      <th>k</th>\n",
       "      <td>aus</td>\n",
       "      <td>78</td>\n",
       "      <td>146</td>\n",
       "      <td>51</td>\n",
       "    </tr>\n",
       "    <tr>\n",
       "      <th>l</th>\n",
       "      <td>china</td>\n",
       "      <td>63</td>\n",
       "      <td>124</td>\n",
       "      <td>41</td>\n",
       "    </tr>\n",
       "    <tr>\n",
       "      <th>m</th>\n",
       "      <td>china</td>\n",
       "      <td>79</td>\n",
       "      <td>121</td>\n",
       "      <td>71</td>\n",
       "    </tr>\n",
       "    <tr>\n",
       "      <th>n</th>\n",
       "      <td>usa</td>\n",
       "      <td>50</td>\n",
       "      <td>178</td>\n",
       "      <td>43</td>\n",
       "    </tr>\n",
       "    <tr>\n",
       "      <th>o</th>\n",
       "      <td>china</td>\n",
       "      <td>52</td>\n",
       "      <td>146</td>\n",
       "      <td>80</td>\n",
       "    </tr>\n",
       "    <tr>\n",
       "      <th>p</th>\n",
       "      <td>usa</td>\n",
       "      <td>51</td>\n",
       "      <td>132</td>\n",
       "      <td>49</td>\n",
       "    </tr>\n",
       "    <tr>\n",
       "      <th>q</th>\n",
       "      <td>india</td>\n",
       "      <td>56</td>\n",
       "      <td>168</td>\n",
       "      <td>56</td>\n",
       "    </tr>\n",
       "    <tr>\n",
       "      <th>r</th>\n",
       "      <td>india</td>\n",
       "      <td>53</td>\n",
       "      <td>130</td>\n",
       "      <td>71</td>\n",
       "    </tr>\n",
       "    <tr>\n",
       "      <th>s</th>\n",
       "      <td>aus</td>\n",
       "      <td>82</td>\n",
       "      <td>139</td>\n",
       "      <td>62</td>\n",
       "    </tr>\n",
       "    <tr>\n",
       "      <th>t</th>\n",
       "      <td>india</td>\n",
       "      <td>89</td>\n",
       "      <td>140</td>\n",
       "      <td>84</td>\n",
       "    </tr>\n",
       "  </tbody>\n",
       "</table>\n",
       "</div>"
      ],
      "text/plain": [
       "  country  salary  height  weight\n",
       "a     aus      75     187      49\n",
       "b     usa      37     185      55\n",
       "c   india      52     145      75\n",
       "d     aus      89     177      58\n",
       "e     usa      74     133      77\n",
       "f     aus      82     186      82\n",
       "g     usa      89     172      60\n",
       "h   china      39     142      83\n",
       "i     aus      31     139      52\n",
       "j   india      66     168      50\n",
       "k     aus      78     146      51\n",
       "l   china      63     124      41\n",
       "m   china      79     121      71\n",
       "n     usa      50     178      43\n",
       "o   china      52     146      80\n",
       "p     usa      51     132      49\n",
       "q   india      56     168      56\n",
       "r   india      53     130      71\n",
       "s     aus      82     139      62\n",
       "t   india      89     140      84"
      ]
     },
     "execution_count": 35,
     "metadata": {},
     "output_type": "execute_result"
    }
   ],
   "source": [
    "data"
   ]
  },
  {
   "cell_type": "code",
   "execution_count": 36,
   "id": "f01a18dc-90dc-4675-8a83-85188c293e3c",
   "metadata": {},
   "outputs": [
    {
     "name": "stdout",
     "output_type": "stream",
     "text": [
      "<class 'pandas.core.frame.DataFrame'>\n",
      "Index: 20 entries, a to t\n",
      "Data columns (total 4 columns):\n",
      " #   Column   Non-Null Count  Dtype \n",
      "---  ------   --------------  ----- \n",
      " 0   country  20 non-null     object\n",
      " 1   salary   20 non-null     int32 \n",
      " 2   height   20 non-null     int32 \n",
      " 3   weight   20 non-null     int32 \n",
      "dtypes: int32(3), object(1)\n",
      "memory usage: 560.0+ bytes\n"
     ]
    }
   ],
   "source": [
    "data.info()"
   ]
  },
  {
   "cell_type": "code",
   "execution_count": null,
   "id": "9b91f0a2-3327-4939-adbf-96c3dfa46066",
   "metadata": {},
   "outputs": [],
   "source": []
  },
  {
   "cell_type": "code",
   "execution_count": 37,
   "id": "6cc14e59-5b64-49b8-987b-6d1215644105",
   "metadata": {},
   "outputs": [
    {
     "data": {
      "text/plain": [
       "(20, 4)"
      ]
     },
     "execution_count": 37,
     "metadata": {},
     "output_type": "execute_result"
    }
   ],
   "source": [
    "data.shape"
   ]
  },
  {
   "cell_type": "code",
   "execution_count": null,
   "id": "235e3ade-1f7c-4221-a492-0b0baf467ba0",
   "metadata": {},
   "outputs": [],
   "source": []
  },
  {
   "cell_type": "code",
   "execution_count": 38,
   "id": "23a3dbfd-e1c9-4bc2-9bac-c49e0cf0fa39",
   "metadata": {},
   "outputs": [],
   "source": [
    "import seaborn as sns"
   ]
  },
  {
   "cell_type": "code",
   "execution_count": 39,
   "id": "4454fb64-7c14-4acc-9458-6394e112d7ed",
   "metadata": {},
   "outputs": [
    {
     "data": {
      "text/html": [
       "<div>\n",
       "<style scoped>\n",
       "    .dataframe tbody tr th:only-of-type {\n",
       "        vertical-align: middle;\n",
       "    }\n",
       "\n",
       "    .dataframe tbody tr th {\n",
       "        vertical-align: top;\n",
       "    }\n",
       "\n",
       "    .dataframe thead th {\n",
       "        text-align: right;\n",
       "    }\n",
       "</style>\n",
       "<table border=\"1\" class=\"dataframe\">\n",
       "  <thead>\n",
       "    <tr style=\"text-align: right;\">\n",
       "      <th></th>\n",
       "      <th>total_bill</th>\n",
       "      <th>tip</th>\n",
       "      <th>sex</th>\n",
       "      <th>smoker</th>\n",
       "      <th>day</th>\n",
       "      <th>time</th>\n",
       "      <th>size</th>\n",
       "    </tr>\n",
       "  </thead>\n",
       "  <tbody>\n",
       "    <tr>\n",
       "      <th>0</th>\n",
       "      <td>16.99</td>\n",
       "      <td>1.01</td>\n",
       "      <td>Female</td>\n",
       "      <td>No</td>\n",
       "      <td>Sun</td>\n",
       "      <td>Dinner</td>\n",
       "      <td>2</td>\n",
       "    </tr>\n",
       "    <tr>\n",
       "      <th>1</th>\n",
       "      <td>10.34</td>\n",
       "      <td>1.66</td>\n",
       "      <td>Male</td>\n",
       "      <td>No</td>\n",
       "      <td>Sun</td>\n",
       "      <td>Dinner</td>\n",
       "      <td>3</td>\n",
       "    </tr>\n",
       "    <tr>\n",
       "      <th>2</th>\n",
       "      <td>21.01</td>\n",
       "      <td>3.50</td>\n",
       "      <td>Male</td>\n",
       "      <td>No</td>\n",
       "      <td>Sun</td>\n",
       "      <td>Dinner</td>\n",
       "      <td>3</td>\n",
       "    </tr>\n",
       "    <tr>\n",
       "      <th>3</th>\n",
       "      <td>23.68</td>\n",
       "      <td>3.31</td>\n",
       "      <td>Male</td>\n",
       "      <td>No</td>\n",
       "      <td>Sun</td>\n",
       "      <td>Dinner</td>\n",
       "      <td>2</td>\n",
       "    </tr>\n",
       "    <tr>\n",
       "      <th>4</th>\n",
       "      <td>24.59</td>\n",
       "      <td>3.61</td>\n",
       "      <td>Female</td>\n",
       "      <td>No</td>\n",
       "      <td>Sun</td>\n",
       "      <td>Dinner</td>\n",
       "      <td>4</td>\n",
       "    </tr>\n",
       "    <tr>\n",
       "      <th>...</th>\n",
       "      <td>...</td>\n",
       "      <td>...</td>\n",
       "      <td>...</td>\n",
       "      <td>...</td>\n",
       "      <td>...</td>\n",
       "      <td>...</td>\n",
       "      <td>...</td>\n",
       "    </tr>\n",
       "    <tr>\n",
       "      <th>239</th>\n",
       "      <td>29.03</td>\n",
       "      <td>5.92</td>\n",
       "      <td>Male</td>\n",
       "      <td>No</td>\n",
       "      <td>Sat</td>\n",
       "      <td>Dinner</td>\n",
       "      <td>3</td>\n",
       "    </tr>\n",
       "    <tr>\n",
       "      <th>240</th>\n",
       "      <td>27.18</td>\n",
       "      <td>2.00</td>\n",
       "      <td>Female</td>\n",
       "      <td>Yes</td>\n",
       "      <td>Sat</td>\n",
       "      <td>Dinner</td>\n",
       "      <td>2</td>\n",
       "    </tr>\n",
       "    <tr>\n",
       "      <th>241</th>\n",
       "      <td>22.67</td>\n",
       "      <td>2.00</td>\n",
       "      <td>Male</td>\n",
       "      <td>Yes</td>\n",
       "      <td>Sat</td>\n",
       "      <td>Dinner</td>\n",
       "      <td>2</td>\n",
       "    </tr>\n",
       "    <tr>\n",
       "      <th>242</th>\n",
       "      <td>17.82</td>\n",
       "      <td>1.75</td>\n",
       "      <td>Male</td>\n",
       "      <td>No</td>\n",
       "      <td>Sat</td>\n",
       "      <td>Dinner</td>\n",
       "      <td>2</td>\n",
       "    </tr>\n",
       "    <tr>\n",
       "      <th>243</th>\n",
       "      <td>18.78</td>\n",
       "      <td>3.00</td>\n",
       "      <td>Female</td>\n",
       "      <td>No</td>\n",
       "      <td>Thur</td>\n",
       "      <td>Dinner</td>\n",
       "      <td>2</td>\n",
       "    </tr>\n",
       "  </tbody>\n",
       "</table>\n",
       "<p>244 rows × 7 columns</p>\n",
       "</div>"
      ],
      "text/plain": [
       "     total_bill   tip     sex smoker   day    time  size\n",
       "0         16.99  1.01  Female     No   Sun  Dinner     2\n",
       "1         10.34  1.66    Male     No   Sun  Dinner     3\n",
       "2         21.01  3.50    Male     No   Sun  Dinner     3\n",
       "3         23.68  3.31    Male     No   Sun  Dinner     2\n",
       "4         24.59  3.61  Female     No   Sun  Dinner     4\n",
       "..          ...   ...     ...    ...   ...     ...   ...\n",
       "239       29.03  5.92    Male     No   Sat  Dinner     3\n",
       "240       27.18  2.00  Female    Yes   Sat  Dinner     2\n",
       "241       22.67  2.00    Male    Yes   Sat  Dinner     2\n",
       "242       17.82  1.75    Male     No   Sat  Dinner     2\n",
       "243       18.78  3.00  Female     No  Thur  Dinner     2\n",
       "\n",
       "[244 rows x 7 columns]"
      ]
     },
     "execution_count": 39,
     "metadata": {},
     "output_type": "execute_result"
    }
   ],
   "source": [
    "sns.load_dataset('tips')"
   ]
  },
  {
   "cell_type": "code",
   "execution_count": null,
   "id": "8f9eab3d-03e1-421c-820f-7f88329dac1a",
   "metadata": {},
   "outputs": [],
   "source": []
  }
 ],
 "metadata": {
  "kernelspec": {
   "display_name": "Python 3 (ipykernel)",
   "language": "python",
   "name": "python3"
  },
  "language_info": {
   "codemirror_mode": {
    "name": "ipython",
    "version": 3
   },
   "file_extension": ".py",
   "mimetype": "text/x-python",
   "name": "python",
   "nbconvert_exporter": "python",
   "pygments_lexer": "ipython3",
   "version": "3.11.7"
  }
 },
 "nbformat": 4,
 "nbformat_minor": 5
}
